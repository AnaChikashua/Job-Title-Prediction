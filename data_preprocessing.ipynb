{
 "cells": [
  {
   "cell_type": "code",
   "execution_count": 68,
   "id": "bbe1e4f5",
   "metadata": {
    "pycharm": {
     "name": "#%%\n"
    }
   },
   "outputs": [],
   "source": [
    "import json\n",
    "import pandas as pd\n",
    "import numpy as np\n",
    "import re\n",
    "import nltk\n",
    "from langdetect import detect"
   ]
  },
  {
   "cell_type": "code",
   "execution_count": 76,
   "id": "d4400c5a",
   "metadata": {},
   "outputs": [],
   "source": [
    "import warnings\n",
    "warnings.filterwarnings('ignore')"
   ]
  },
  {
   "cell_type": "code",
   "execution_count": 2,
   "id": "0a129057",
   "metadata": {
    "pycharm": {
     "name": "#%%\n"
    }
   },
   "outputs": [],
   "source": [
    "json_data_path_66 = 'media/indeed_usa-indeed_usa_job_data__20211001_20211231_deduped_n_merged_20220305_004258919873466.ldjson'\n",
    "json_data_path_88 = 'media/indeed_usa-indeed_usa_job_data__20211001_20211231_deduped_n_merged_20220305_004328202689288.ldjson'\n",
    "engineering_jobs = 'media/engineering_jobs.csv'"
   ]
  },
  {
   "cell_type": "code",
   "execution_count": 20,
   "id": "4d8d5f17",
   "metadata": {
    "pycharm": {
     "name": "#%%\n"
    }
   },
   "outputs": [],
   "source": [
    "data = pd.read_csv(engineering_jobs)"
   ]
  },
  {
   "cell_type": "code",
   "execution_count": 21,
   "id": "9aa51ee5",
   "metadata": {
    "pycharm": {
     "name": "#%%\n"
    }
   },
   "outputs": [],
   "source": [
    "def read_json_data(file_path: str) -> pd.DataFrame:\n",
    "    \"\"\"Function for read json data and convert to pandas DataFrame\"\"\"\n",
    "    list_data = []\n",
    "    with open(file_path, mode='r', errors='ignore', encoding=\"utf8\") as json_file:\n",
    "        for ob in json_file:\n",
    "            list_data.append(json.loads(ob))\n",
    "    return pd.DataFrame(list_data)"
   ]
  },
  {
   "cell_type": "code",
   "execution_count": 22,
   "id": "c307df15",
   "metadata": {
    "pycharm": {
     "name": "#%%\n"
    }
   },
   "outputs": [],
   "source": [
    "indeed_66 = read_json_data(json_data_path_66)\n",
    "indeed_88 = read_json_data(json_data_path_88)"
   ]
  },
  {
   "cell_type": "code",
   "execution_count": 23,
   "id": "d8815394",
   "metadata": {
    "pycharm": {
     "name": "#%%\n"
    }
   },
   "outputs": [],
   "source": [
    "data = data.replace(np.nan,'')\n",
    "indeed_66 = indeed_66.replace(np.nan, '')\n",
    "indeed_88 = indeed_88.replace(np.nan, '')"
   ]
  },
  {
   "cell_type": "code",
   "execution_count": 24,
   "id": "a1e5a0c8",
   "metadata": {
    "pycharm": {
     "name": "#%%\n"
    }
   },
   "outputs": [],
   "source": [
    "data['description'] = data['description']+data['basic_qualifications']+data['prefered_qualifications']+data['category']+data['skills']\n",
    "indeed_66['job_description'] = indeed_66['job_description'] + indeed_66['category'] + indeed_66['company_description']\n",
    "indeed_88['job_description'] = indeed_88['job_description'] + indeed_88['category'] + indeed_88['company_description']"
   ]
  },
  {
   "cell_type": "code",
   "execution_count": 25,
   "id": "20bf7fb1",
   "metadata": {
    "pycharm": {
     "name": "#%%\n"
    }
   },
   "outputs": [
    {
     "data": {
      "text/plain": [
       "0"
      ]
     },
     "execution_count": 25,
     "metadata": {},
     "output_type": "execute_result"
    }
   ],
   "source": [
    "sum(pd.read_csv(engineering_jobs)['title']=='')"
   ]
  },
  {
   "cell_type": "markdown",
   "id": "9d257fec",
   "metadata": {},
   "source": [
    "## Data concatenation"
   ]
  },
  {
   "cell_type": "code",
   "execution_count": 26,
   "id": "7553315a",
   "metadata": {
    "pycharm": {
     "name": "#%%\n"
    }
   },
   "outputs": [],
   "source": [
    "data = data[['title', 'description']]\n",
    "\n",
    "indeed = pd.concat([indeed_66[['job_title', 'job_description']], indeed_88[['job_title', 'job_description']]])\n",
    "indeed = indeed.rename(columns={'job_title': 'title', 'job_description': 'description'})"
   ]
  },
  {
   "cell_type": "code",
   "execution_count": 27,
   "id": "891f1a9f",
   "metadata": {
    "pycharm": {
     "name": "#%%\n"
    }
   },
   "outputs": [],
   "source": [
    "data = pd.concat([data[['title', 'description']], indeed]).reset_index(drop=True)"
   ]
  },
  {
   "cell_type": "code",
   "execution_count": 28,
   "id": "c8bd2f90",
   "metadata": {
    "pycharm": {
     "name": "#%%\n"
    }
   },
   "outputs": [
    {
     "data": {
      "text/html": [
       "<div>\n",
       "<style scoped>\n",
       "    .dataframe tbody tr th:only-of-type {\n",
       "        vertical-align: middle;\n",
       "    }\n",
       "\n",
       "    .dataframe tbody tr th {\n",
       "        vertical-align: top;\n",
       "    }\n",
       "\n",
       "    .dataframe thead th {\n",
       "        text-align: right;\n",
       "    }\n",
       "</style>\n",
       "<table border=\"1\" class=\"dataframe\">\n",
       "  <thead>\n",
       "    <tr style=\"text-align: right;\">\n",
       "      <th></th>\n",
       "      <th>title</th>\n",
       "      <th>description</th>\n",
       "    </tr>\n",
       "  </thead>\n",
       "  <tbody>\n",
       "    <tr>\n",
       "      <th>0</th>\n",
       "      <td>software development manager</td>\n",
       "      <td>You are an experienced hands-on manager with a...</td>\n",
       "    </tr>\n",
       "    <tr>\n",
       "      <th>1</th>\n",
       "      <td>software development engineer</td>\n",
       "      <td>Amazon is driven by being “the world’s most cu...</td>\n",
       "    </tr>\n",
       "    <tr>\n",
       "      <th>2</th>\n",
       "      <td>software development engineer</td>\n",
       "      <td>Have you ever wondered what it takes to build ...</td>\n",
       "    </tr>\n",
       "    <tr>\n",
       "      <th>3</th>\n",
       "      <td>quality assurance engineer</td>\n",
       "      <td>Fire TV client software and service technologi...</td>\n",
       "    </tr>\n",
       "    <tr>\n",
       "      <th>4</th>\n",
       "      <td>software development engineer</td>\n",
       "      <td>The Amazon Devices team designs and engineers ...</td>\n",
       "    </tr>\n",
       "    <tr>\n",
       "      <th>...</th>\n",
       "      <td>...</td>\n",
       "      <td>...</td>\n",
       "    </tr>\n",
       "    <tr>\n",
       "      <th>149276</th>\n",
       "      <td>Biomedical Technician 1 Chicago IL</td>\n",
       "      <td>Job Description Summary As the Biomed Technici...</td>\n",
       "    </tr>\n",
       "    <tr>\n",
       "      <th>149277</th>\n",
       "      <td>Marketing Assistant</td>\n",
       "      <td>Sports Facilities Management, LLC- Cornerstone...</td>\n",
       "    </tr>\n",
       "    <tr>\n",
       "      <th>149278</th>\n",
       "      <td>Core Supervisor</td>\n",
       "      <td>We are looking for a Core Supervisor 40 hours ...</td>\n",
       "    </tr>\n",
       "    <tr>\n",
       "      <th>149279</th>\n",
       "      <td>Stores Supervisor</td>\n",
       "      <td>We are LAUSD. We are at the forefront of innov...</td>\n",
       "    </tr>\n",
       "    <tr>\n",
       "      <th>149280</th>\n",
       "      <td>Electrician</td>\n",
       "      <td>Facilities Maintenance – Virginia Beach, VA Th...</td>\n",
       "    </tr>\n",
       "  </tbody>\n",
       "</table>\n",
       "<p>149281 rows × 2 columns</p>\n",
       "</div>"
      ],
      "text/plain": [
       "                                     title  \\\n",
       "0             software development manager   \n",
       "1            software development engineer   \n",
       "2            software development engineer   \n",
       "3               quality assurance engineer   \n",
       "4            software development engineer   \n",
       "...                                    ...   \n",
       "149276  Biomedical Technician 1 Chicago IL   \n",
       "149277                 Marketing Assistant   \n",
       "149278                     Core Supervisor   \n",
       "149279                   Stores Supervisor   \n",
       "149280                         Electrician   \n",
       "\n",
       "                                              description  \n",
       "0       You are an experienced hands-on manager with a...  \n",
       "1       Amazon is driven by being “the world’s most cu...  \n",
       "2       Have you ever wondered what it takes to build ...  \n",
       "3       Fire TV client software and service technologi...  \n",
       "4       The Amazon Devices team designs and engineers ...  \n",
       "...                                                   ...  \n",
       "149276  Job Description Summary As the Biomed Technici...  \n",
       "149277  Sports Facilities Management, LLC- Cornerstone...  \n",
       "149278  We are looking for a Core Supervisor 40 hours ...  \n",
       "149279  We are LAUSD. We are at the forefront of innov...  \n",
       "149280  Facilities Maintenance – Virginia Beach, VA Th...  \n",
       "\n",
       "[149281 rows x 2 columns]"
      ]
     },
     "execution_count": 28,
     "metadata": {},
     "output_type": "execute_result"
    }
   ],
   "source": [
    "data"
   ]
  },
  {
   "cell_type": "code",
   "execution_count": 29,
   "id": "5ee3a2b7",
   "metadata": {
    "pycharm": {
     "name": "#%%\n"
    }
   },
   "outputs": [
    {
     "data": {
      "text/plain": [
       "data scientist                                  4016\n",
       "software developer                              3585\n",
       "software development engineer                   1077\n",
       "Administrative Assistant                         380\n",
       "junior software developer                        335\n",
       "                                                ... \n",
       "Pharmacy Tech I - La Porte - Part Time             1\n",
       "ICTS Supply Chain Risk Management Consultant       1\n",
       "Solution Architect - Early Science                 1\n",
       "Machine Operator - 3rd Shift - Hickman, KY         1\n",
       "Stores Supervisor                                  1\n",
       "Name: title, Length: 88689, dtype: int64"
      ]
     },
     "execution_count": 29,
     "metadata": {},
     "output_type": "execute_result"
    }
   ],
   "source": [
    "data.title.value_counts()"
   ]
  },
  {
   "cell_type": "markdown",
   "id": "0a16e2c9",
   "metadata": {},
   "source": [
    "## Levenshtein"
   ]
  },
  {
   "cell_type": "code",
   "execution_count": 30,
   "id": "39b0c4c6",
   "metadata": {
    "pycharm": {
     "name": "#%%\n"
    }
   },
   "outputs": [],
   "source": [
    "from Levenshtein import distance as levenshtein_distance\n"
   ]
  },
  {
   "cell_type": "code",
   "execution_count": 31,
   "id": "80d65b8e",
   "metadata": {
    "pycharm": {
     "name": "#%%\n"
    }
   },
   "outputs": [
    {
     "data": {
      "text/plain": [
       "11"
      ]
     },
     "execution_count": 31,
     "metadata": {},
     "output_type": "execute_result"
    }
   ],
   "source": [
    "levenshtein_distance('data scientist', 'data sciences engineer')"
   ]
  },
  {
   "cell_type": "code",
   "execution_count": 32,
   "id": "814a4545",
   "metadata": {
    "pycharm": {
     "name": "#%%\n"
    }
   },
   "outputs": [
    {
     "data": {
      "text/plain": [
       "42"
      ]
     },
     "execution_count": 32,
     "metadata": {},
     "output_type": "execute_result"
    }
   ],
   "source": [
    "levenshtein_distance('data scientist', 'customer experience data scientist, google cloud support')"
   ]
  },
  {
   "cell_type": "code",
   "execution_count": 33,
   "id": "d4514c71",
   "metadata": {
    "pycharm": {
     "name": "#%%\n"
    }
   },
   "outputs": [
    {
     "data": {
      "text/plain": [
       "32"
      ]
     },
     "execution_count": 33,
     "metadata": {},
     "output_type": "execute_result"
    }
   ],
   "source": [
    "levenshtein_distance('data scientist', 'hardware development engineer, home team')"
   ]
  },
  {
   "cell_type": "code",
   "execution_count": 34,
   "id": "4226579f",
   "metadata": {
    "pycharm": {
     "name": "#%%\n"
    }
   },
   "outputs": [],
   "source": [
    "title_data = data['title'].unique()"
   ]
  },
  {
   "cell_type": "code",
   "execution_count": 35,
   "id": "fdba065a",
   "metadata": {
    "pycharm": {
     "name": "#%%\n"
    }
   },
   "outputs": [
    {
     "data": {
      "text/plain": [
       "88689"
      ]
     },
     "execution_count": 35,
     "metadata": {},
     "output_type": "execute_result"
    }
   ],
   "source": [
    "len(title_data)"
   ]
  },
  {
   "cell_type": "markdown",
   "id": "3c684e09",
   "metadata": {},
   "source": [
    "## Data filter"
   ]
  },
  {
   "cell_type": "code",
   "execution_count": 37,
   "id": "2cabf7e0",
   "metadata": {
    "pycharm": {
     "name": "#%%\n"
    }
   },
   "outputs": [],
   "source": [
    "copy_data = data.copy()"
   ]
  },
  {
   "cell_type": "code",
   "execution_count": 38,
   "id": "e06729bc",
   "metadata": {
    "pycharm": {
     "name": "#%%\n"
    }
   },
   "outputs": [],
   "source": [
    "JUNIOR_LIST = [\"junior\", \"jr\", \"jr.\", \"intern\", \"entry level\", \"graduate\", \"associate\", \"assistant\", \"trainee\",\n",
    "\"internship\", \"apprentice\", \"post grad\", \"post-grad\", \"grad\", \"recent graduate\", \"masters\",\n",
    "\"under grad\", \"under graduate\", \"representative\", ]\n",
    "\n",
    "MID_LIST = [\"lead\", \"leader\", \"leading\", \"leadership\", \"team lead\", \"team leader\", \"coordinator\",\n",
    "\"account executive\", \"manager\", \"managing\", \"management\", \"supervisor\", \"middle\"]\n",
    "\n",
    "SENIOR_LIST = [\"leader\", \"manager\", \"executive\", \"director\", \"coordinator\", \"administrator\", \"controller\",\n",
    "\"officer\", \"organizer\", \"supervisor\", \"head\", \"overseer\", \"chief\", \"foreman\", \"principal\", \"president\",\n",
    "\"lead\", \"senior\", \"sr.\", \"sr\", \"ceo\", \"coo\", \"cfo\", \"cio\", \"cto\", \"cmo\", \"chro\", \"cdo\", \"cpo\", \"cco\",\n",
    "\"cio\", \"principle\", \"partner\", \"vp\", \"vice principle\", \"vice president\", \"vp\", \"counsel\", \"counselor\", ]"
   ]
  },
  {
   "cell_type": "code",
   "execution_count": 39,
   "id": "ab121abb",
   "metadata": {
    "pycharm": {
     "name": "#%%\n"
    }
   },
   "outputs": [],
   "source": [
    "filters = '|'.join(JUNIOR_LIST + MID_LIST + SENIOR_LIST)"
   ]
  },
  {
   "cell_type": "code",
   "execution_count": 77,
   "id": "aa5f3928",
   "metadata": {
    "pycharm": {
     "name": "#%%\n"
    },
    "scrolled": true
   },
   "outputs": [],
   "source": [
    "copy_data['position'] = ''\n",
    "for option in JUNIOR_LIST+MID_LIST+SENIOR_LIST:\n",
    "    copy_data.loc[copy_data['title'].str.contains(option, regex=False, case=False), 'position']  = option\n",
    "    \n",
    "copy_data['title'] = copy_data['title'].str.replace(filters, \"\", case=False)"
   ]
  },
  {
   "cell_type": "code",
   "execution_count": 41,
   "id": "9dc793ba",
   "metadata": {
    "pycharm": {
     "name": "#%%\n"
    }
   },
   "outputs": [],
   "source": [
    "copy_data['title'] = copy_data['title'].apply(str.lower).apply(str.strip)\n"
   ]
  },
  {
   "cell_type": "code",
   "execution_count": 42,
   "id": "ede3d407",
   "metadata": {
    "pycharm": {
     "name": "#%%\n"
    }
   },
   "outputs": [],
   "source": [
    "save_data = copy_data.copy()"
   ]
  },
  {
   "cell_type": "code",
   "execution_count": 44,
   "id": "176b61f5",
   "metadata": {
    "pycharm": {
     "name": "#%%\n"
    }
   },
   "outputs": [
    {
     "data": {
      "text/plain": [
       "0"
      ]
     },
     "execution_count": 44,
     "metadata": {},
     "output_type": "execute_result"
    }
   ],
   "source": [
    "sum(data['title']=='')"
   ]
  },
  {
   "cell_type": "code",
   "execution_count": 78,
   "id": "abbb517b",
   "metadata": {
    "pycharm": {
     "name": "#%%\n"
    }
   },
   "outputs": [],
   "source": [
    "# save current result\n",
    "for id, df_i in  enumerate(np.array_split(save_data.sort_values(by=['title']).reset_index(drop=True), 2)):\n",
    "    df_i.to_excel(f'media/output/review_{id}.xlsx', index=False)"
   ]
  },
  {
   "cell_type": "markdown",
   "id": "4c4d9abd",
   "metadata": {
    "pycharm": {
     "name": "#%%\n"
    }
   },
   "source": [
    "## Update Title Column Values"
   ]
  },
  {
   "cell_type": "code",
   "execution_count": 50,
   "id": "6e590b00",
   "metadata": {
    "pycharm": {
     "name": "#%%\n"
    }
   },
   "outputs": [],
   "source": [
    "job_titles = pd.read_excel(\"media/job-lists.xlsx\")\n",
    "job_titles['job_title'] = job_titles['job_title'].apply(str.lower)\n",
    "job_titles = job_titles[\"job_title\"].values.tolist()"
   ]
  },
  {
   "cell_type": "code",
   "execution_count": 49,
   "id": "d3172399",
   "metadata": {
    "pycharm": {
     "name": "#%%\n"
    }
   },
   "outputs": [],
   "source": [
    "target_data = pd.read_excel(\"media/output/review_0.xlsx\")\n",
    "target_data = target_data[~target_data[\"title\"].isnull()]\n",
    "target_data[\"title\"] = target_data[\"title\"].apply(str.lower)"
   ]
  },
  {
   "cell_type": "code",
   "execution_count": 51,
   "id": "e9a5c61f",
   "metadata": {
    "pycharm": {
     "name": "#%%\n"
    }
   },
   "outputs": [],
   "source": [
    "target_data_1 = pd.read_excel(\"media/output/review_1.xlsx\")\n",
    "target_data_1 = target_data_1[~target_data_1[\"title\"].isnull()]\n",
    "target_data_1[\"title\"] = target_data_1[\"title\"].apply(str.lower)"
   ]
  },
  {
   "cell_type": "code",
   "execution_count": 52,
   "id": "9acf3825",
   "metadata": {
    "pycharm": {
     "name": "#%%\n"
    }
   },
   "outputs": [],
   "source": [
    "def update_title(_data):\n",
    "    \"\"\"Function for matching title with job-list values\"\"\"\n",
    "    _data[\"found_positions\"] = \"\"\n",
    "    for job_title in job_titles:\n",
    "        indices = _data[_data[\"title\"].str.contains(job_title, case=False, regex=False)].index\n",
    "        if indices.empty:\n",
    "            continue\n",
    "        _data.loc[indices, \"found_positions\"] = _data.loc[indices, \"found_positions\"] + f\",{job_title}\"\n",
    "    return _data"
   ]
  },
  {
   "cell_type": "code",
   "execution_count": 53,
   "id": "4a1c448d",
   "metadata": {
    "pycharm": {
     "name": "#%%\n"
    }
   },
   "outputs": [],
   "source": [
    "def utils_preprocess_text(text, flg_stemm=False, flg_lemm=True):\n",
    "    ## clean (convert to lowercase and remove punctuations and characters and then strip)\n",
    "    text = re.sub(r\"(@\\[A-Za-z0-9]+)|([^0-9A-Za-z \\t])|(\\w+:\\/\\/\\S+)|^rt|http.+?\", \"\", str(text).lower().strip())\n",
    "     \n",
    "    ## Tokenize (convert from string to list)\n",
    "    lst_text = text.split()\n",
    "                \n",
    "    ## Stemming (remove -ing, -ly, ...)\n",
    "    if flg_stemm == True:\n",
    "        ps = nltk.stem.porter.PorterStemmer()\n",
    "        lst_text = [ps.stem(word) for word in lst_text]\n",
    "                \n",
    "    ## Lemmatisation (convert the word into root word)\n",
    "    if flg_lemm == True:\n",
    "        lem = nltk.stem.WordNetLemmatizer()\n",
    "        lst_text = [lem.lemmatize(word) for word in lst_text]\n",
    "            \n",
    "    ## back to string from list\n",
    "    text = \" \".join(lst_text)\n",
    "    return text"
   ]
  },
  {
   "cell_type": "code",
   "execution_count": 55,
   "id": "bb1a5cac",
   "metadata": {
    "pycharm": {
     "name": "#%%\n"
    }
   },
   "outputs": [
    {
     "data": {
      "text/html": [
       "<div>\n",
       "<style scoped>\n",
       "    .dataframe tbody tr th:only-of-type {\n",
       "        vertical-align: middle;\n",
       "    }\n",
       "\n",
       "    .dataframe tbody tr th {\n",
       "        vertical-align: top;\n",
       "    }\n",
       "\n",
       "    .dataframe thead th {\n",
       "        text-align: right;\n",
       "    }\n",
       "</style>\n",
       "<table border=\"1\" class=\"dataframe\">\n",
       "  <thead>\n",
       "    <tr style=\"text-align: right;\">\n",
       "      <th></th>\n",
       "      <th>title</th>\n",
       "      <th>description</th>\n",
       "      <th>position</th>\n",
       "    </tr>\n",
       "  </thead>\n",
       "  <tbody>\n",
       "    <tr>\n",
       "      <th>1338</th>\n",
       "      <td></td>\n",
       "      <td>Think fresh, fast and fun (and delicious)! Thi...</td>\n",
       "      <td>manager</td>\n",
       "    </tr>\n",
       "    <tr>\n",
       "      <th>1339</th>\n",
       "      <td>full time daytim clean janitori</td>\n",
       "      <td>$1000 IN SIGN-ON BONUSES. AUTOMATIC RAISES. PA...</td>\n",
       "      <td>NaN</td>\n",
       "    </tr>\n",
       "    <tr>\n",
       "      <th>1340</th>\n",
       "      <td>immedi interview kroger pharmaci technician 23...</td>\n",
       "      <td>We are looking for a dependable Pharmacy Techn...</td>\n",
       "      <td>NaN</td>\n",
       "    </tr>\n",
       "    <tr>\n",
       "      <th>1341</th>\n",
       "      <td>incent offer of nur</td>\n",
       "      <td>Assisting the Director of Nursing with impleme...</td>\n",
       "      <td>cto</td>\n",
       "    </tr>\n",
       "    <tr>\n",
       "      <th>1342</th>\n",
       "      <td>now hire</td>\n",
       "      <td>Your opportunity to thrive in a workplace envi...</td>\n",
       "      <td>manager</td>\n",
       "    </tr>\n",
       "    <tr>\n",
       "      <th>...</th>\n",
       "      <td>...</td>\n",
       "      <td>...</td>\n",
       "      <td>...</td>\n",
       "    </tr>\n",
       "    <tr>\n",
       "      <th>74636</th>\n",
       "      <td>lea</td>\n",
       "      <td>Leasing Associate for Affordable Housing Apart...</td>\n",
       "      <td>associate</td>\n",
       "    </tr>\n",
       "    <tr>\n",
       "      <th>74637</th>\n",
       "      <td>lea</td>\n",
       "      <td>Position Description This individual shall hav...</td>\n",
       "      <td>associate</td>\n",
       "    </tr>\n",
       "    <tr>\n",
       "      <th>74638</th>\n",
       "      <td>lea</td>\n",
       "      <td>Senior Sales Expert Excellent Pegasus Benefits...</td>\n",
       "      <td>manager</td>\n",
       "    </tr>\n",
       "    <tr>\n",
       "      <th>74639</th>\n",
       "      <td>lea</td>\n",
       "      <td>Who We Are: Peak Property Group specializes in...</td>\n",
       "      <td>associate</td>\n",
       "    </tr>\n",
       "    <tr>\n",
       "      <th>74640</th>\n",
       "      <td>lea</td>\n",
       "      <td>Adara Communities is seeking an experienced Le...</td>\n",
       "      <td>manager</td>\n",
       "    </tr>\n",
       "  </tbody>\n",
       "</table>\n",
       "<p>73303 rows × 3 columns</p>\n",
       "</div>"
      ],
      "text/plain": [
       "                                                   title  \\\n",
       "1338                                                       \n",
       "1339                     full time daytim clean janitori   \n",
       "1340   immedi interview kroger pharmaci technician 23...   \n",
       "1341                                 incent offer of nur   \n",
       "1342                                            now hire   \n",
       "...                                                  ...   \n",
       "74636                                                lea   \n",
       "74637                                                lea   \n",
       "74638                                                lea   \n",
       "74639                                                lea   \n",
       "74640                                                lea   \n",
       "\n",
       "                                             description   position  \n",
       "1338   Think fresh, fast and fun (and delicious)! Thi...    manager  \n",
       "1339   $1000 IN SIGN-ON BONUSES. AUTOMATIC RAISES. PA...        NaN  \n",
       "1340   We are looking for a dependable Pharmacy Techn...        NaN  \n",
       "1341   Assisting the Director of Nursing with impleme...        cto  \n",
       "1342   Your opportunity to thrive in a workplace envi...    manager  \n",
       "...                                                  ...        ...  \n",
       "74636  Leasing Associate for Affordable Housing Apart...  associate  \n",
       "74637  Position Description This individual shall hav...  associate  \n",
       "74638  Senior Sales Expert Excellent Pegasus Benefits...    manager  \n",
       "74639  Who We Are: Peak Property Group specializes in...  associate  \n",
       "74640  Adara Communities is seeking an experienced Le...    manager  \n",
       "\n",
       "[73303 rows x 3 columns]"
      ]
     },
     "execution_count": 55,
     "metadata": {},
     "output_type": "execute_result"
    }
   ],
   "source": [
    "target_data[\"title\"] = target_data[\"title\"].apply(lambda x: utils_preprocess_text(x, flg_stemm=True, flg_lemm=True))\n",
    "target_data"
   ]
  },
  {
   "cell_type": "code",
   "execution_count": 56,
   "id": "c0526922",
   "metadata": {
    "pycharm": {
     "name": "#%%\n"
    }
   },
   "outputs": [
    {
     "data": {
      "text/html": [
       "<div>\n",
       "<style scoped>\n",
       "    .dataframe tbody tr th:only-of-type {\n",
       "        vertical-align: middle;\n",
       "    }\n",
       "\n",
       "    .dataframe tbody tr th {\n",
       "        vertical-align: top;\n",
       "    }\n",
       "\n",
       "    .dataframe thead th {\n",
       "        text-align: right;\n",
       "    }\n",
       "</style>\n",
       "<table border=\"1\" class=\"dataframe\">\n",
       "  <thead>\n",
       "    <tr style=\"text-align: right;\">\n",
       "      <th></th>\n",
       "      <th>title</th>\n",
       "      <th>description</th>\n",
       "      <th>position</th>\n",
       "    </tr>\n",
       "  </thead>\n",
       "  <tbody>\n",
       "    <tr>\n",
       "      <th>0</th>\n",
       "      <td>lea marqui at cinco ranch</td>\n",
       "      <td>Overview: Looking for something different? We ...</td>\n",
       "      <td>associate</td>\n",
       "    </tr>\n",
       "    <tr>\n",
       "      <th>1</th>\n",
       "      <td>lea assembl 118</td>\n",
       "      <td>Join Our Leasing Team! We have an exciting opp...</td>\n",
       "      <td>manager</td>\n",
       "    </tr>\n",
       "    <tr>\n",
       "      <th>2</th>\n",
       "      <td>lea breckinridg squar</td>\n",
       "      <td>PMR Companies, a premier Multi -Family Propert...</td>\n",
       "      <td>associate</td>\n",
       "    </tr>\n",
       "    <tr>\n",
       "      <th>3</th>\n",
       "      <td>lea provid row</td>\n",
       "      <td>Providence Row - Charlotte, NC: POSITION OVERV...</td>\n",
       "      <td>associate</td>\n",
       "    </tr>\n",
       "    <tr>\n",
       "      <th>4</th>\n",
       "      <td>lea axio 8400</td>\n",
       "      <td>Avenue5 is growing, and we are in search of a ...</td>\n",
       "      <td>manager</td>\n",
       "    </tr>\n",
       "    <tr>\n",
       "      <th>...</th>\n",
       "      <td>...</td>\n",
       "      <td>...</td>\n",
       "      <td>...</td>\n",
       "    </tr>\n",
       "    <tr>\n",
       "      <th>74635</th>\n",
       "      <td>me o</td>\n",
       "      <td>デバイス、ドライバに加え、Chrome OS、Android などの Linux ベースシス...</td>\n",
       "      <td>chro</td>\n",
       "    </tr>\n",
       "    <tr>\n",
       "      <th>74636</th>\n",
       "      <td>brand design</td>\n",
       "      <td>we are currently seeking a lead brand designer...</td>\n",
       "      <td>lead</td>\n",
       "    </tr>\n",
       "    <tr>\n",
       "      <th>74637</th>\n",
       "      <td>mechan solidwork design</td>\n",
       "      <td>Johnston Engineering, a growing product develo...</td>\n",
       "      <td>NaN</td>\n",
       "    </tr>\n",
       "    <tr>\n",
       "      <th>74638</th>\n",
       "      <td>fr</td>\n",
       "      <td>ab tasty (www.abtasty.com) is the customer exp...</td>\n",
       "      <td>cco</td>\n",
       "    </tr>\n",
       "    <tr>\n",
       "      <th>74639</th>\n",
       "      <td>frontend develop</td>\n",
       "      <td>front-end developers (technical support engine...</td>\n",
       "      <td>NaN</td>\n",
       "    </tr>\n",
       "  </tbody>\n",
       "</table>\n",
       "<p>74640 rows × 3 columns</p>\n",
       "</div>"
      ],
      "text/plain": [
       "                           title  \\\n",
       "0      lea marqui at cinco ranch   \n",
       "1                lea assembl 118   \n",
       "2          lea breckinridg squar   \n",
       "3                 lea provid row   \n",
       "4                  lea axio 8400   \n",
       "...                          ...   \n",
       "74635                       me o   \n",
       "74636               brand design   \n",
       "74637    mechan solidwork design   \n",
       "74638                         fr   \n",
       "74639           frontend develop   \n",
       "\n",
       "                                             description   position  \n",
       "0      Overview: Looking for something different? We ...  associate  \n",
       "1      Join Our Leasing Team! We have an exciting opp...    manager  \n",
       "2      PMR Companies, a premier Multi -Family Propert...  associate  \n",
       "3      Providence Row - Charlotte, NC: POSITION OVERV...  associate  \n",
       "4      Avenue5 is growing, and we are in search of a ...    manager  \n",
       "...                                                  ...        ...  \n",
       "74635  デバイス、ドライバに加え、Chrome OS、Android などの Linux ベースシス...       chro  \n",
       "74636  we are currently seeking a lead brand designer...       lead  \n",
       "74637  Johnston Engineering, a growing product develo...        NaN  \n",
       "74638  ab tasty (www.abtasty.com) is the customer exp...        cco  \n",
       "74639  front-end developers (technical support engine...        NaN  \n",
       "\n",
       "[74640 rows x 3 columns]"
      ]
     },
     "execution_count": 56,
     "metadata": {},
     "output_type": "execute_result"
    }
   ],
   "source": [
    "target_data_1[\"title\"] = target_data_1[\"title\"].apply(lambda x: utils_preprocess_text(x, flg_stemm=True, flg_lemm=True))\n",
    "target_data_1"
   ]
  },
  {
   "cell_type": "code",
   "execution_count": 58,
   "id": "c7ddd064",
   "metadata": {
    "pycharm": {
     "name": "#%%\n"
    }
   },
   "outputs": [],
   "source": [
    "target_data = update_title(target_data)\n",
    "target_data_1 = update_title(target_data_1)"
   ]
  },
  {
   "cell_type": "code",
   "execution_count": 59,
   "id": "173adeab",
   "metadata": {
    "pycharm": {
     "name": "#%%\n"
    }
   },
   "outputs": [
    {
     "data": {
      "text/plain": [
       "((73303, 4), 72543)"
      ]
     },
     "execution_count": 59,
     "metadata": {},
     "output_type": "execute_result"
    }
   ],
   "source": [
    "target_data.shape, len(target_data.description.unique())"
   ]
  },
  {
   "cell_type": "code",
   "execution_count": 60,
   "id": "9f0eb17c",
   "metadata": {
    "pycharm": {
     "name": "#%%\n"
    }
   },
   "outputs": [],
   "source": [
    "target_df = pd.concat([target_data, target_data_1])"
   ]
  },
  {
   "cell_type": "code",
   "execution_count": 61,
   "id": "4631dbd8",
   "metadata": {
    "pycharm": {
     "name": "#%%\n"
    }
   },
   "outputs": [],
   "source": [
    "target_df[\"found_positions\"] = target_df[\"found_positions\"].apply(lambda x: max(x.split(','), key=len)) # take the longest job titles \n",
    "target_df[\"found_positions\"] = target_df[\"found_positions\"].apply(lambda x: utils_preprocess_text(x, flg_stemm=True, flg_lemm=False))"
   ]
  },
  {
   "cell_type": "code",
   "execution_count": 62,
   "id": "f3f47c2c",
   "metadata": {
    "pycharm": {
     "name": "#%%\n"
    }
   },
   "outputs": [],
   "source": [
    "target_df['found_positions'] = target_df['found_positions'].replace('', np.NaN)\n",
    "target_df[\"title\"] = target_df[\"found_positions\"].fillna(target_df[\"title\"])"
   ]
  },
  {
   "cell_type": "code",
   "execution_count": 63,
   "id": "9411fe4c",
   "metadata": {
    "pycharm": {
     "name": "#%%\n"
    }
   },
   "outputs": [],
   "source": [
    "target_df = target_df.drop_duplicates(subset='description')"
   ]
  },
  {
   "cell_type": "code",
   "execution_count": 64,
   "id": "8b8ded70",
   "metadata": {
    "pycharm": {
     "name": "#%%\n"
    }
   },
   "outputs": [],
   "source": [
    "target_df = target_df.drop(['position', 'found_positions'], axis=1)"
   ]
  },
  {
   "cell_type": "code",
   "execution_count": 65,
   "id": "dbf8d263",
   "metadata": {
    "pycharm": {
     "name": "#%%\n"
    }
   },
   "outputs": [
    {
     "data": {
      "text/plain": [
       "146280"
      ]
     },
     "execution_count": 65,
     "metadata": {},
     "output_type": "execute_result"
    }
   ],
   "source": [
    "len(target_df.description.unique())"
   ]
  },
  {
   "cell_type": "code",
   "execution_count": 66,
   "id": "696535de",
   "metadata": {
    "pycharm": {
     "name": "#%%\n"
    },
    "scrolled": true
   },
   "outputs": [
    {
     "data": {
      "text/html": [
       "<div>\n",
       "<style scoped>\n",
       "    .dataframe tbody tr th:only-of-type {\n",
       "        vertical-align: middle;\n",
       "    }\n",
       "\n",
       "    .dataframe tbody tr th {\n",
       "        vertical-align: top;\n",
       "    }\n",
       "\n",
       "    .dataframe thead th {\n",
       "        text-align: right;\n",
       "    }\n",
       "</style>\n",
       "<table border=\"1\" class=\"dataframe\">\n",
       "  <thead>\n",
       "    <tr style=\"text-align: right;\">\n",
       "      <th></th>\n",
       "      <th>title</th>\n",
       "      <th>description</th>\n",
       "    </tr>\n",
       "  </thead>\n",
       "  <tbody>\n",
       "    <tr>\n",
       "      <th>1338</th>\n",
       "      <td></td>\n",
       "      <td>Think fresh, fast and fun (and delicious)! Thi...</td>\n",
       "    </tr>\n",
       "    <tr>\n",
       "      <th>1339</th>\n",
       "      <td>janitor</td>\n",
       "      <td>$1000 IN SIGN-ON BONUSES. AUTOMATIC RAISES. PA...</td>\n",
       "    </tr>\n",
       "    <tr>\n",
       "      <th>1340</th>\n",
       "      <td>technician</td>\n",
       "      <td>We are looking for a dependable Pharmacy Techn...</td>\n",
       "    </tr>\n",
       "    <tr>\n",
       "      <th>1341</th>\n",
       "      <td>incent offer of nur</td>\n",
       "      <td>Assisting the Director of Nursing with impleme...</td>\n",
       "    </tr>\n",
       "    <tr>\n",
       "      <th>1342</th>\n",
       "      <td>now hire</td>\n",
       "      <td>Your opportunity to thrive in a workplace envi...</td>\n",
       "    </tr>\n",
       "    <tr>\n",
       "      <th>...</th>\n",
       "      <td>...</td>\n",
       "      <td>...</td>\n",
       "    </tr>\n",
       "    <tr>\n",
       "      <th>74635</th>\n",
       "      <td>me o</td>\n",
       "      <td>デバイス、ドライバに加え、Chrome OS、Android などの Linux ベースシス...</td>\n",
       "    </tr>\n",
       "    <tr>\n",
       "      <th>74636</th>\n",
       "      <td>brand design</td>\n",
       "      <td>we are currently seeking a lead brand designer...</td>\n",
       "    </tr>\n",
       "    <tr>\n",
       "      <th>74637</th>\n",
       "      <td>mechan solidwork design</td>\n",
       "      <td>Johnston Engineering, a growing product develo...</td>\n",
       "    </tr>\n",
       "    <tr>\n",
       "      <th>74638</th>\n",
       "      <td>fr</td>\n",
       "      <td>ab tasty (www.abtasty.com) is the customer exp...</td>\n",
       "    </tr>\n",
       "    <tr>\n",
       "      <th>74639</th>\n",
       "      <td>frontend develop</td>\n",
       "      <td>front-end developers (technical support engine...</td>\n",
       "    </tr>\n",
       "  </tbody>\n",
       "</table>\n",
       "<p>146280 rows × 2 columns</p>\n",
       "</div>"
      ],
      "text/plain": [
       "                         title  \\\n",
       "1338                             \n",
       "1339                   janitor   \n",
       "1340                technician   \n",
       "1341       incent offer of nur   \n",
       "1342                  now hire   \n",
       "...                        ...   \n",
       "74635                     me o   \n",
       "74636             brand design   \n",
       "74637  mechan solidwork design   \n",
       "74638                       fr   \n",
       "74639         frontend develop   \n",
       "\n",
       "                                             description  \n",
       "1338   Think fresh, fast and fun (and delicious)! Thi...  \n",
       "1339   $1000 IN SIGN-ON BONUSES. AUTOMATIC RAISES. PA...  \n",
       "1340   We are looking for a dependable Pharmacy Techn...  \n",
       "1341   Assisting the Director of Nursing with impleme...  \n",
       "1342   Your opportunity to thrive in a workplace envi...  \n",
       "...                                                  ...  \n",
       "74635  デバイス、ドライバに加え、Chrome OS、Android などの Linux ベースシス...  \n",
       "74636  we are currently seeking a lead brand designer...  \n",
       "74637  Johnston Engineering, a growing product develo...  \n",
       "74638  ab tasty (www.abtasty.com) is the customer exp...  \n",
       "74639  front-end developers (technical support engine...  \n",
       "\n",
       "[146280 rows x 2 columns]"
      ]
     },
     "execution_count": 66,
     "metadata": {},
     "output_type": "execute_result"
    }
   ],
   "source": [
    "target_df"
   ]
  },
  {
   "cell_type": "code",
   "execution_count": 67,
   "id": "4f4621ef",
   "metadata": {
    "pycharm": {
     "name": "#%%\n"
    }
   },
   "outputs": [],
   "source": [
    "# drop titles with less then 100 descriptions\n",
    "title_counts = target_df.groupby('title').agg(count=(\"title\", 'count')).reset_index().sort_values('count', ascending=False)\n",
    "title_counts = title_counts[title_counts['count'] > 100]\n",
    "target_df = target_df[target_df['title'].isin(title_counts['title'].values)]"
   ]
  },
  {
   "cell_type": "code",
   "execution_count": null,
   "id": "9a07dcbf",
   "metadata": {
    "pycharm": {
     "name": "#%%\n"
    }
   },
   "outputs": [],
   "source": [
    "target_df = target_df.replace(r'\\n|\\t|@',' ', regex=True)\n",
    "target_df = target_df[target_df['title']!='']"
   ]
  },
  {
   "cell_type": "markdown",
   "id": "842902fa",
   "metadata": {},
   "source": [
    "## language detection"
   ]
  },
  {
   "cell_type": "code",
   "execution_count": 75,
   "id": "997dede5",
   "metadata": {},
   "outputs": [],
   "source": [
    "target_df = target_df.reset_index(drop=True)\n",
    "target_df = target_df[target_df['title'].apply(lambda title: detect(title)=='en')]"
   ]
  },
  {
   "cell_type": "markdown",
   "id": "dbe9d855",
   "metadata": {},
   "source": [
    "# Save data"
   ]
  },
  {
   "cell_type": "code",
   "execution_count": null,
   "id": "df7ea81c",
   "metadata": {
    "pycharm": {
     "name": "#%%\n"
    }
   },
   "outputs": [],
   "source": [
    "target_df = target_df.reset_index(drop=True)\n",
    "target_df.to_csv('data/training_all_data.csv',  sep=\"@\", index=False)"
   ]
  }
 ],
 "metadata": {
  "kernelspec": {
   "display_name": "Python 3 (ipykernel)",
   "language": "python",
   "name": "python3"
  },
  "language_info": {
   "codemirror_mode": {
    "name": "ipython",
    "version": 3
   },
   "file_extension": ".py",
   "mimetype": "text/x-python",
   "name": "python",
   "nbconvert_exporter": "python",
   "pygments_lexer": "ipython3",
   "version": "3.9.12"
  }
 },
 "nbformat": 4,
 "nbformat_minor": 5
}
