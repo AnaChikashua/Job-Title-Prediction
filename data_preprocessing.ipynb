{
 "cells": [
  {
   "cell_type": "code",
   "execution_count": 68,
   "id": "bbe1e4f5",
   "metadata": {
    "pycharm": {
     "name": "#%%\n"
    }
   },
   "outputs": [],
   "source": [
    "import json\n",
    "import pandas as pd\n",
    "import numpy as np\n",
    "import re\n",
    "import nltk\n",
    "from langdetect import detect"
   ]
  },
  {
   "cell_type": "code",
   "execution_count": 2,
   "id": "0a129057",
   "metadata": {
    "pycharm": {
     "name": "#%%\n"
    }
   },
   "outputs": [],
   "source": [
    "json_data_path_66 = 'media/indeed_usa-indeed_usa_job_data__20211001_20211231_deduped_n_merged_20220305_004258919873466.ldjson'\n",
    "json_data_path_88 = 'media/indeed_usa-indeed_usa_job_data__20211001_20211231_deduped_n_merged_20220305_004328202689288.ldjson'\n",
    "engineering_jobs = 'media/engineering_jobs.csv'"
   ]
  },
  {
   "cell_type": "code",
   "execution_count": 20,
   "id": "4d8d5f17",
   "metadata": {
    "pycharm": {
     "name": "#%%\n"
    }
   },
   "outputs": [],
   "source": [
    "data = pd.read_csv(engineering_jobs)"
   ]
  },
  {
   "cell_type": "code",
   "execution_count": 21,
   "id": "9aa51ee5",
   "metadata": {
    "pycharm": {
     "name": "#%%\n"
    }
   },
   "outputs": [],
   "source": [
    "def read_json_data(file_path: str) -> pd.DataFrame:\n",
    "    \"\"\"Function for read json data and convert to pandas DataFrame\"\"\"\n",
    "    list_data = []\n",
    "    with open(file_path, mode='r', errors='ignore', encoding=\"utf8\") as json_file:\n",
    "        for ob in json_file:\n",
    "            list_data.append(json.loads(ob))\n",
    "    return pd.DataFrame(list_data)"
   ]
  },
  {
   "cell_type": "code",
   "execution_count": 22,
   "id": "c307df15",
   "metadata": {
    "pycharm": {
     "name": "#%%\n"
    }
   },
   "outputs": [],
   "source": [
    "indeed_66 = read_json_data(json_data_path_66)\n",
    "indeed_88 = read_json_data(json_data_path_88)"
   ]
  },
  {
   "cell_type": "code",
   "execution_count": 23,
   "id": "d8815394",
   "metadata": {
    "pycharm": {
     "name": "#%%\n"
    }
   },
   "outputs": [],
   "source": [
    "data = data.replace(np.nan,'')\n",
    "indeed_66 = indeed_66.replace(np.nan, '')\n",
    "indeed_88 = indeed_88.replace(np.nan, '')"
   ]
  },
  {
   "cell_type": "code",
   "execution_count": 24,
   "id": "a1e5a0c8",
   "metadata": {
    "pycharm": {
     "name": "#%%\n"
    }
   },
   "outputs": [],
   "source": [
    "data['description'] = data['description']+data['basic_qualifications']+data['prefered_qualifications']+data['category']+data['skills']\n",
    "indeed_66['job_description'] = indeed_66['job_description'] + indeed_66['category'] + indeed_66['company_description']\n",
    "indeed_88['job_description'] = indeed_88['job_description'] + indeed_88['category'] + indeed_88['company_description']"
   ]
  },
  {
   "cell_type": "code",
   "execution_count": 25,
   "id": "20bf7fb1",
   "metadata": {
    "pycharm": {
     "name": "#%%\n"
    }
   },
   "outputs": [
    {
     "data": {
      "text/plain": [
       "0"
      ]
     },
     "execution_count": 25,
     "metadata": {},
     "output_type": "execute_result"
    }
   ],
   "source": [
    "sum(pd.read_csv(engineering_jobs)['title']=='')"
   ]
  },
  {
   "cell_type": "markdown",
   "id": "3fb4da6e",
   "metadata": {},
   "source": [
    "## Data concatenation"
   ]
  },
  {
   "cell_type": "code",
   "execution_count": 26,
   "id": "7553315a",
   "metadata": {
    "pycharm": {
     "name": "#%%\n"
    }
   },
   "outputs": [],
   "source": [
    "data = data[['title', 'description']]\n",
    "\n",
    "indeed = pd.concat([indeed_66[['job_title', 'job_description']], indeed_88[['job_title', 'job_description']]])\n",
    "indeed = indeed.rename(columns={'job_title': 'title', 'job_description': 'description'})"
   ]
  },
  {
   "cell_type": "code",
   "execution_count": 27,
   "id": "891f1a9f",
   "metadata": {
    "pycharm": {
     "name": "#%%\n"
    }
   },
   "outputs": [],
   "source": [
    "data = pd.concat([data[['title', 'description']], indeed]).reset_index(drop=True)"
   ]
  },
  {
   "cell_type": "code",
   "execution_count": 28,
   "id": "c8bd2f90",
   "metadata": {
    "pycharm": {
     "name": "#%%\n"
    }
   },
   "outputs": [
    {
     "data": {
      "text/html": [
       "<div>\n",
       "<style scoped>\n",
       "    .dataframe tbody tr th:only-of-type {\n",
       "        vertical-align: middle;\n",
       "    }\n",
       "\n",
       "    .dataframe tbody tr th {\n",
       "        vertical-align: top;\n",
       "    }\n",
       "\n",
       "    .dataframe thead th {\n",
       "        text-align: right;\n",
       "    }\n",
       "</style>\n",
       "<table border=\"1\" class=\"dataframe\">\n",
       "  <thead>\n",
       "    <tr style=\"text-align: right;\">\n",
       "      <th></th>\n",
       "      <th>title</th>\n",
       "      <th>description</th>\n",
       "    </tr>\n",
       "  </thead>\n",
       "  <tbody>\n",
       "    <tr>\n",
       "      <th>0</th>\n",
       "      <td>software development manager</td>\n",
       "      <td>You are an experienced hands-on manager with a...</td>\n",
       "    </tr>\n",
       "    <tr>\n",
       "      <th>1</th>\n",
       "      <td>software development engineer</td>\n",
       "      <td>Amazon is driven by being “the world’s most cu...</td>\n",
       "    </tr>\n",
       "    <tr>\n",
       "      <th>2</th>\n",
       "      <td>software development engineer</td>\n",
       "      <td>Have you ever wondered what it takes to build ...</td>\n",
       "    </tr>\n",
       "    <tr>\n",
       "      <th>3</th>\n",
       "      <td>quality assurance engineer</td>\n",
       "      <td>Fire TV client software and service technologi...</td>\n",
       "    </tr>\n",
       "    <tr>\n",
       "      <th>4</th>\n",
       "      <td>software development engineer</td>\n",
       "      <td>The Amazon Devices team designs and engineers ...</td>\n",
       "    </tr>\n",
       "    <tr>\n",
       "      <th>...</th>\n",
       "      <td>...</td>\n",
       "      <td>...</td>\n",
       "    </tr>\n",
       "    <tr>\n",
       "      <th>149276</th>\n",
       "      <td>Biomedical Technician 1 Chicago IL</td>\n",
       "      <td>Job Description Summary As the Biomed Technici...</td>\n",
       "    </tr>\n",
       "    <tr>\n",
       "      <th>149277</th>\n",
       "      <td>Marketing Assistant</td>\n",
       "      <td>Sports Facilities Management, LLC- Cornerstone...</td>\n",
       "    </tr>\n",
       "    <tr>\n",
       "      <th>149278</th>\n",
       "      <td>Core Supervisor</td>\n",
       "      <td>We are looking for a Core Supervisor 40 hours ...</td>\n",
       "    </tr>\n",
       "    <tr>\n",
       "      <th>149279</th>\n",
       "      <td>Stores Supervisor</td>\n",
       "      <td>We are LAUSD. We are at the forefront of innov...</td>\n",
       "    </tr>\n",
       "    <tr>\n",
       "      <th>149280</th>\n",
       "      <td>Electrician</td>\n",
       "      <td>Facilities Maintenance – Virginia Beach, VA Th...</td>\n",
       "    </tr>\n",
       "  </tbody>\n",
       "</table>\n",
       "<p>149281 rows × 2 columns</p>\n",
       "</div>"
      ],
      "text/plain": [
       "                                     title  \\\n",
       "0             software development manager   \n",
       "1            software development engineer   \n",
       "2            software development engineer   \n",
       "3               quality assurance engineer   \n",
       "4            software development engineer   \n",
       "...                                    ...   \n",
       "149276  Biomedical Technician 1 Chicago IL   \n",
       "149277                 Marketing Assistant   \n",
       "149278                     Core Supervisor   \n",
       "149279                   Stores Supervisor   \n",
       "149280                         Electrician   \n",
       "\n",
       "                                              description  \n",
       "0       You are an experienced hands-on manager with a...  \n",
       "1       Amazon is driven by being “the world’s most cu...  \n",
       "2       Have you ever wondered what it takes to build ...  \n",
       "3       Fire TV client software and service technologi...  \n",
       "4       The Amazon Devices team designs and engineers ...  \n",
       "...                                                   ...  \n",
       "149276  Job Description Summary As the Biomed Technici...  \n",
       "149277  Sports Facilities Management, LLC- Cornerstone...  \n",
       "149278  We are looking for a Core Supervisor 40 hours ...  \n",
       "149279  We are LAUSD. We are at the forefront of innov...  \n",
       "149280  Facilities Maintenance – Virginia Beach, VA Th...  \n",
       "\n",
       "[149281 rows x 2 columns]"
      ]
     },
     "execution_count": 28,
     "metadata": {},
     "output_type": "execute_result"
    }
   ],
   "source": [
    "data"
   ]
  },
  {
   "cell_type": "code",
   "execution_count": 29,
   "id": "5ee3a2b7",
   "metadata": {
    "pycharm": {
     "name": "#%%\n"
    }
   },
   "outputs": [
    {
     "data": {
      "text/plain": [
       "data scientist                                  4016\n",
       "software developer                              3585\n",
       "software development engineer                   1077\n",
       "Administrative Assistant                         380\n",
       "junior software developer                        335\n",
       "                                                ... \n",
       "Pharmacy Tech I - La Porte - Part Time             1\n",
       "ICTS Supply Chain Risk Management Consultant       1\n",
       "Solution Architect - Early Science                 1\n",
       "Machine Operator - 3rd Shift - Hickman, KY         1\n",
       "Stores Supervisor                                  1\n",
       "Name: title, Length: 88689, dtype: int64"
      ]
     },
     "execution_count": 29,
     "metadata": {},
     "output_type": "execute_result"
    }
   ],
   "source": [
    "data.title.value_counts()"
   ]
  },
  {
   "cell_type": "markdown",
   "id": "ce14457e",
   "metadata": {},
   "source": [
    "## Levenshtein"
   ]
  },
  {
   "cell_type": "code",
   "execution_count": 30,
   "id": "39b0c4c6",
   "metadata": {
    "pycharm": {
     "name": "#%%\n"
    }
   },
   "outputs": [],
   "source": [
    "from Levenshtein import distance as levenshtein_distance\n"
   ]
  },
  {
   "cell_type": "code",
   "execution_count": 31,
   "id": "80d65b8e",
   "metadata": {
    "pycharm": {
     "name": "#%%\n"
    }
   },
   "outputs": [
    {
     "data": {
      "text/plain": [
       "11"
      ]
     },
     "execution_count": 31,
     "metadata": {},
     "output_type": "execute_result"
    }
   ],
   "source": [
    "levenshtein_distance('data scientist', 'data sciences engineer')"
   ]
  },
  {
   "cell_type": "code",
   "execution_count": 32,
   "id": "814a4545",
   "metadata": {
    "pycharm": {
     "name": "#%%\n"
    }
   },
   "outputs": [
    {
     "data": {
      "text/plain": [
       "42"
      ]
     },
     "execution_count": 32,
     "metadata": {},
     "output_type": "execute_result"
    }
   ],
   "source": [
    "levenshtein_distance('data scientist', 'customer experience data scientist, google cloud support')"
   ]
  },
  {
   "cell_type": "code",
   "execution_count": 33,
   "id": "d4514c71",
   "metadata": {
    "pycharm": {
     "name": "#%%\n"
    }
   },
   "outputs": [
    {
     "data": {
      "text/plain": [
       "32"
      ]
     },
     "execution_count": 33,
     "metadata": {},
     "output_type": "execute_result"
    }
   ],
   "source": [
    "levenshtein_distance('data scientist', 'hardware development engineer, home team')"
   ]
  },
  {
   "cell_type": "code",
   "execution_count": 34,
   "id": "4226579f",
   "metadata": {
    "pycharm": {
     "name": "#%%\n"
    }
   },
   "outputs": [],
   "source": [
    "title_data = data['title'].unique()"
   ]
  },
  {
   "cell_type": "code",
   "execution_count": 35,
   "id": "fdba065a",
   "metadata": {
    "pycharm": {
     "name": "#%%\n"
    }
   },
   "outputs": [
    {
     "data": {
      "text/plain": [
       "88689"
      ]
     },
     "execution_count": 35,
     "metadata": {},
     "output_type": "execute_result"
    }
   ],
   "source": [
    "len(title_data)"
   ]
  },
  {
   "cell_type": "markdown",
   "id": "4fcaa41e",
   "metadata": {},
   "source": [
    "## Data filter"
   ]
  },
  {
   "cell_type": "code",
   "execution_count": 37,
   "id": "2cabf7e0",
   "metadata": {
    "pycharm": {
     "name": "#%%\n"
    }
   },
   "outputs": [],
   "source": [
    "copy_data = data.copy()"
   ]
  },
  {
   "cell_type": "code",
   "execution_count": 38,
   "id": "e06729bc",
   "metadata": {
    "pycharm": {
     "name": "#%%\n"
    }
   },
   "outputs": [],
   "source": [
    "JUNIOR_LIST = [\"junior\", \"jr\", \"jr.\", \"intern\", \"entry level\", \"graduate\", \"associate\", \"assistant\", \"trainee\",\n",
    "\"internship\", \"apprentice\", \"post grad\", \"post-grad\", \"grad\", \"recent graduate\", \"masters\",\n",
    "\"under grad\", \"under graduate\", \"representative\", ]\n",
    "\n",
    "MID_LIST = [\"lead\", \"leader\", \"leading\", \"leadership\", \"team lead\", \"team leader\", \"coordinator\",\n",
    "\"account executive\", \"manager\", \"managing\", \"management\", \"supervisor\", \"middle\"]\n",
    "\n",
    "SENIOR_LIST = [\"leader\", \"manager\", \"executive\", \"director\", \"coordinator\", \"administrator\", \"controller\",\n",
    "\"officer\", \"organizer\", \"supervisor\", \"head\", \"overseer\", \"chief\", \"foreman\", \"principal\", \"president\",\n",
    "\"lead\", \"senior\", \"sr.\", \"sr\", \"ceo\", \"coo\", \"cfo\", \"cio\", \"cto\", \"cmo\", \"chro\", \"cdo\", \"cpo\", \"cco\",\n",
    "\"cio\", \"principle\", \"partner\", \"vp\", \"vice principle\", \"vice president\", \"vp\", \"counsel\", \"counselor\", ]"
   ]
  },
  {
   "cell_type": "code",
   "execution_count": 39,
   "id": "ab121abb",
   "metadata": {
    "pycharm": {
     "name": "#%%\n"
    }
   },
   "outputs": [],
   "source": [
    "filters = '|'.join(JUNIOR_LIST + MID_LIST + SENIOR_LIST)"
   ]
  },
  {
   "cell_type": "code",
   "execution_count": 40,
   "id": "aa5f3928",
   "metadata": {
    "pycharm": {
     "name": "#%%\n"
    },
    "scrolled": true
   },
   "outputs": [
    {
     "name": "stdout",
     "output_type": "stream",
     "text": [
      "junior|Junior\n",
      "jr|Jr\n",
      "jr.|Jr.\n",
      "intern|Intern\n",
      "entry level|Entry level\n",
      "graduate|Graduate\n",
      "associate|Associate\n",
      "assistant|Assistant\n",
      "trainee|Trainee\n",
      "internship|Internship\n",
      "apprentice|Apprentice\n",
      "post grad|Post grad\n",
      "post-grad|Post-grad\n",
      "grad|Grad\n",
      "recent graduate|Recent graduate\n",
      "masters|Masters\n",
      "under grad|Under grad\n",
      "under graduate|Under graduate\n",
      "representative|Representative\n",
      "lead|Lead\n",
      "leader|Leader\n",
      "leading|Leading\n",
      "leadership|Leadership\n",
      "team lead|Team lead\n",
      "team leader|Team leader\n",
      "coordinator|Coordinator\n",
      "account executive|Account executive\n",
      "manager|Manager\n",
      "managing|Managing\n",
      "management|Management\n",
      "supervisor|Supervisor\n",
      "middle|Middle\n",
      "leader|Leader\n",
      "manager|Manager\n",
      "executive|Executive\n",
      "director|Director\n",
      "coordinator|Coordinator\n",
      "administrator|Administrator\n",
      "controller|Controller\n",
      "officer|Officer\n",
      "organizer|Organizer\n",
      "supervisor|Supervisor\n",
      "head|Head\n",
      "overseer|Overseer\n",
      "chief|Chief\n",
      "foreman|Foreman\n",
      "principal|Principal\n",
      "president|President\n",
      "lead|Lead\n",
      "senior|Senior\n",
      "sr.|Sr.\n",
      "sr|Sr\n",
      "ceo|Ceo\n",
      "coo|Coo\n",
      "cfo|Cfo\n",
      "cio|Cio\n",
      "cto|Cto\n",
      "cmo|Cmo\n",
      "chro|Chro\n",
      "cdo|Cdo\n",
      "cpo|Cpo\n",
      "cco|Cco\n",
      "cio|Cio\n",
      "principle|Principle\n",
      "partner|Partner\n",
      "vp|Vp\n",
      "vice principle|Vice principle\n",
      "vice president|Vice president\n",
      "vp|Vp\n",
      "counsel|Counsel\n",
      "counselor|Counselor\n"
     ]
    },
    {
     "name": "stderr",
     "output_type": "stream",
     "text": [
      "C:\\Users\\annch\\AppData\\Local\\Temp\\ipykernel_1104\\653939572.py:6: FutureWarning: The default value of regex will change from True to False in a future version.\n",
      "  copy_data['title'] = copy_data['title'].str.replace(filters, \"\", case=False)\n"
     ]
    }
   ],
   "source": [
    "copy_data['position'] = ''\n",
    "for option in JUNIOR_LIST+MID_LIST+SENIOR_LIST:\n",
    "    print(f'{option}|{option.capitalize()}')\n",
    "    copy_data.loc[copy_data['title'].str.contains(option, regex=False, case=False), 'position']  = option\n",
    "    \n",
    "copy_data['title'] = copy_data['title'].str.replace(filters, \"\", case=False)"
   ]
  },
  {
   "cell_type": "code",
   "execution_count": 41,
   "id": "9dc793ba",
   "metadata": {
    "pycharm": {
     "name": "#%%\n"
    }
   },
   "outputs": [],
   "source": [
    "copy_data['title'] = copy_data['title'].apply(str.lower).apply(str.strip)\n"
   ]
  },
  {
   "cell_type": "code",
   "execution_count": 42,
   "id": "ede3d407",
   "metadata": {
    "pycharm": {
     "name": "#%%\n"
    }
   },
   "outputs": [],
   "source": [
    "save_data = copy_data.copy()"
   ]
  },
  {
   "cell_type": "code",
   "execution_count": 44,
   "id": "176b61f5",
   "metadata": {
    "pycharm": {
     "name": "#%%\n"
    }
   },
   "outputs": [
    {
     "data": {
      "text/plain": [
       "0"
      ]
     },
     "execution_count": 44,
     "metadata": {},
     "output_type": "execute_result"
    }
   ],
   "source": [
    "sum(data['title']=='')"
   ]
  },
  {
   "cell_type": "code",
   "execution_count": 46,
   "id": "abbb517b",
   "metadata": {
    "collapsed": true,
    "pycharm": {
     "name": "#%%\n"
    }
   },
   "outputs": [
    {
     "name": "stderr",
     "output_type": "stream",
     "text": [
      "C:\\Users\\annch\\anaconda3\\lib\\site-packages\\xlsxwriter\\worksheet.py:1170: UserWarning: Ignoring URL 'https://eatbarenaked.com/%20Prep%20Cook:%20Seeking%20an%20experienced,%20organized,%20and%20efficient%20prep%20cook%20that%20will%20uphold%20our%20standards%20of%20quality%20and%20excellence.%20We%20have%20a%20varied%20menu%20with%20multiple%20ingredients%20and%20will%20use%20multiple%20cooking%20methods.%20Line%20Cook/Food%20Producer:%20Candidate%20should%20have%20a%20general%20scope%20in%20culinary,%20will%20build%20menu%20items%20and%20uphold%20all%20food%20safety%20and%20sanitation%20standards%20to%20a%20premium.%20Job%20Types:%20Full-time,%20Part-time%20Pay:%20$8.00%20-%20$15.00%20per%20hour%20Guest%20Service%20Attendant:%20Our%20guest%20ambassador,%20will%20attend%20to%20guests’%20needs%20and%20continued%20needs,%20continued%20service%20in%20the%20dining%20room%20by%20suggestively%20selling%20our%20great%20offerings.%20Cashier/Sales:%20Will%20guide%20guests%20through%20our%20menu%20by%20suggestively%20selling%20and%20explaining%20ingredients%20and%20all%20that%20we%20have%20to%20offer.%20An%20ideal%20candidate%20should%20possess%20strong%20multi-tasking%20skills%20and%20possess%20the%20highest%20integrity.%20To-Go%20Specialist:%20Candidate%20is%20an%20energetic,%20organized%20individual%20that%20handles%20high%20volume%20and%20multi-tasking%20well.%20This%20position%20will%20also%20support%20others%20in%20various%20tasks.%20GSA%20Runner:%20This%20individual%20will%20expedite%20guests’%20orders%20ensuring%20everything%20is%20perfect%20and%20prepared%20to%20our%20standards,%20while%20ensure%20every%20guest’s%20need%20is%20seen%20to%20and%20provided%20for.%20This%20candidate%20should%20handle%20multi-tasking%20and%20flexibility%20well%20as%20we%20envision%20functions%20will%20overlap.%20We%20are%20searching%20for%20a%20friendly%20and%20professional%20Cashier%20to%20join%20our%20restaurant%20staff.%20As%20the%20first%20point%20of%20contact,%20you%20will%20greet%20and%20assist%20customers%20as%20they%20enter%20our%20restaurant.In%20this%20position,%20delivering%20outstanding%20customer%20service%20will%20be%20your%20main%20objective.%20Additional%20responsibilities%20might%20include%20processing%20food%20orders,%20cleaning%20public%20spaces,%20and%20packaging%20orders.%20The%20ideal%20candidate%20will%20be%20friendly,%20with%20excellent%20communication%20and%20interpersonal%20skills.Job%20Duties-%20Welcome%20customers%20and%20help%20determine%20their%20orders.-%20Process%20customer%20orders%20and%20record%20them%20in%20the%20restaurant%20database.-%20Relay%20customers’%20orders%20to%20the%20kitchen%20staff.-%20Ensure%20all%20orders%20are%20delivered%20to%20the%20customers%20in%20a%20timely%20manner.-%20Accept%20cash%20and%20return%20the%20correct%20change.-%20Tally%20money%20in%20the%20cash%20drawer%20at%20the%20beginning%20and%20end%20of%20each%20work%20shift.-%20Place%20food%20orders%20in%20the%20appropriate%20bags%20and%20boxes.-%20Respond%20to%20customer%20inquiries,%20issue%20receipts,%20and%20record%20customer%20suggestions.-%20Clean%20and%20arrange%20eating,%20service,%20and%20kitchen%20spaces.-%20Help%20kitchen%20staff%20when%20needed.Skills%20and%20Qualifications-%20High%20school%20diploma%20or%20equivalent%20qualification.-%20Proven%20experience%20in%20a%20customer%20service%20role%20is%20an%20advantage.-%20Excellent%20communication%20and%20interpersonal%20skills.-%20Must%20be%20able%20to%20work%20a%20flexible%20schedule%20including%20evenings,%20weekends,%20and%20holidays.%20Responsibilities%20Welcome%20customers%20and%20help%20determine%20their%20orders.%20Process%20customer%20orders%20and%20record%20them%20in%20the%20restaurant%20database.%20Relay%20customers’%20orders%20to%20the%20kitchen%20staff.%20Ensure%20all%20orders%20are%20delivered%20to%20the%20customers%20in%20a%20timely%20manner.%20Accept%20cash%20and%20return%20the%20correct%20change.%20Tally%20money%20in%20the%20cash%20drawer%20at%20the%20beginning%20and%20end%20of%20each%20work%20shift.%20Place%20food%20orders%20in%20the%20appropriate%20bags%20and%20boxes.%20Respond%20to%20customer%20inquiries,%20issue%20receipts,%20and%20record%20customer%20suggestions.%20Clean%20and%20arrange%20eating,%20service,%20and%20kitchen%20spaces.%20Help%20kitchen%20staff%20when%20needed.%20Job%20Types:%20Full-time,%20Part-time%20Pay:%20$10.00%20-%20$13.00%20per%20hour%20Schedule:%20Monday%20to%20Friday%20Weekend%20availability%20Work%20Location:%20One%20locationRestaurant/food%20Service' with link or location/anchor > 2079 characters since it exceeds Excel's limit for URLS\n",
      "  warn(\"Ignoring URL '%s' with link or location/anchor > %d \"\n",
      "C:\\Users\\annch\\anaconda3\\lib\\site-packages\\xlsxwriter\\worksheet.py:1170: UserWarning: Ignoring URL 'https://www.eatcfa.com/%20At%20Chick-fil-A%20@%2046th%20&%206th%20In-Line%20we%20are%20truly%20blessed%20with%20the%20opportunity%20to%20serve%20the%20midtown%20Manhattan%20community%20using%20our%20restaurant%20as%20a%20vehicle%20to%20reach%20and%20connect%20with%20many%20thousands%20of%20individuals%20who%20either%20live%20in,%20work%20in%20or%20visit%20New%20York%20City%20daily.%20We%20strive%20to%20not%20only%20nourish%20our%20community%20with%20reliably%20delicious%20food,%20but%20to%20also%20make%20meaningful%20and%20lasting%20connections%20with%20our%20patrons%20at%20an%20emotional%20level%20and%20provide%20them%20what%20they%20really%20crave%20–%20genuine%20hospitality%20and%20a%20sense%20of%20honor,%20dignity%20and%20respect!%20“We%20are%20a%20people%20company%20that%20serves%20chicken”%20-S.%20Truett%20Cathy,%20Founder%20Now%20Hiring:%20Delivery%20Specialist%20We%20are%20in%20search%20of%20trustworthy,%20hard-working,%20and%20coachable%20individuals%20who%20have%20a%20genuine%20desire%20to%20serve%20others,%20and%20who%20are%20excited%20about%20working%20in%20a%20fast-paced,%20energetic%20and%20dynamic%20quick%20service%20restaurant%20environment.%20We%20are%20hiring%20Team%20Members%20who%20want%20to%20join%20our%20new%20Delivery%20Team!%20Must%20be%20able%20to%20ride%20a%20bicycle.%20Must%20be%20comfortable%20walking%20during%20the%20entire%20length%20of%20shift.%20No%20experience%20necessary,%20in%20house%20training%20provided%20Majority%20of%20shift%20times%20are%20during%20lunch.%20Flexible%20availability%20is%20preferred%20Wages%20start%20at%20$15/hr%20before%20tip%20All%20Chick-fil-A%20Team%20Members%20enjoy:%20Welcoming%20Environment%20Culture%20of%20Care%20Competitive%20Pay%20Career%20Advancement%20Opportunities%20Leadership%20Development%20Employee%20Meals%20&%20Discounts%20On-the-job%20Training%20Sunday’s%20off%20Flexible%20Schedules%20With%20hard%20work%20and%20dedication,%20today’s%20team%20member%20could%20become%20tomorrow’s%20General%20Manager%20or%20even%20a%20future%20Owner/Operator.%20At%20Chick-fil-A,%20your%20future%20is%20up%20to%20you!%20Requirements:%20Prior%20experience%20is%20preferred,%20not%20required%20training%20is%20available!%20The%20right%20candidate%20is%20trustworthy,%20hard-working,%20responsible,%20energetic,%20coachable,%20and%20a%20team%20player.%20Come%20and%20join%20an%20exceptional%20team.%20Your%20story%20with%20Chick-fil-A%20can%20start%20today!%20' with link or location/anchor > 2079 characters since it exceeds Excel's limit for URLS\n",
      "  warn(\"Ignoring URL '%s' with link or location/anchor > %d \"\n",
      "C:\\Users\\annch\\anaconda3\\lib\\site-packages\\xlsxwriter\\worksheet.py:1170: UserWarning: Ignoring URL 'https://calendly.com/ceragemus/interview-zoom%20Overview%20CERAGEM%20is%20launching%20a%20campaign%20to%20bring%20health%20into%20the%20homes%20of%20U.S.%20families.%20We’re%20seeking%20retail%20sales%20specialists%20eager%20to%20empower%20our%20clients%20to%20find%20solutions%20to%20their%20health%20and%20wellness%20needs.%20Through%20one-on-one%20consultations%20at%20our%20centers,%20we’re%20here%20to%20help%20clients%20find%20the%20“perfect%20fit”%20towards%20a%20“well%20life”.%20We’re%20looking%20for%20professional,%20outgoing,%20and%20friendly%20staff%20to%20educate%20clients%20on%20well-being%20principles%20as%20they%20try%20our%20products.%20We’re%20looking%20for%20retail%20sales%20professionals%20to%20effectively%20communicate%20the%20features%20and%20benefits%20of%20our%20products.%20All%20our%20retail%20“service%20managers”%20will%20receive%20extensive%20training%20on%20health%20and%20wellness%20principles%20and%20the%20design%20principles%20of%20our%20products%20to%20help%20clients%20relax%20and%20relieve%20their%20pain.%20This%20is%20an%20exciting%20opportunity%20to%20grow%20your%20sales%20career%20and%20experience%20flexible%20earning%20potential.%20Our%20retail%20sales%20professionals%20convey%20a%20passion%20for%20our%20products%20and%20customers%20and%20represent%20the%20CERAGEM%20brand%20with%20the%20highest%20integrity.%20Job%20Type:%20Part-time%20(the%20position%20could%20be%20converted%20to%20full-time;%20conditional%20upon%203%20month%20performance%20review)%20Pay:%20$18.00%20per%20hour%20+%20pay-for-performance%20bonus%20Responsibilities%20Be%20passionate%20about%20CERAGEM.%20Develop%20a%20deep%20knowledge%20and%20understanding%20of%20CERAGEM's%20products%20and%20brand%20image.%20Deliver%20the%20best%20possible%20service%20and%20attention%20to%20all%20clients,%20at%20all%20times.%20Discover%20each%20customer’s%20unique%20wellness%20needs%20and%20lead%20them%20through%20a%20selection%20of%20CERAGEM%20products%20that%20will%20deliver%20a%20“well%20life.”%20Develop%20positive%20relationships%20with%20consumers%20and%20teammates.%20Actively%20deliver%20product%20value%20by%20building%20relationships%20with%20customers.%20Become%20a%20trusted,%20successful%20“Service%20Manager”,%20guiding%20clients%20on%20how%20to%20effectively%20use%20CERAGEM%20devices.%20Proactively%20and%20effectively%20communicate%20product%20features%20and%20benefits,%20as%20well%20as%20promotional%20information.%20Provide%20timely,%20relevant%20follow-up.%20Help%20to%20maintain%20visual/physical%20standards%20of%20displays%20Model%20reliability%20and%20flexibility%20by%20being%20able%20to%20work%20varied%20hours%20and%20days%20to%20meet%20the%20needs%20of%20the%20business%20Qualifications/Requirements%20Proven%20work%20experience%20as%20a%20Retail%20Sales%20Representative,%20Sales%20Associate%20or%20similar%20role%20(2%20years%20or%20more)%20Exceptional%20presentation%20and%20customer%20service%20skills;%20ability%20to%20make%20a%20connection%20with%20a%20diverse%20array%20of%20customers.%20Able%20to%20work%20effectively%20with%20others%20in%20a%20team-oriented%20environment%20and%20provide%20excellent%20customer%20service.%20A%20commitment%20to%20professional%20appearance%20and%20attitude;%20willingness%20to%20represent%20the%20brand%20with%20integrity%20at%20all%20times.%20Flexible%20with%20scheduling%20and%20available%20to%20work%20retail%20hours,%20including%20days,%20evenings,%20weekends%20and/or%20holidays,%20based%20on%20department%20and%20store/company%20needs%20Must%20be%20authorized%20to%20work%20in%20the%20U.S.%20and%20able%20to%20demonstrate%20English%20language%20proficiency.%20Second%20language%20skills%20encouraged.%20Able%20to%20adapt%20and%20grow%20in%20a%20changing,%20fast-paced%20work%20environment.%20Healthcare%20device%20sales%20or%20Nursing%20career%20is%20preferred%20Compensation%20and%20Benefits%20$18.00%20per%20hour%20+%20pay-for-performance%20bonus%20plan%20Signing%20bonus%20(conditional%20upon%203%20month%20performance%20review)%20Flexible%20scheduling;%20evening%20and%20weekend%20work%20available%20Employee%20discount%20Growth%20opportunity%20About%20CERAGEM%20We%20create%20a%20healthier%20today%20than%20yesterday%20and%20a%20healthier%20tomorrow%20than%20today.%20CERAGEM%20believes%20health%20begins%20at%20home%20and%20a%20healthy%20lifestyle%20should%20be%20shared%20and%20enjoyed%20by%20the%20whole%20family.%20We%20propose%20health%20care%20can%20be%20received%20comfortably%20and%20conveniently%20in%20your%20own%20home.%20Since%20its%20launch%20in%201998,%20CERAGEM%20has%20established%20itself%20as%20a%20global%20home%20healthcare%20company.%20Job%20Types:%20Full-time,%20Part-time%20Pay:%20From%20$18.00%20per%20hour%20Benefits:%20Employee%20discount%20Flexible%20schedule%20Schedule:%20Day%20shift%20Monday%20to%20Friday%20Night%20shift%20Weekend%20availability%20Supplemental%20Pay:%20Bonus%20pay%20Experience:%20Retail%20Customer%20Service:%202%20years%20(Required)%20Shift%20availability:%20Day%20Shift%20(Preferred)%20Night%20Shift%20(Preferred)%20Work%20Location:%20One%20locationRetail' with link or location/anchor > 2079 characters since it exceeds Excel's limit for URLS\n",
      "  warn(\"Ignoring URL '%s' with link or location/anchor > %d \"\n"
     ]
    },
    {
     "name": "stderr",
     "output_type": "stream",
     "text": [
      "C:\\Users\\annch\\anaconda3\\lib\\site-packages\\xlsxwriter\\worksheet.py:1170: UserWarning: Ignoring URL 'https://www.tendonllc.com/construction-worker%20There%20is%20potential%20to%20be%20hired%20on%20permanently%20after%20our%20project%20in%20Myrtle%20Beach%20is%20complete.%20Please%20apply%20today!%20DESCRIPTION:%20Construction/%20concrete%20laborer%20will:%20Load%20and%20unload%20construction%20materials%20(concrete,%20cable%20spools,%20etc)%20Construction/%20concrete%20laborer%20will:%20Break%20up%20concrete,%20bag%20concrete,%20and%20dispose%20of%20concrete%20Construction/%20concrete%20laborer%20will:%20Follow%20instructions%20from%20construction%20project%20leaders%20and%20construction%20project%20managers/%20coordinators%20Construction/%20concrete%20laborer%20will:%20Use%20hand%20tools%20and%20industrial%20construction%20machinery/%20heavy%20equipment%20Construction/%20concrete%20laborer%20will:%20Pour%20concrete%20Construction/%20concrete%20laborer%20will:%20Help%20equipment%20operators,%20carpenters,%20and%20other%20skilled%20construction%20laborers%20when%20necessary%20REQUIREMENTS:%20Applicants%20must%20be%20able%20to%20complete%20eVerify%20Applicants%20must%20be%2018%20years%20of%20age%20or%20older%20Applicants%20must%20be%20able%20to%20provide%20their%20own%20reliable%20transportation%20Applicants%20must%20be%20able%20to%20stand%20on%20their%20feet%20for%20long%20periods%20with%20minimal%20breaks%20and%20be%20able%20to%20work%20outdoors%20in%20weather%20conditions%20such%20as%20heat%20and%20cold%20Applicants%20must%20be%20able%20to%20bend,%20kneel,%20stoop,%20squat,%20twist,%20push,%20and%20pull%20with%20a%20full%20range%20of%20motion%20Applicants%20must%20be%20able%20to%20lift%2050+%20pounds%20unassisted%20Job%20Types:%20Full-time,%20Temporary%20Pay:%20From%20$15.00%20per%20hour%20Schedule:%2010%20hour%20shift%2012%20hour%20shift%208%20hour%20shift%20Monday%20to%20Friday%20Overtime%20Weekend%20availability%20Experience:%20Construction:%201%20year%20(Preferred)%20License/Certification:%20Driver's%20License%20(Required)%20Work%20Location:%20One%20locationConstruction/facilitiesPost-Tensioning%20specialty%20contractor%20utilizing%20advanced%20construction%20systems%20and%20engineering%20methods.%20Working%20throughout%20the%20southeast.%20S...' with link or location/anchor > 2079 characters since it exceeds Excel's limit for URLS\n",
      "  warn(\"Ignoring URL '%s' with link or location/anchor > %d \"\n",
      "C:\\Users\\annch\\anaconda3\\lib\\site-packages\\xlsxwriter\\worksheet.py:1170: UserWarning: Ignoring URL 'https://nowhiring.com/foxborodunkin/%20Job%20Requirements:%20SMILE.%20Looking%20for%20motivated%20people.%20$13.50/hr+%20tips%20starting%20pay%20with%20no%20experience.%20All%20shifts%20available.%20QSR%20Restaurant%20experience%20will%20yield%20higher%20pay.%20This%20will%20depend%20on%20prior%20work%20experience%20as%20well%20as%20completed%20online%20training%20courses.%20Fun%20Facts%20about%20us:%20We%20are%20a%20family-owned%20business%20run%20by%20the%20same%20local%20family%20since%201988!%20We%20currently%20have%20multiple%20employees%20still%20employed%20from%20our%20first%20day%20of%20opening!%20Our%20Mission%20Statement%20is%20to%20%22Be%20Your%20Best%22%20every%20day%20We%20focus%20on%20personalized%20service%20to%20give%20our%20customers%20a%20unique%20experience!%20We%20have%20many%20celebrities%20such%20as%20Gronk%20and%20other%20celebrities%20that%20have%20stopped%20by%20our%20shops!%20Our%20main%20focus%20at%20our%20network%20is%20to%20make%20people%20work%20less.%20Working%20together%20and%20smarter%20has%20been%20a%20trademark%20of%20our%20strategy%20over%20the%20years.%20When%20everyone%20is%20working%20as%20a%20team,%20the%20strain%20level%20amongst%20everyone%20decreases.%20All%20of%20our%20employees%20should%20feel%20that%20they%20are%20not%20coming%20to%20a%20job,%20they're%20joining%20a%20family.%20We%20are%20keeping%20Foxborough%20and%20Norfolk%20running%20by%20providing%20smiles%20and%20great%20attitudes!%20Regardless%20of%20the%20ever%20changing%20world,%20we%20can%20proudly%20say%20that%20we%20are%20ready%20and%20always%20forward%20thinking!%20Currently,%20we%20are%20running%20a%20little%20different%20for%20everyone's%20safety.%20All%20of%20our%20crew%20members%20are%20wearing%20single%20use%20gloves%20which%20are%20changed%20frequently%20to%20ensure%20guest%20and%20employee%20safety.%20We%20are%20constantly%20thinking%20of%20new%20ways%20with%20Managers%20and%20Team%20Members%20to%20make%20the%20environment%20more%20fun.%20This%20Dunkin'%20Donuts%20restaurant%20is%20independently%20owned%20and%20operated%20under%20a%20franchise%20granted%20by%20DD%20Franchising%20LLC.%20You%20are%20applying%20for%20work%20with%20a%20franchisee%20of%20Dunkin'%20Donuts,%20not%20Dunkin'%20Brands,%20Inc.,%20Dunkin'%20Donuts%20or%20any%20of%20their%20affiliates.%20Any%20information%20you%20submit%20will%20be%20provided%20solely%20to%20the%20franchisee.%20If%20hired,%20the%20franchisee%20will%20be%20your%20only%20employer.%20Franchisees%20are%20independent%20business%20owners%20who%20are%20solely%20responsible%20for%20their%20own%20employees%20and%20set%20their%20own%20wage%20and%20benefit%20programs%20that%20can%20vary%20among%20franchisees.%20The%20Dunkin'%20Donuts%20trademarks,%20logos%20and%20designs%20are%20trademarks%20of%20DD%20IP%20Holder,%20LLC.%20Used%20under%20license.%20Crew%20Members%20play%20a%20vital%20role%20in%20delivering%20great%20guest%20experiences.%20They%20prepare%20products%20according%20to%20operational%20and%20quality%20standards,%20and%20serve%20them%20with%20enthusiasm%20in%20a%20clean%20environment.%20They%20work%20as%20part%20of%20a%20team%20to%20meet%20our%20Guests’%20needs%20and%20give%20them%20a%20reason%20to%20come%20back.%20If%20you%20enjoy%20working%20in%20a%20fast-paced,%20fun-paced%20environment%20that%20is%20challenging%20and%20allows%20you%20to%20apply%20your%20personality%20and%20skills%20in%20a%20variety%20of%20ways,%20becoming%20a%20Crew%20Member%20for%20a%20Dunkin’%20Donuts%20franchisee%20is%20a%20great%20career%20choice.%20Our%20team%20is%20committed%20to%20making%20our%20guests’%20day%20by%20serving%20them%20with%20a%20great%20product,%20a%20smile,%20and%20heck,%20maybe%20even%20a%20joke%20or%20two.%20Everyone%20on%20our%20team,%20from%20our%20franchisee%20to%20our%20manager%20to%20our%20crew%20member,%20works%20together%20and%20takes%20pride%20in%20doing%20a%20good%20job.%20If%20you%20are%20ready%20to%20roll%20up%20your%20sleeves%20and%20work%20with%20a%20winning%20team,%20then%20join%20our%20dynamic,%20award%20winning%20franchise!%20Responsibilities%20Include:%20Hold%20themselves%20accountable%20for%20their%20responsibilities%20on%20their%20shift.%20Adhere%20to%20schedule%20and%20arrive%20ready%20to%20work%20on%20time.%20Operations%20Excellence%20for%20Guest%20Satisfaction%20meeting%20our%20C.A.R.E.%20level%20of%20service.%20Adhere%20to%20Brand%20standards%20and%20systems,%20delivering%20quality%20food%20and%20beverage%20to%20each%20guest.%20Maintain%20a%20clean%20and%20neat%20workstation;%20complete%20thorough%20cleaning%20of%20guest%20areas%20as%20directed.%20Complete%20all%20required%20training%20and%20support%20the%20training%20of%20other%20team%20members.%20Effectively%20execute%20restaurant%20standards%20and%20marketing%20initiatives.%20Prepare%20all%20products%20following%20appropriate%20recipes%20and%20procedures.%20Follow%20all%20procedures%20related%20to%20cash,%20cleanliness,%20food%20safety,%20and%20restaurant%20safety%20and%20security.%20Comply%20with%20all%20restaurant,%20Brand,%20and%20franchisee%20policies.%20Qualifications:%20Must%20be%20able%20to%20fluently%20speak/read%20English%20Capable%20of%20counting%20money%20and%20making%20change%20Able%20to%20operate%20restaurant%20equipment%20(minimum%20age%20requirements%20may%20apply)%20Guest%20Focus%20–%20anticipate%20and%20understand%20guests’%20needs%20and%20exceed%20their%20expectations.%20Benefits%20Include:%20Completive%20Weekly%20Pay%20Paid%20Time%20Off%20Employee%20Meals%20Medical%20Insurance%20with%20Company%20contribution%20(full%20time%20employees)%20AllState%20Accident,%20Short%20Term%20Disability%20&%20Life%20Insurance%20Available%20Qualifications:%20Must%20be%20able%20to%20fluently%20speak/read%20English%20Capable%20of%20counting%20money%20and%20making%20change%20Able%20to%20operate%20restaurant%20equipment%20(minimum%20age%20requirements%20may%20apply)%20Guest%20Focus%20–%20anticipate%20and%20understand%20guests’%20needs%20and%20exceed%20their%20expectations.%20Benefits%20Include:%20Completive%20Weekly%20Pay%20Paid%20Time%20Off%20Employee%20Meals%20Medical%20Insurance%20with%20Company%20contribution%20please%20be%20aware%20the%20minimum%20wage%20in%20the%20state%20of%20MA%20is%20$13.50/hr.%20Employees%20will%20begin%20at%20$13.50/hr%20that%20have%20no%20prior%20QSR%20experience%20and%20will%20be%20adjusted%20accordingly%20by%20management%20to%20higher%20pay%20that%20is%20deemed%20appropriate.Computer/internetFounded%20in%201950,%20Dunkin'%20is%20America's%20favorite%20all-day,%20everyday%20stop%20for%20coffee%20and%20baked%20goods.%20The%20company%20has%20more%20than%2012,200%20franc...' with link or location/anchor > 2079 characters since it exceeds Excel's limit for URLS\n",
      "  warn(\"Ignoring URL '%s' with link or location/anchor > %d \"\n",
      "C:\\Users\\annch\\anaconda3\\lib\\site-packages\\xlsxwriter\\worksheet.py:1170: UserWarning: Ignoring URL 'https://vimeo.com/543843972%20We%20are%20always%20looking%20to%20expand%20our%20team!%20In%20addition%20to%20hiring%20Movers%20&%20Drivers,%20PDX%20Movers%20is%20currently%20looking%20to%20hire%20a%20Customer%20Care%20Specialist!%20Here%20at%20PDX%20Movers,%20we%20big%20on%20two%20things%20-%20Culture%20and%20Teamwork!%20We%20operate%20daily%20with%20good%20vibes%20and%20positive%20energy,%20taking%20pride%20in%20the%20details%20of%20our%20work%20and%20always%20striving%20to%20be%20better%20than%20we%20were%20yesterday!%20The%20position%20we%20are%20looking%20to%20fill%20is%20a%20Customer%20Care%20Specialist.%20You%20will%20be%20addressing%20all%20customer%20concerns%20in%20regards%20to%20moves%20from%20the%20start%20to%20the%20finish.%20From%20taking%20the%20report,%20making%20a%20full%20investigation,%20deciding%20what%20solutions%20will%20be%20best%20for%20both%20parties,%20all%20the%20while%20ensuring%20that%20PDX%20Movers%20is%20protected%20and%20not%20paying%20out%20more%20than%20what%20is%20reasonably%20owed,%20if%20anything%20at%20all.%20The%20individual%20we%20are%20seeking%20is%20someone%20that%20is%20independent%20and%20reliable.%20Someone%20that%20is%20able%20to%20take%20instruction%20and%20run%20with%20it,%20doing%20everything%20you%20can%20to%20complete%20your%20tasks.%20We%20are%20looking%20for%20someone%20that%20is%20detail%20orientated,%20confident%20in%20their%20work%20and%20like%20earlier%20mentioned,%20someone%20that%20is%20able%20to%20manage%20their%20tasks%20independently.%20It%20is%20also%20a%20requirement%20that%20the%20individual%20is%20aware%20of%20and%20understands%20the%20importance%20of%20customer%20relationships,%20being%20able%20to%20handle%20all%20matters%20with%20A1%20customer%20service%20and%20professionalism%20through%20and%20through.%20Job%20Description:%20Tracks%20all%20Customer%20Claims%20Tracks%20all%20Customer%20Claim%20Knocks%20Handles%20all%20claim%20communication%20with%20customers%20from%20start%20to%20finish%20Investigates%20customer%20claims.%20Which%20includes%20communication%20with%20field%20crew,%20getting%20accurate%20representation%20of%20claim,%20gathering%20evidence(photos,%20videos,%20etc.)%20Maintaining%20organization%20of%20PDX%20Movers%20open%20claims%20-%20pictures,%20claim%20web%20form,%20etc.%20When%20necessary,%20locating%20repair%20perosn/team%20to%20handle%20the%20claim.%20This%20includes%20getting%20quotations,%20scheduling%20repair,%20payment,%20etc.(you%20will%20be%20in%20charge%20of%20comparing%20prices,%20ratings,%20etc.%20and%20then%20making%20the%20decision%20on%20which%20would%20be%20best%20to%20go%20with%20per%20customer%20claim)%20Benefits:%20Weekly%20Pay:%20Every%20Friday!%20$$$%20Holiday%20Pay%20&%20Sick%20Time%20Accrual%20Monthly%20Bonus%20Lots%20of%20room%20for%20growth%20Health,%20Vision%20and%20Dental%20insurance%20after%2090%20day%20mark%20Working%20alongside%20an%20AMAZING%20team%20Think%20you're%20the%20missing%20piece%20to%20our%20puzzle?%20give%20Boom%20a%20call%20at%20503-908-3080%20for%20more%20details!%20Talk%20to%20you%20soon!%20PDX%20Movers%20is%20fully%20committed%20to%20Equal%20Employment%20Opportunity%20and%20to%20attracting,%20retaining,%20developing,%20and%20promoting%20the%20most%20qualified%20employees%20without%20regard%20to%20their%20race,%20gender,%20color,%20religion,%20sexual%20orientation,%20national%20origin,%20age,%20physical%20or%20mental%20disability,%20citizenship%20status,%20veteran%20status,%20or%20any%20other%20characteristic%20prohibited%20by%20state%20or%20local%20law.%20We%20are%20dedicated%20to%20providing%20a%20work%20environment%20free%20from%20discrimination%20and%20harassment,%20and%20where%20employees%20are%20treated%20with%20respect%20and%20dignity.%20Job%20Type:%20Full-time%20Pay:%20$14.00%20-%20$16.00%20per%20hour%20Benefits:%20Health%20insurance%20Schedule:%208%20hour%20shift%20Monday%20to%20Friday%20Experience:%20Customer%20service:%201%20year%20(Preferred)%20Work%20Location:%20One%20locationCustomer%20ServicePDX%20Movers%20started%20out%20as%20a%20local%20company%20with%20a%20local%20reach,%20in%202012.%20It%20has%20now%20grown%20to%20specialize%20in%20residential%20and%20commercial%20moves...' with link or location/anchor > 2079 characters since it exceeds Excel's limit for URLS\n",
      "  warn(\"Ignoring URL '%s' with link or location/anchor > %d \"\n",
      "C:\\Users\\annch\\anaconda3\\lib\\site-packages\\xlsxwriter\\worksheet.py:1170: UserWarning: Ignoring URL 'https://vimeo.com/543843972%20PDX%20Movers%20is%20currently%20looking%20to%20hire%20an%20Administrative%20Assistant!%20Here%20at%20PDX%20Movers,%20we%20are%20big%20on%20two%20things%20-%20culture%20and%20teamwork!%20We%20operate%20daily%20with%20good%20vibes%20and%20positive%20energy,%20taking%20pride%20in%20the%20details%20of%20our%20work%20and%20always%20striving%20to%20be%20better%20than%20we%20were%20yesterday!%20We%20are%20looking%20to%20add%20an%20Administrative%20Assistant%20to%20our%20office%20with%20a%20special%20focus%20on%20data%20entry!%20This%20position%20will%20mainly%20be%20in%20charge%20of%20taking%20documented%20inventories%20and%20job-specific%20data,%20gathered%20by%20our%20outside%20surveyors,%20and%20entering%20them%20into%20our%20moving%20software.%20In%20addition,%20this%20position%20will%20also%20be%20our%20in-house%20Penske%20Agent%20(truck%20leasing).%20They%20will%20answer%20inbound%20Penske%20calls,%20facilitate%20pick-ups%20and%20drop-offs%20and%20coordinate%20with%20the%20warehouse%20on%20Penske-related%20inventory.%20Lastly,%20this%20position%20will%20happily%20assist%20in%20the%20function%20and%20fluidity%20of%20the%20office%20wherever%20help%20is%20needed.%20We%20are%20looking%20for%20someone%20that%20is%20detail-oriented,%20reliable,%20confident%20in%20their%20work,%20and%20able%20to%20manage%20their%20tasks%20independently.%20This%20person%20will%20be%20at%20the%20forefront%20of%20our%20office%20and%20will%20need%20to%20be%20willing%20and%20eager%20to%20greet%20customers%20as%20they%20enter%20the%20building!%20Job%20Description:%20Gather%20data%20from%20our%20outside%20sales%20representatives%20Enter%20inventory%20&%20job%20details%20into%20our%20moving%20software%20Support%20move%20coordinators%20on%20administrative%20tasks;%20paperwork,%20follow-ups%20Be%20the%20first%20point%20of%20contact%20for%20all%20Penske%20customers%20Following%20protocol%20for%20checking%20trucks%20in%20and%20out%20Maintain%20Penske%20inventory%20organization%20and%20submit%20weekly%20paperwork%20Answer%20inbound%20Penske%20calls%20Other%20administrative%20tasks%20as%20assigned%20Benefits:%20Weekly%20Pay:%20Every%20Friday!%20Sick%20Time%20Accrual%20Monthly%20Bonuses%20Lots%20of%20room%20for%20growth%20Health,%20Vision%20and%20Dental%20insurance%20after%2090%20days%20of%20employment%20Working%20alongside%20an%20AMAZING%20team%20Think%20you%20have%20what%20it%20takes?%20Give%20us%20a%20call%20at%20503-908-3080%20**%20PDX%20Movers%20is%20fully%20committed%20to%20Equal%20Employment%20Opportunity%20and%20to%20attracting,%20retaining,%20developing,%20and%20promoting%20the%20most%20qualified%20employees%20without%20regard%20to%20their%20race,%20gender,%20color,%20religion,%20sexual%20orientation,%20national%20origin,%20age,%20physical%20or%20mental%20disability,%20citizenship%20status,%20veteran%20status,%20or%20any%20other%20characteristic%20prohibited%20by%20state%20or%20local%20law.%20We%20are%20dedicated%20to%20providing%20a%20work%20environment%20free%20from%20discrimination%20and%20harassment,%20and%20where%20employees%20are%20treated%20with%20respect%20and%20dignity.%20Job%20Type:%20Full-time%20Pay:%20$16.00%20-%20$17.00%20per%20hour%20Benefits:%20Dental%20insurance%20Health%20insurance%20Vision%20insurance%20Schedule:%208%20hour%20shift%20Monday%20to%20Friday%20Supplemental%20Pay:%20Bonus%20pay%20Experience:%20Google%20Sheets:%201%20year%20(Preferred)%20Work%20Location:%20One%20locationAdministrativePDX%20Movers%20started%20out%20as%20a%20local%20company%20with%20a%20local%20reach,%20in%202012.%20It%20has%20now%20grown%20to%20specialize%20in%20residential%20and%20commercial%20moves...' with link or location/anchor > 2079 characters since it exceeds Excel's limit for URLS\n",
      "  warn(\"Ignoring URL '%s' with link or location/anchor > %d \"\n",
      "C:\\Users\\annch\\anaconda3\\lib\\site-packages\\xlsxwriter\\worksheet.py:1170: UserWarning: Ignoring URL 'https://www.youtube.com/watch?v=8JJuAE4H_VQ&feature=youtu.be%20Join%20us%20in%20our%20efforts%20to%20%22Do%20The%20Most%20Good%22.%20The%20Salvation%20Army%20Divisional%20Headquarters%20in%20St.%20Louis,%20MO%20has%20an%20immediate%20opening%20for%20an%20individual%20who%20would%20like%20to%20apply%20their%20Sales%20force%20skills%20to%20fill%20our%20Data%20Entry%20Clerk%20position.%20This%20is%20a%20non-exempt,%20the%20salary%20is%20based%20on%20education%20and%20experiences.%20This%20position%20performs%20data%20processing%20duties%20necessary%20to%20support%20the%20development%20database%20and%20donor%20history%20files.%20Responsibilities:%201.View%20CDS%20website%20for%20lockbox%20donations%20needing%20decisions%20for%20keying%20in%20the%20WIA:%20WM-AR%20and%20key%20unprocessed%20info%20and%20key%20donations%20using%20the%20Batch%20Gift%20Entry%20in%20the%20Sales%20Force%20database.%20View%20the%20updated%20donor.%20Recurring%20&%20Prayer%20Requests%20are%20information%20and%20make%20the%20appropriate%20changes%20to%20the%20SF%20database.%202.Balance%20the%20CDS%20Global,%20Inc.%20lockbox%20totals%20with%20the%20Sales%20Force%20lockbox%20totals%20each%20day.%20A%20file%20is%20uploaded%20to%20SF%20from%20CDS%20daily.%20Run%20the%20CDS%20CO%20Report%20for%20detail%20of%20th%20deposit%20for%20that%20day%20in%20SF.%20Review%20batch%20detail%20in%20SF%20for%20any%20flags%20or%20matching%20errors%20and%20make%20corrections.%20Report%20totals%20for%20each%20lockbox%20to%20the%20Database%20Services%20Director.%203.Generate%20standard%20correspondence%20for%20returned%20items%20from%20CDS%20each%20day/week%20in%20Federal%20Express%20envelope%20related%20to%20Direct%20Mail.%204.Identify%20all%20$5,000.00%20or%20more%20for%20donations%20including%20IRA%20and%20Donor%20Advised%20Fund%20and%20make%20copies%20for%20the%20Major%20Gifts%20and%20Planned%20Giving%20Departments.%205.Process%20change%20of%20address%20on%20return%20mail%20during%20the%20week.%206.Run%20reports%20monthly%20from%20EFT%20(checking%20account%20withdrawals)%20from%20EFT%20Corp%20Vault%20website.%20Send%20reports%20to%20Finance.%20Set%20up%20a%20case%20with%20SF%20and%20attach%20a%20template%20file%20with%20data%20from%20EFT%20Valut%20Corps%20to%20be%20uploaded%20to%20Sales%20Force.%207.Assist%20Director%20Database%20Services%20in%20all%20direct%20mail%20projects%20and%20program.%208.Answer%20courteously%20all%20telephone%20calls,%20transfer%20calls,%20take%20messages%20as%20appropriate.%20Serve%20as%20relief%20receptionist%20for%20DHQ%20as%20directed.%20Assist%20with%20kitchen%20clean%20up%20as%20assigned.%209.Maintain%20data%20confidentiality%20and%20comply%20with%20Safe%20From%20Harm%20guidelines.%2010.Maintain%20positive%20work%20atmosphere%20by%20behaving%20and%20communicating%20in%20a%20manner%20that%20fosters%20good%20relationships%20with%20clients,%20co-workers%20and%20supervisors.%20This%20includes,%20but%20is%20not%20limited%20to,%20such%20actions%20as:%20resolution%20of%20conflicts%20in%20a%20professional%20manner;%20courteous%20treatment%20of%20staff,%20visitors%20and%20clients;%20respect%20of%20others’%20property%20and%20person;%20and%20professional%20and%20appropriate%20communication%20to%20and%20about%20clients,%20co-workers%20and%20supervisors.%20This%20job%20description%20should%20not%20be%20interpreted%20as%20an%20all-inclusive%20list.%20It%20is%20intended%20to%20identify%20the%20essential%20duties%20and%20requirements%20of%20the%20position.%20Employee%20will%20follow%20other%20instructions,%20and%20perform%20other%20related%20duties,%20as%20may%20be%20required%20by%20his/her%20supervisor.%20Reasonable%20accommodation%20may%20be%20made%20to%20enable%20individuals%20with%20disabilities%20to%20perform%20the%20essential%20job%20functions.%20Qualifications:%20High%20school%20diploma%20or%20equivalent%20and%20one%20years%20experience%20in%20data%20entry.%20Combination%20of%20training%20and%20experience%20will%20be%20considered.%20Requires%20data%20entry,%20mail%20merges%20and%20Excel%20experience.%20Requires%20strong%20computer%20skills%20with%20knowledge%20and%20experience%20working%20in%20software%20applications%20to%20include%20donor%20database,%20word%20processing,%20spreadsheet,%20and%20e-mail.%20Must%20have%20good%20written%20and%20verbal%20communication%20skills%20and%20demonstrate%20good%20time%20management%20skills.%20Being%20a%20self%20starter%20in%20work%20performance%20and%20well%20organized%20in%20task%20prioritized%20is%20a%20plus.%20Details%20and%20attention%20to%20details%20are%20required.%20Physical%20and%20Work%20Environment%20Requirements:%20Must%20be%20capable%20of%20performing%20the%20above%20essential%20duties%20in%20an%20office%20environment%20to%20include:%20using%20a%20computer,%20answering%20phones,%20etc.%20Most%20work%20will%20be%20indoors%20in%20a%20temperature-controlled%20environment.%20Employee%20Status:%20Realizing%20The%20Salvation%20Army%20is%20a%20part%20of%20the%20Christian%20church,%20employees%20are%20expected%20to%20conduct%20themselves%20in%20a%20professional%20manner%20and%20project%20a%20positive%20image%20to%20others.%20This%20includes%20appearance%20as%20well%20as%20verbal%20communications%20and%20other%20behaviors.%20The%20Salvation%20Army%20Central%20Territory%20does%20not%20participate%20in%20unemployment%20compensation%20programs.%20The%20Salvation%20Army,%20as%20a%20church,%20is%20exempt%20from%20participation%20in%20federal%20and%20state%20unemployment%20insurance%20programs.%20EEO-M/F/D/VAdministrative' with link or location/anchor > 2079 characters since it exceeds Excel's limit for URLS\n",
      "  warn(\"Ignoring URL '%s' with link or location/anchor > %d \"\n"
     ]
    },
    {
     "name": "stderr",
     "output_type": "stream",
     "text": [
      "C:\\Users\\annch\\anaconda3\\lib\\site-packages\\xlsxwriter\\worksheet.py:1170: UserWarning: Ignoring URL 'https://jobs.kroger.com/job/Sheboygan-Deli-Lead-432-WI-53081/778583700/%20Please%20apply%20at%20the%20above%20link%20for%20our%20Kroger%20website%20for%20our%20online%20application.%20__________________________________________________________________________________________%20We%20are%20looking%20for%20a%20courteous,%20customer-focused%20Deli%20Clerk%20who%20is%20committed%20to%20providing%20customers%20with%20the%20best%20service%20possible.%20Deli%20Clerks%20will%20clean%20and%20prepare%20workstations%20and%20displays,%20answer%20questions%20and%20respond%20to%20customer%20requests,%20and%20provide%20information%20to%20clients%20to%20ensure%20that%20they%20select%20the%20products%20that%20best%20fit%20their%20needs.%20To%20succeed%20as%20a%20Deli%20Clerk,%20you%20should%20be%20polite,%20prompt,%20and%20knowledgeable.%20Additionally,%20you%20should%20be%20able%20to%20meet%20the%20physical%20demands%20of%20the%20position%20while%20providing%20customers%20with%20the%20best%20possible%20experience.%20Deli%20Clerk%20Responsibilities:%20Providing%20responsive,%20exceptional%20service%20to%20deli%20counter%20customers%20by%20answering%20questions,%20making%20recommendations,%20providing%20samples,%20and%20responding%20to%20requests.%20Recommending,%20slicing,%20weighing,%20packaging,%20and%20pricing%20meats%20and%20cheeses%20Preparing%20special%20orders%20and%20party%20trays.%20Updating%20displays,%20cases,%20and%20other%20customer-facing%20areas%20to%20ensure%20new%20items%20and%20promotions%20are%20showcased.%20Ensuring%20that%20work%20areas%20are%20ready%20to%20service%20customers%20by%20cleaning%20surfaces,%20equipment,%20and%20floors,%20removing%20trash,%20and%20confirming%20that%20tools%20are%20in%20working%20order.%20Following%20all%20food%20safety%20and%20sanitation%20procedures%20established%20by%20the%20company%20and%20other%20regulatory%20agencies.%20Cooperating%20with%20others%20to%20ensure%20customer%20satisfaction.%20Confirming%20that%20all%20displays,%20products,%20and%20services%20comply%20with%20company%20standards.%20Deli%20Clerk%20Requirements:%20High%20School%20Diploma%20or%20equivalent.%20Minimum%20age%20requirement%20of%2018%20years%20old.%20Deli%20counter%20or%20food%20preparation%20experience%20required.%20Ability%20to%20lift%20heavy%20items,%20ranging%20from%2025%20to%2050%20lbs,%20and%20operate%20equipment,%20such%20as%20meat%20and%20cheese%20slicers,%20scales,%20cash%20registers,%20etc.%20Excellent%20customer%20service,%20communication,%20and%20math%20skills.%20Ability%20to%20comprehend%20and%20follow%20all%20company%20procedures%20and%20regulations%20regarding%20food%20handling%20and%20sanitation.%20A%20courteous%20and%20efficient%20approach%20to%20handling%20customer%20requests,%20questions,%20and%20complaints.%20Job%20Type:%20Full-time%20Pay:%20$14.00%20-%20$18.00%20per%20hour%20Benefits:%20401(k)%20401(k)%20matching%20Dental%20insurance%20Disability%20insurance%20Employee%20discount%20Flexible%20spending%20account%20Health%20insurance%20Life%20insurance%20Paid%20time%20off%20Vision%20insurance%20Schedule:%208%20hour%20shift%20Day%20shift%20Holidays%20Monday%20to%20Friday%20Night%20shift%20Weekend%20availability%20Experience:%20Management:%201%20year%20(Required)%20Customer%20service:%201%20year%20(Required)%20Food%20service:%201%20year%20(Required)%20Work%20Location:%20One%20location%20Work%20Remotely:%20No%20Work%20Location:%20One%20locationRestaurant/food%20Service' with link or location/anchor > 2079 characters since it exceeds Excel's limit for URLS\n",
      "  warn(\"Ignoring URL '%s' with link or location/anchor > %d \"\n",
      "C:\\Users\\annch\\anaconda3\\lib\\site-packages\\xlsxwriter\\worksheet.py:1170: UserWarning: Ignoring URL 'http://WWW.SOLIDCARE.COM%20Description%20The%20Surface%20Care%20Technician%20is%20responsible%20for%20delivering%20the%20highest%20quality%20of%20preventative%20maintenance%20cleaning%20services%20to%20floor%20coverings%20and%20architectural%20surfaces%20in%20some%20of%20the%20most%20impressive%20commercial%20facilities%20in%20the%20world.%20The%20Technician%20is%20trained%20to%20deliver%20best-in-class%20services%20on%20surfaces%20including%20Carpet,%20Upholstery,%20Stone,%20Metal,%20Tile,%20Grout,%20Vinyl,%20Wood,%20and%20Concrete.%20They%20will%20follow%20the%20direction%20of%20their%20Shift%20Leaders%20and%20Crew%20Leaders%20to%20complete%20each%20job%20using%20SOLID’s%20equipment,%20products,%20and%20methods%20in%20a%20timely%20manner.%20The%20candidate%20should%20be%20punctual,%20have%20a%20smart%20appearance,%20be%20willing%20to%20work%20as%20part%20of%20a%20team,%20and%20have%20a%20desire%20to%20learn%20new%20skills.%20JOB%20DUTIES%20DAILY%20-%20Follow%20company%20policies.%20Follow%20posted%20schedules%20to%20arrive%20at%20work%20on%20time.%20Communicate%20unexpected%20absence%20at%20the%20earliest%20opportunity.%20Assist%20with%20gathering%20equipment%20and%20supplies%20for%20each%20job.%20Assist%20with%20loading%20and%20unloading%20of%20vehicles.%20Travel%20to%20job%20sites%20in%20a%20company-provided%20vehicle.%20Follow%20safety%20guidelines%20and%20operating%20procedures%20for%20equipment%20and%20products.%20Follow%20the%20instruction%20of%20Shift%20Leaders,%20Crew%20Leaders.%20Maintain%20cleanliness%20of%20equipment,%20vehicles,%20and%20warehouse.%20Be%20accessible%20by%20phone%20and%20email%20for%20shift%20change%20notifications.%20WEEKLY%20or%20BI-WEEKLY%20-%20Attend%20team%20meetings.%20Attend%20Performance%20Reviews%20with%20Operations%20Manager.%20PERIODICALLY%20-%20Overnight%20travel%20to%20within%20the%20United%20States%20to%20assist%20other%20teams%20(consideration%20will%20be%20made%20to%20personal%20circumstances%20and%20performance)%20Overnight%20travel%20to%20participate%20in%20specialized%20group%20training%20events%20QUALIFICATIONS%20-%20A%20valid%20government%20ID%20–%20Driver’s%20License,%20Green%20Card,%20Passport%20or%20other%20Government%20Identification.%20Must%20be%20eligible%20to%20work%20within%20the%20United%20States.%20Must%20have%20reliable%20transportation%20to%20and%20from%20the%20office.%20Must%20have%20basic%20computer%20skills%20to%20be%20able%20to%20access%20training%20and%20employment%20information.%20DESIREABLE%20EXPERIENCE%20BUT%20NOT%20ESSENTIAL%20-%20A%20Valid%20Driver’s%20License.%20Leadership%20or%20supervisory%20experience.%20Experience%20in%20handling%20floor%20coverings%20such%20as%20carpet,%20tile,%20vinyl%20installation.%20Experience%20in%20fabrication.%20Safety%20qualifications.%20Janitorial%20experience.%20English%20Language%20proficiency:%20Speaking,%20Reading,%20Listening%20and%20Writing%20Everyone%20is%20required%20to%20wear%20a%20face%20mask.%20Job%20Type:%20Full-time%20Pay:%20$15.00%20-%20$16.00%20per%20hour%20Benefits:%20401(k)%20Dental%20insurance%20Health%20insurance%20Vision%20insurance%20Schedule:%208%20hour%20shift%20Ability%20to%20commute/relocate:%20Santa%20Ana,%20CA:%20Reliably%20commute%20or%20planning%20to%20relocate%20before%20starting%20work%20(Preferred)%20Education:%20High%20school%20or%20equivalent%20(Preferred)%20Experience:%20Floor%20care:%201%20year%20(Preferred)%20Shift%20availability:%20Night%20Shift%20(Preferred)%20Work%20Location:%20On%20the%20road%20Work%20Remotely:%20No%20Work%20Location:%20On%20the%20roadConstruction/facilities' with link or location/anchor > 2079 characters since it exceeds Excel's limit for URLS\n",
      "  warn(\"Ignoring URL '%s' with link or location/anchor > %d \"\n",
      "C:\\Users\\annch\\anaconda3\\lib\\site-packages\\xlsxwriter\\worksheet.py:1170: UserWarning: Ignoring URL 'https://blomedry.com/%20Indulge%20your%20love%20of%20all%20things%20beauty%20at%20internationally%20acclaimed%20Blo%20Blow%20Dry%20Bar%20THE%20OPPORTUNITY%20If%20you%20are%20a%20fun-loving,%20organized,%20neat%20freak%20with%20a%20passion%20for%20beauty,%20customer%20service%20and%20sales%20-%20we're%20totally%20looking%20for%20you!%20We're%20hiring%20a%20Blo%20Boss%20(aka:%20front%20desk%20receptionist/hostess).%20BLO%20CULTURE%20we’re%20busy%20and%20we%20have%20fun.%20Blo%20may%20be%20an%20international%20brand%20but%20our%20individual%20bar%20owners%20love%20bringing%20that%20personal%20touch.%20We%20want%20you%20to%20join%20our%20family%20and%20work%20with%20a%20team%20of%20creative%20stylists%20and%20guest%20services%20experts%20who%20share%20your%20passion%20for%20hair%20and%20beauty%20-%20all%20while%20having%20some%20serious%20fun!%20Blo's%20team%20gets%20international%20accolades%20for%20its%20work%20with%20major%20brands.%20But%20don't%20think%20that%20goes%20to%20our%20head,%20read%20what%20some%20of%20our%20team%20has%20to%20say%20about%20working%20at%20blo%20:%20Visit%20blomedry.com%20for%20the%20skinny.%20JOB%20DESCRIPTION%20As%20the%20first%20and%20last%20impression%20for%20the%20guests,%20you%20are%20a%20Blo%20brand%20ambassador.%20You%20are%20friendly,%20professional,%20and%20tactful%20and%20know%20how%20to%20diffuse%20a%20tense%20situation%20and%20make%20a%20good%20experience%20great.%20In%20fact,%20you%20thrive%20on%20this.%20Responsible%20for%20maintaining%20superior%20Guest%20experience%20Comfortable%20working%20with%20scheduling%20software%20Enjoy%20discussing%20&%20selling%20beauty%20products%20*Manage%20and%20support%20a%20team%20of%20Stylists*%20Ensure%20bar%20is%20kept%20immaculate%20Looking%20for%20someone%20who%20takes%20the%20extra%20step%20to%20make%20sure%20the%20bar%20is%20ran%20like%20their%20own.%20From%20the%20guest%20experience%20to%20managing%20staff%20on%20the%20floor.%20This%20person%20should%20want%20to%20grow%20with%20the%20company%20into%20a%20management%20position.%20COMPENSATION%20hourly%20(varies%20based%20on%20experience)%20commission%20on%20retail%20and%20membership%20sales%20PERKS%20Career%20Advancement:%20management%20roles%20and%20responsibilities.%20Fun%20Lovin':%20corporate%20contests%20with%20individual%20and%20team%20rewards.%20Product%20perks:%20discounts%20on%20merchandise%20to%20keep%20you%20looking%20fab%20and%20flawless.%20**FULL%20TIME,%20Must%20be%20available%20weekends%20Sounds%20like%20this%20is%20the%20job%20you?%20Send%20us%20a%20resume%20and%20a%20cheeky%20headshot%20to%20Email%20provided%20Please%20also%20include%20Salary%20Requirements%20xo,%20blo%20Principals%20only.%20Recruiters,%20please%20don't%20contact%20this%20job%20poster.%20do%20NOT%20contact%20us%20with%20unsolicited%20services%20or%20offers%20This%20franchise%20is%20independently%20owned%20and%20operated%20by%20a%20franchisee.%20Your%20application%20will%20go%20directly%20to%20the%20franchisee,%20and%20all%20hiring%20decisions%20will%20be%20made%20by%20the%20management%20of%20this%20franchisee.%20All%20inquiries%20about%20employment%20at%20this%20franchisee%20should%20be%20made%20directly%20to%20the%20franchise%20location,%20and%20not%20to%20Sharkey's%20Cuts%20for%20Kids%20Corporate.Administrative' with link or location/anchor > 2079 characters since it exceeds Excel's limit for URLS\n",
      "  warn(\"Ignoring URL '%s' with link or location/anchor > %d \"\n"
     ]
    },
    {
     "name": "stderr",
     "output_type": "stream",
     "text": [
      "C:\\Users\\annch\\anaconda3\\lib\\site-packages\\xlsxwriter\\worksheet.py:1170: UserWarning: Ignoring URL 'https://kroger.eightfold.ai/careers?division=534%20-%20roundy%27s%20wisconsin%20%28pick%20%27n%20save%29&pid=9574848&location=sheboygan%2C%20wisconsin&query=Kroger%20Retail%20Clerk&domain=kroger.com&triggerGoButton=true Please apply at the above link for our Kroger website for our online application. What Do Meat Clerks Do? Meat clerks are responsible for a variety of tasks pertaining to the sale of meat, either at a butcher or a meat section of a grocery store. These tasks include providing quality customer service, weighing and wrapping customers' orders, cutting meat to customers' exact specifications, and maintaining a high product knowledge to most effectively facilitate customer orders and respond to queries. Aside from serving customers directly, meat clerks also have responsibilities behind the scenes, including: placing and receiving orders of a necessary quantity; unloading and transporting deliveries of fresh meat and poultry; pricing and displaying items; examining and rotating stock to prevent products from perishing; maintaining and displaying a knowledge of food safety procedures; and maintaining total sanitation of both the store and its meat products. In some cases, however, the meat clerk will have to do little but serve customers and maintain cleanliness, with larger tasks such as ordering being left to managers and supervisors. Meat clerks are usually hired by butchers or grocery stores, so their hours are usually during the day but may occasionally last until night. Depending on their employer, they may work either part-time or full-time hours. They are expected to have basic knowledge of mathematics for weighing meat and processing transactions, the ability to multitask and stay organized, great patience and listening skills, and quality customer service. A high school diploma is preferred but not usually required, and training is provided after being hired. Meat Clerk Tasks Grind, weigh, price, wrap, and package meat for customers. Drive, load, and unload pallet jacks or other equipment in the storage area, refrigerated area, and loading areas. Stock and rotate products in all displays, and ensure that none are past the sell-by date. Answer questions about products, the source of products, cooking, and preparation of meat, and general store information. Meet or exceed company guidelines about hygiene, presentation and customer service at meat case and workstations. Job Type: Part-time Pay: From $13.00 per hour Benefits: Employee discount Flexible schedule Schedule: Day shift Holidays Monday to Friday Weekend availability Work Location: One locationAdministrative' with link or location/anchor > 2079 characters since it exceeds Excel's limit for URLS\n",
      "  warn(\"Ignoring URL '%s' with link or location/anchor > %d \"\n",
      "C:\\Users\\annch\\anaconda3\\lib\\site-packages\\xlsxwriter\\worksheet.py:1170: UserWarning: Ignoring URL 'https://hr.imperialcounty.org/wp-content/uploads/2019/10/EmploymentApplicationOnly.pdf%20Fill%20out%20Application%20Form%20and%20email%20to%20JosieHeath%22at%22co.imperial.ca.us%20IMPERIAL%20COUNTY%20CLASS%20TITLE:%20NETWORK%20OPERATIONS%20SUPERVISOR%20BASIC%20FUNCTION:%20Under%20the%20direction%20of%20the%20Information%20and%20Technical%20Services%20Manager,%20is%20responsible%20for%20the%20daily%20operations%20of%20the%20Imperial%20County%20Network.%20The%20Network%20Operations%20Supervisor%20is%20responsible%20for%20coordinating%20daily%20work%20assignments,%20for%20training%20network%20administrators%20on%20policy%20and%20procedures%20and%20for%20assessing%20staff%20proficiency%20and%20compliance,%20quality%20control%20and%20adherence%20to%20applicable%20regulatory%20requirements.%20The%20Network%20Operations%20Supervisor%20provides%20education,%20technical%20training%20and%20quality%20oversight%20for%20staff.%20This%20position%20assists%20the%20Information%20and%20Technical%20Services%20Manager%20with%20budgetary%20and%20resource%20management%20issues%20of%20the%20department.%20REPRESENTATIVE%20DUTIES:%20Selects,%20trains,%20supervises,%20assigns,%20and%20evaluates%20assigned%20personnel;%20prioritizes%20and%20schedules%20work;%20resolves%20employee%20complaints;%20recommends%20corrective%20actions%20for%20staff%20as%20needed;%20identifies%20staffing%20and%20workload%20issues%20and%20assigns%20personnel%20as%20necessary;%20assures%20proper%20policies,%20procedures,%20and%20regulations%20are%20followed.%20Supervises%20technical%20staff%20that%20are%20responsible%20for%20countywide%20data%20networks%20and%20network%20operations.%20Assigns%20and%20coordinates%20work%20assignments%20and%20resolution%20of%20critical%20technical%20and%20procedural%20problems.%20Supervises%20day-to-day%20operations%20of%20network%20administrative%20staff.%20Reviews%20task,%20sets%20priorities%20and%20revises%20workflow%20to%20effectively%20facilitate%20customer%20and%20department%20needs.%20Supervises%20network%20administrators%20in%20the%20procedures%20and%20equipment%20used%20in%20performing%20their%20duties;%20coordinates%20formal%20training%20sessions.%20Works%20cooperatively%20with%20Information%20Technology%20Services%20(ITS)%20management%20and%20others%20from%20the%20county%20to%20develop%20strategic%20and%20tactical%20plans%20to%20facilitate%20and%20coordinate%20the%20delivery%20of%20technical%20services.%20Ensures%20acceptable%20levels%20of%20performance%20in%20networked%20systems%20by%20utilizing%20monitoring%20systems%20baseline%20performance%20versus%20configured%20thresholds;%20applies%20a%20high%20degree%20of%20technical%20knowledge%20and%20effective%20management%20procedures%20to%20ensure%20a%20stable%20and%20responsive%20network.%20Conducts%20capacity%20planning;%20develops%20procedures%20to%20measure%20the%20capacity%20for%20network%20devices%20and%20hosted%20applications%20relative%20to%20current%20and%20future%20activities,%20identifies%20future%20needs%20and%20coordinates%20the%20acquisition%20of%20additional%20resources.%20Assures%20that%20software%20and%20firmware%20is%20at%20current%20revision%20levels;%20works%20with%20vendors%20to%20request%20and%20schedule%20upgrades%20and%20with%20county%20technical%20staff%20to%20support%20the%20upgrades.%20Works%20with%20Purchasing%20and%20ITS%20support%20staff%20to%20coordinate%20the%20ordering,%20receiving,%20and%20payment%20activities%20related%20to%20the%20acquisition%20of%20new%20technology,%20may%20assist%20with%20budget%20administration.%20Ensures%20high%20availability%20of%20network%20resources;%20develops%20procedures%20with%20ITS%20management%20to%20maintain%20security%20and%20access%20and%20protect%20against%20viruses,%20hackers,%20vandals,%20acts%20of%20God,%20and%20accidental%20user%20mistakes.%20Develops%20plans,%20procedures,%20and%20activities%20to%20support%20business%20recovery%20when%20problems%20occur%20including%20backup%20and%20restoration%20procedures,%20vendor%20agreements,%20spare%20parts,%20data%20retention,%20and%20restoration%20Stays%20current%20with%20technological%20developments%20related%20to%20computer%20hardware,%20software,%20and%20networks,%20as%20well%20as%20management%20practices%20which%20involves%20reading%20publications,%20subscribing%20to%20Internet%20lists,%20attending%20conferences%20and%20workshops,%20and%20meeting%20with%20colleagues.%20Works%20with%20the%20ITS%20management%20and%20Purchasing%20department%20to%20negotiate%20vendor%20contract%20Terms%20and%20Conditions%20(T&C’s);%20Service%20Level%20Agreement%20(SLA),%20and%20payment%20structure.%20Develops%20and%20implements%20department%20specific%20processes/procedures%20and%20quality%20control%20programs%20to%20ensure%20reliability%20of%20testing%20procedures,%20proper%20function%20of%20equipment%20and%20compliance%20with%20safety/health%20and%20state/federal%20regulations.%20Assists%20Information%20and%20Technology%20Services%20management%20in%20maintaining/progressing%20cybersecurity%20technical%20and%20administrative%20controls.%20Perform%20related%20duties%20as%20assigned.%20KNOWLEDGE%20AND%20ABILITIES:%20KNOWLEDGE%20OF:%20In-depth%20understanding%20of%20communication%20protocols%20(TCP/IP%20and%20UDP)%20and%20routing%20protocols%20(e.g.OSPF).%20Familiarity%20with%20access%20control%20models%20and%20network%20security.%20Knowledge%20of%20coding%20languages%20for%20scripting%20for%20mass%20configuration%20of%20networking%20devices%20(e.g.%20Python).%20Generally%20understanding%20of%20information%20technology%20and%20network%20needs.%20Advanced%20methods%20and%20techniques%20of%20network%20administration%20and%20architecture.%20Network%20operating%20systems%20(Cisco%20IOS,%20PAN-OS).Laws,%20rules,%20and%20regulations%20related%20to%20assigned%20activities.%20County%20organization,%20operations,%20policies,%20and%20objectives.%20Oral%20and%20written%20communication%20skills.%20ABILITY%20TO:%20Plan,%20organize,%20and%20direct%20network%20operations.%20Analyze%20network%20performance%20and%20recommend%20security%20and%20performance%20enhancements.%20Apply%20network%20knowledge%20to%20maximize%20network%20performance.%20Effectively%20utilize%20network%20diagnostic,%20monitoring%20and%20analysis%20tools.%20Troubleshoot%20and%20resolve%20network%20problems.%20Work%20independently.%20Train,%20evaluate,%20and%20supervise%20the%20work%20of%20subordinate%20personnel.%20Meet%20assignment%20and%20project%20timelines.%20Plan%20and%20organize%20work%20effectively.%20Analyze%20situations%20accurately%20and%20adopt%20effective%20courses%20of%20action.%20Communicate%20effectively%20and%20establish%20cooperative%20working%20relationships.%20Manage%20large%20complex%20projects%20and%20teams.%20Analyze%20and%20problem%20solve%20a%20variety%20of%20highly%20technical%20issues.%20EDUCATION%20AND%20EXPERIENCE:%20Bachelor’s%20degree%20in%20information%20technology,%20computer%20science,%20network%20system%20administration%20or%20a%20related%20discipline%20is%20highly%20desirable.%20Five%20years%20of%20increasingly%20responsible%20professional%20experience%20in%20supporting/managing%20complex%20networked%20systems%20in%20an%20enterprise%20environment.%20At%20least%20two%20years%20of%20technical%20experience%20must%20have%20been%20in%20a%20supervisory%20or%20management%20capacity.%20LICENSES%20AND%20OTHER%20REQUIREMENTS:%20Valid%20California%20Driver’s%20License%20Appropriate%20Professional%20certification,%20e.g.%20Cisco%20Certified%20Network%20Professional(CCNP)%20or%20Cisco%20Certified%20Design%20Professional%20(CCDP)%20will%20be%20determined%20based%20on%20assignment.%20WORKING%20CONDITIONS:%20ENVIRONMENT:%20Office%20environment.%20PHYSICAL%20REQUIREMENTS:%20Drive%20a%20vehicle%20to%20conduct%20work;%20hearing%20and%20speaking%20to%20exchange%20information;%20dexterity%20of%20hands%20and%20fingers%20to%20operate%20computer;%20seeing%20to%20read%20a%20variety%20of%20materials;%20sitting%20for%20extended%20periods%20of%20time.%20IMPERIAL%20COUNTY%20CLASS%20TITLE:%20NETWORK%20OPERATIONS%20SUPERVISOR%20BASIC%20FUNCTION:%20Under%20the%20direction%20of%20the%20Information%20and%20Technical%20Services%20Manager,%20is%20responsible%20for%20the%20daily%20operations%20of%20the%20Imperial%20County%20Network.%20The%20Network%20Operations%20Supervisor%20is%20responsible%20for%20coordinating%20daily%20work%20assignments,%20for%20training%20network%20administrators%20on%20policy%20and%20procedures%20and%20for%20assessing%20staff%20proficiency%20and%20compliance,%20quality%20control%20and%20adherence%20to%20applicable%20regulatory%20requirements.%20The%20Network%20Operations%20Supervisor%20provides%20education,%20technical%20training%20and%20quality%20oversight%20for%20staff.%20This%20position%20assists%20the%20Information%20and%20Technical%20Services%20Manager%20with%20budgetary%20and%20resource%20management%20issues%20of%20the%20department.%20REPRESENTATIVE%20DUTIES:%20Selects,%20trains,%20supervises,%20assigns,%20and%20evaluates%20assigned%20personnel;%20prioritizes%20and%20schedules%20work;%20resolves%20employee%20complaints;%20recommends%20corrective%20actions%20for%20staff%20as%20needed;%20identifies%20staffing%20and%20workload%20issues%20and%20assigns%20personnel%20as%20necessary;%20assures%20proper%20policies,%20procedures,%20and%20regulations%20are%20followed.%20Supervises%20technical%20staff%20that%20are%20responsible%20for%20countywide%20data%20networks%20and%20network%20operations.%20Assigns%20and%20coordinates%20work%20assignments%20and%20resolution%20of%20critical%20technical%20and%20procedural%20problems.%20Supervises%20day-to-day%20operations%20of%20network%20administrative%20staff.%20Reviews%20task,%20sets%20priorities%20and%20revises%20workflow%20to%20effectively%20facilitate%20customer%20and%20department%20needs.%20Supervises%20network%20administrators%20in%20the%20procedures%20and%20equipment%20used%20in%20performing%20their%20duties;%20coordinates%20formal%20training%20sessions.%20Works%20cooperatively%20with%20Information%20Technology%20Services%20(ITS)%20management%20and%20others%20from%20the%20county%20to%20develop%20strategic%20and%20tactical%20plans%20to%20facilitate%20and%20coordinate%20the%20delivery%20of%20technical%20services.%20Ensures%20acceptable%20levels%20of%20performance%20in%20networked%20systems%20by%20utilizing%20monitoring%20systems%20baseline%20performance%20versus%20configured%20thresholds;%20applies%20a%20high%20degree%20of%20technical%20knowledge%20and%20effective%20management%20procedures%20to%20ensure%20a%20stable%20and%20responsive%20network.%20Conducts%20capacity%20planning;%20develops%20procedures%20to%20measure%20the%20capacity%20for%20network%20devices%20and%20hosted%20applications%20relative%20to%20current%20and%20future%20activities,%20identifies%20future%20needs%20and%20coordinates%20the%20acquisition%20of%20additional%20resources.%20Assures%20that%20software%20and%20firmware%20is%20at%20current%20revision%20levels;%20works%20with%20vendors%20to%20request%20and%20schedule%20upgrades%20and%20with%20county%20technical%20staff%20to%20support%20the%20upgrades.%20Works%20with%20Purchasing%20and%20ITS%20support%20staff%20to%20coordinate%20the%20ordering,%20receiving,%20and%20payment%20activities%20related%20to%20the%20acquisition%20of%20new%20technology,%20may%20assist%20with%20budget%20administration.%20Ensures%20high%20availability%20of%20network%20resources;%20develops%20procedures%20with%20ITS%20management%20to%20maintain%20security%20and%20access%20and%20protect%20against%20viruses,%20hackers,%20vandals,%20acts%20of%20God,%20and%20accidental%20user%20mistakes.%20Develops%20plans,%20procedures,%20and%20activities%20to%20support%20business%20recovery%20when%20problems%20occur%20including%20backup%20and%20restoration%20procedures,%20vendor%20agreements,%20spare%20parts,%20data%20retention,%20and%20restoration%20Stays%20current%20with%20technological%20developments%20related%20to%20computer%20hardware,%20software,%20and%20networks,%20as%20well%20as%20management%20practices%20which%20involves%20reading%20publications,%20subscribing%20to%20Internet%20lists,%20attending%20conferences%20and%20workshops,%20and%20meeting%20with%20colleagues.%20Works%20with%20the%20ITS%20management%20and%20Purchasing%20department%20to%20negotiate%20vendor%20contract%20Terms%20and%20Conditions%20(T&C’s);%20Service%20Level%20Agreement%20(SLA),%20and%20payment%20structure.%20Develops%20and%20implements%20department%20specific%20processes/procedures%20and%20quality%20control%20programs%20to%20ensure%20reliability%20of%20testing%20procedures,%20proper%20function%20of%20equipment%20and%20compliance%20with%20safety/health%20and%20state/federal%20regulations.%20Assists%20Information%20and%20Technology%20Services%20management%20in%20maintaining/progressing%20cybersecurity%20technical%20and%20administrative%20controls.%20Perform%20related%20duties%20as%20assigned.%20KNOWLEDGE%20AND%20ABILITIES:%20KNOWLEDGE%20OF:%20In-depth%20understanding%20of%20communication%20protocols%20(TCP/IP%20and%20UDP)%20and%20routing%20protocols%20(e.g.OSPF).%20Familiarity%20with%20access%20control%20models%20and%20network%20security.%20Knowledge%20of%20coding%20languages%20for%20scripting%20for%20mass%20configuration%20of%20networking%20devices%20(e.g.%20Python).%20Generally%20understanding%20of%20information%20technology%20and%20network%20needs.%20Advanced%20methods%20and%20techniques%20of%20network%20administration%20and%20architecture.%20Network%20operating%20systems%20(Cisco%20IOS,%20PAN-OS).Laws,%20rules,%20and%20regulations%20related%20to%20assigned%20activities.%20County%20organization,%20operations,%20policies,%20and%20objectives.%20Oral%20and%20written%20communication%20skills.%20ABILITY%20TO:%20Plan,%20organize,%20and%20direct%20network%20operations.%20Analyze%20network%20performance%20and%20recommend%20security%20and%20performance%20enhancements.%20Apply%20network%20knowledge%20to%20maximize%20network%20performance.%20Effectively%20utilize%20network%20diagnostic,%20monitoring%20and%20analysis%20tools.%20Troubleshoot%20and%20resolve%20network%20problems.%20Work%20independently.%20Train,%20evaluate,%20and%20supervise%20the%20work%20of%20subordinate%20personnel.%20Meet%20assignment%20and%20project%20timelines.%20Plan%20and%20organize%20work%20effectively.%20Analyze%20situations%20accurately%20and%20adopt%20effective%20courses%20of%20action.%20Communicate%20effectively%20and%20establish%20cooperative%20working%20relationships.%20Manage%20large%20complex%20projects%20and%20teams.%20Analyze%20and%20problem%20solve%20a%20variety%20of%20highly%20technical%20issues.%20EDUCATION%20AND%20EXPERIENCE:%20Bachelor’s%20degree%20in%20information%20technology,%20computer%20science,%20network%20system%20administration%20or%20a%20related%20discipline%20is%20highly%20desirable.%20Five%20years%20of%20increasingly%20responsible%20professional%20experience%20in%20supporting/managing%20complex%20networked%20systems%20in%20an%20enterprise%20environment.%20At%20least%20two%20years%20of%20technical%20experience%20must%20have%20been%20in%20a%20supervisory%20or%20management%20capacity.%20LICENSES%20AND%20OTHER%20REQUIREMENTS:%20Valid%20California%20Driver’s%20License%20Appropriate%20Professional%20certification,%20e.g.%20Cisco%20Certified%20Network%20Professional(CCNP)%20or%20Cisco%20Certified%20Design%20Professional%20(CCDP)%20will%20be%20determined%20based%20on%20assignment.%20WORKING%20CONDITIONS:%20ENVIRONMENT:%20Office%20environment.%20PHYSICAL%20REQUIREMENTS:%20Drive%20a%20vehicle%20to%20conduct%20work;%20hearing%20and%20speaking%20to%20exchange%20information;%20dexterity%20of%20hands%20and%20fingers%20to%20operate%20computer;%20seeing%20to%20read%20a%20variety%20of%20materials;%20sitting%20for%20extended%20periods%20of%20time.%20Job%20Type:%20Full-time%20Pay:%20$6,670.00%20-%20$8,115.00%20per%20month%20Benefits:%20Dental%20insurance%20Employee%20assistance%20program%20Employee%20discount%20Flexible%20schedule%20Flexible%20spending%20account%20Health%20insurance%20Health%20savings%20account%20Life%20insurance%20Paid%20time%20off%20Parental%20leave%20Professional%20development%20assistance%20Retirement%20plan%20Tuition%20reimbursement%20Vision%20insurance%20Schedule:%20Monday%20to%20Friday%20Education:%20Bachelor's%20(Preferred)%20Experience:%20Network%20engineering:%205%20years%20(Required)%20License/Certification:%20CCNA%20(Required)%20Work%20Location:%20RemoteComputer/internet' with link or location/anchor > 2079 characters since it exceeds Excel's limit for URLS\n",
      "  warn(\"Ignoring URL '%s' with link or location/anchor > %d \"\n",
      "C:\\Users\\annch\\anaconda3\\lib\\site-packages\\xlsxwriter\\worksheet.py:1170: UserWarning: Ignoring URL 'https://jobs.kroger.com/job/Sheboygan-Pick-'n-Save-Retail-Clerk-%28SheboyganN_-25th-Street%29-1-WI-53081/798449600/ Please apply at the above link for our Kroger website for our online application. __________________________________________________________________________________________ Position Summary Select and gather products for customers on-line orders in the most efficient manner with attention to freshness and quality. Assemble customers on-line orders, process coupons and payment, and deliver and load orders to cars when customers arrive at store for pick up. Provide a positive customer service experience that makes customers want to return again to on-line shopping. Demonstrate the companys core values of respect, honesty, integrity, diversity, inclusion, and safety. Essential Job Functions Meet/exceed productivity standards Assist in training new e-Commerce team members Learn and adapt to new and improved processes Perform required opening and closing procedures Inspect equipment and notify store e-Commerce supervisor or other store management of items in need of repair Report pricing, scanning, and item location discrepancies and invalid temperature types to the store e-Commerce supervisor Maintain organization and cleanliness of staging areas and equipment Communicate any substitutions or exceptions to customers order at time of pick-up Scan and bag orders on the go while following all bagging standards Follow policies and procedures to determine appropriate substitutions in the event of an out-of-stock Process the orders through the point of sale (POS) system Retrieve each customers order from all staging locations and ensure order accuracy; load order into customers' cars Communicate with customers via a portable phone and respond to calls in a professional and timely manner Ensure quality and freshness of all items chosen Read and follow directions given in the note section Initiate and complete selection process for customers on-line orders Receive customers orders from Order Selector according to guidelines; store products in optimal temperature zones Adhere to local, state, and federal laws, food safety procedures, and company guidelines Meet/exceed customer expectations for ease of shopping, variety, freshness, and cleanliness Minimum Position Qualifications Basic math skills (i.e., counting, addition, and subtraction) Ability to work without supervision Excellent oral/written communication skills Ability to read shelf tags Desired Previous Experience/Education Any experience in a production oriented or warehouse environment, stocking shelves, or experience as a cashier Job Type: Part-time Pay: From $13.00 per hour Benefits: Employee discount Schedule: Day shift Holidays Monday to Friday Night shift Experience: Customer service: 1 year (Required) Work Location: One location Work Remotely: No Work Location: One locationTransportation/logistics' with link or location/anchor > 2079 characters since it exceeds Excel's limit for URLS\n",
      "  warn(\"Ignoring URL '%s' with link or location/anchor > %d \"\n",
      "C:\\Users\\annch\\anaconda3\\lib\\site-packages\\xlsxwriter\\worksheet.py:1170: UserWarning: Ignoring URL 'https://www.youtube.com/watch?v=8JJuAE4H_VQ&feature=youtu.be%20Join%20a%20team%20devoted%20to%20%22Doing%20the%20Most%20Good.%22%20The%20Salvation%20Army%20in%20Jacksonville,%20IL,%20is%20looking%20for%20a%20full-time%2035%20hours%20per%20week%20Operation%20Coordinator.%20This%20position%20pays%20$20.00%20per%20hour.%20Job%20Objective%20To%20assist%20the%20Corps%20Officer%20with%20the%20oversight%20and%20coordination%20of%20the%20programs%20and%20operations%20of%20the%20corps.%20Essential%20Functions%20Programs%20Assist%20Corps%20Officer%20with%20Corps%20programs%20to%20include%20evening%20youth%20programs,%20monthly%20senior%20programs,%20and%20weekly%20food%20distribution.%20Oversee%20the%20kitchen%20staff%20and%20assist%20with%20lunch%20program.%20Serve%20as%20summer%20Day%20Camp%20Director%20Assist%20Corps%20Officer%20with%20Christmas%20Kettle%20Campaign%20and%20Angel%20Tree%20Program.%20Social%20Services%20Perform%20basic%20case%20work%20in%20the%20absence%20of%20the%20Corps%20Secretary.%20Manage%20the%20cooling%20and%20warming%20center%20during%20seasonal%20operations.%20Office%20Perform%20office%20operations%20in%20the%20absence%20of%20the%20Corps%20Secretary.%20Minimum%20Qualifications%20High%20School%20Diploma%20or%20equivalent%20with%202%20years%20of%20program%20coordination%20experience.%20Physical%20and%20Working%20Conditions%20Must%20be%20able%20to%20perform%20the%20duties%20of%20the%20job.%20Must%20be%20able%20to%20work%20in%20an%20office%20environment%20using%20a%20computer,%20answering%20phones,%20and%20operating%20office%20equipment.%20Must%20be%20able%20to%20work%20outdoors%20when%20needed%20in%20various%20weather%20conditions.%20Must%20be%20able%20to%20lift%2025%20pounds%20on%20a%20regular%20basis%20and%20up%20to%2050%20pounds%20on%20occasion.%20Must%20be%20able%20to%20work%20with%20a%20wide%20variety%20of%20people%20ranging%20from%20clients%20with%20potential%20personal%20issues%20to%20community%20and%20business%20leaders.Non-profit/volunteeringThe%20Salvation%20Army%20is%20a%20worldwide%20Christian%20church%20and%20registered%20charity,%20which%20has%20been%20fighting%20against%20social%20inequality%20and%20transfor...' with link or location/anchor > 2079 characters since it exceeds Excel's limit for URLS\n",
      "  warn(\"Ignoring URL '%s' with link or location/anchor > %d \"\n",
      "C:\\Users\\annch\\anaconda3\\lib\\site-packages\\xlsxwriter\\worksheet.py:1170: UserWarning: Ignoring URL 'https://youtu.be/H0EYghRy_so%20www.tafcoequip.com%20Must%20have%20knowledge%20and%20some%20experience%20of%20preparing%20metal%20surfaces%20and%20painting/coating%20applications%20on%20metal.%20More%20experience%20and%20supervisory%20experience%20a%20plus.%20Welding%20experience%20also%20a%20plus%20Full%20time%20position,%20weekdays,%2040%20hours/wk,%20with%20benefits.%20(Health%20and%20dental%20insurance,%20Holidays,%20Vacation%20or%20PTO,%20and%20Vision%20plan)%20Competitive%20salary%20-%20negotiable%20dependent%20upon%20experience%20Experience%20with%20metal%20preparation%20and%20application%20of%20paint/coatings.%20Must%20know%20how%20to%20use%20and%20maintain%20spray%20equipment.%20This%20job%20requires%20a%20previous%20understanding%20of%20coating%20products,%20and%20quality%20control.%20Experience%20working%20within%20a%20manufacturing%20environment%20not%20necessary,%20but%20helpful.%20Supervisory%20experience%20a%20plus.%20Must%20be%20able%20to%20pass%20a%20physical%20with%20approval%20to%20wear%20personal%20protective%20equipment%20(PPE).%20An%20understanding%20of%20quality%20and%20coatings%20for%20your%20best%20work%20possible.%20You%20will%20have%20the%20opportunity%20to%20work%20both%20in%20the%20manufacturing%20plant%20for%20the%20bodies%20and%20hoists.%20Established%20manufacturing%20company%20in%20Blue%20Earth%20MN%20since%201963.%20We%20manufacture%20steel%20and%20aluminum%20truck%20bodies%20and%20hoists%20for%20a%20variety%20of%20industry%20needs%20i.e.%20agriculture,%20construction,%20landscaping%20etc.%20Job%20Requirements:%20Not%20all%20inclusive%20but%20generalized%20for%20this%20job%20posting%20This%20is%20physical%20work,%20and%20applicants%20must%20be%20able%20to%20lift%20and%20stretch%20This%20position%20requires%20wearing%20personal%20protective%20equipment%20including%20respirators%20Commit%20to%20excellence%20and%20high%20standards%20Manage%20priorities%20and%20workflow%20for%20all%20assigned%20tasks%20Versatility,%20flexibility,%20and%20willingness%20to%20work%20within%20constantly%20changing%20priorities%20with%20enthusiasm%20Work%20from%20and%20in%20accordance%20with%20painting%20and%20manufacturing%20best%20practices%20Appropriate%20preparation%20of%20surfaces%20i.e.%20removal%20of%20grease,%20dirt%20etc.%20Pouring%20primers/paint%20into%20spray%20guns,%20and%20experience%20with%20mixes%20for%20proper%20flow%20and%20thickness%20applications%20Quality%20control%20for%20rust%20potential%20flaws,%20runs,%20blistering,%20streaks%20etc.%20and%20action%20to%20correct%20the%20causes.%20Position%20requires%20using%20abrasives%20and%20solvents,%20and%20must%20understand%20material%20safety%20data%20sheets%20(MSDSs)%20Must%20have%20experience%20and%20knowledge%20of%20storage%20and%20disposal%20of%20materials%20classified%20as%20hazardous%20waste%20Position%20may%20also%20require%20you%20to%20use%20products%20to%20clean%20aluminum%20and%20stainless%20steel%20Forklift%20operation%20(if%20applicable%20to%20the%20position)%20Supervisory%20Positions:%20Team%20collaborations%20with%20management,%20sales,%20manufacturing%20leads%20and%20vendors%20An%20understanding%20of%20procurement%20and%20logistics%20processes,%20and%20inventory%20of%20your%20product%20and%20supplies%20Managing%20and%20monitoring%20project%20schedules%20and%20work%20processes%20for%20self%20and%20assigned%20co-workers%20Quality%20control,%20motivating%20teams,%20documenting%20progress%20Reports%20to%20the%20General%20Manager%20/%20Other%20department%20leadsConstruction/facilities' with link or location/anchor > 2079 characters since it exceeds Excel's limit for URLS\n",
      "  warn(\"Ignoring URL '%s' with link or location/anchor > %d \"\n"
     ]
    },
    {
     "name": "stderr",
     "output_type": "stream",
     "text": [
      "C:\\Users\\annch\\anaconda3\\lib\\site-packages\\xlsxwriter\\worksheet.py:1170: UserWarning: Ignoring URL 'https://www.gapinc.com/en-us/jobs/w46/46/seasonal-sales-associate-bridgeport-village%20We’re%20hiring%20for%20the%20holidays!%20Join%20our%20team%20and%20enjoy%20a%2050%25%20discount%20at%20our%20family%20of%20brands.*%20A%20few%20other%20things%20to%20look%20forward%20to:%20part%20time%20benefits%20(health,%20dental%20&%20vision%20plans),%20child%20&%20family%20care%20support,%20mental%20health%20&%20well-being%20programs,%20volunteer%20opportunities,%20commuter%20benefits%20&%20community%20discounts.%20*Applicable%20to%20regular-priced%20merchandise%20at%20Gap,%20Banana%20Republic,%20Old%20Navy%20and%20Athleta,%20and%2030%25%20off%20at%20Outlet.%20About%20Gap%20Gap%20has%20always%20been%20about%20optimistic%20American%20style.%20Starting%20with%20our%20very%20first%20store%20on%20Ocean%20Avenue%20in%20San%20Francisco,%20opened%20almost%2050%20years%20ago%20by%20Doris%20and%20Don%20Fisher.%20The%20thread%20that’s%20run%20through%20those%20five%20decades%20is%20the%20phenomenal%20people%20that%20make%20up%20our%20brand%20–%20our%20employees%20and%20our%20customers.%20People%20who%20are%20rooted%20in%20the%20legacy%20that%20makes%20Gap%20what%20it%20is,%20but%20who%20are%20also%20focused%20on%20the%20future.%20People%20who%20want%20to%20leave%20the%20world%20better%20than%20they%20found%20it.%20We’ve%20built%20our%20brand%20on%20staying%20true%20to%20our%20roots%20while%20always%20being%20out%20in%20front%20of%20what’s%20next.%20If%20you%20want%20to%20be%20part%20of%20an%20iconic%20American%20brand,%20and%20help%20lead%20the%20way%20for%20where%20we’re%20headed,%20we’d%20love%20to%20have%20you%20join%20us.%20About%20the%20Role%20In%20this%20role,%20you%20will%20engage%20and%20connect%20with%20our%20customers%20by%20providing%20excellent%20customer%20service.%20You%20will%20be%20an%20expert%20in%20product%20and%20use%20this%20expertise%20to%20educate,%20inform,%20inspire%20and%20outfit%20the%20customer.%20You%20will%20offer%20information%20to%20the%20customer%20on%20current%20merchandise%20assortment,%20store%20promotions%20and%20events,%20and%20execute%20operational%20processes%20effectively%20and%20efficiently.%20Your%20goal%20is%20to%20bring%20our%20brand%20to%20life%20for%20our%20customers%20while%20building%20brand%20loyalty%20and%20delivering%20with%20productivity.%20What%20You'll%20Do%20Acknowledge%20and%20assist%20customers;%20locate%20merchandise%20efficiently%20using%20various%20methods;%20answer%20questions%20quickly%20and%20accurately%20Offer%20style%20and%20outfit%20suggestions%20to%20the%20customer,%20utilizing%20mannequins%20and%20displays%20for%20inspiration%20Promote%20loyalty%20by%20educating%20customers%20about%20our%20loyalty%20programs%20Leverage%20omni%20channel%20offerings%20to%20deliver%20a%20frictionless%20customer%20experience%20Support%20sales%20floor,%20fitting%20room,%20check%20out,%20and%20back%20of%20house%20processes,%20as%20required%20Courteous%20and%20responsive%20to%20internal/external%20request%20Exchange%20and%20verifies%20job%20related%20information%20to%20provide%20support%20Who%20You%20Are%20Good%20communicator%20with%20the%20ability%20to%20utilize%20technology%20effectively%20and%20engage%20with%20customers%20and%20your%20team%20to%20meet%20goals%20Problem%20solver%20with%20a%20focus%20on%20continuous%20improvement,%20who%20is%20always%20learning,%20open%20to%20feedback%20and%20takes%20action%20as%20required%20Able%20to%20handle%20customer%20interactions%20and%20potential%20issues/concerns%20courteously%20and%20professionally%20Use%20basic%20information-gathering%20skills%20to%20solve%20problems%20Ability%20to%20learn%20procedural%20knowledge%20acquired%20through%20on-%20the-job%20training%20Gap%20Inc.%20is%20an%20equal-opportunity%20employer%20and%20is%20committed%20to%20providing%20a%20workplace%20free%20from%20harassment%20and%20discrimination.%20We%20are%20committed%20to%20recruiting,%20hiring,%20training%20and%20promoting%20qualified%20people%20of%20all%20backgrounds,%20and%20make%20all%20employment%20decisions%20without%20regard%20to%20any%20protected%20status.%20We%20have%20received%20numerous%20awards%20for%20our%20long-held%20commitment%20to%20equality%20and%20will%20continue%20to%20foster%20a%20diverse%20and%20inclusive%20environment%20of%20belonging.%20This%20year,%20we’ve%20been%20named%20as%20one%20of%20the%20Best%20Places%20to%20Work%20by%20the%20Humans%20Rights%20Campaign%20for%20the%20fourteenth%20consecutive%20year%20and%20have%20been%20included%20in%20the%202019%20Bloomberg%20Gender-Equality%20Index%20for%20the%20second%20year%20in%20a%20row.%20Job%20Type:%20Part-time%20Pay:%20$14.00%20-%20$15.00%20per%20hour%20Benefits:%20Employee%20discount%20Schedule:%20Day%20shift%20Holidays%20Monday%20to%20Friday%20Weekend%20availability%20Work%20Location:%20One%20location%20Work%20Remotely:%20No%20Work%20Location:%20One%20locationRetailIn%201969,%20Don%20and%20Doris%20Fisher%20opened%20the%20first%20Gap%20store%20on%20Ocean%20Avenue%20in%20San%20Francisco.%20They%20wanted%20to%20make%20it%20easier%20to%20find%20a%20great%20...' with link or location/anchor > 2079 characters since it exceeds Excel's limit for URLS\n",
      "  warn(\"Ignoring URL '%s' with link or location/anchor > %d \"\n",
      "C:\\Users\\annch\\anaconda3\\lib\\site-packages\\xlsxwriter\\worksheet.py:1170: UserWarning: Ignoring URL 'https://www.goarmy.com/info/send1/?iom=QB17-AUTO-ACNP-BR-XXX-XX-XXX-MO-XX-X-BRC%20Army%20Recruiting%20Battalion%20Columbus%20is%20currently%20looking%20to%20hire%20an%20Active%20Duty/Reserve%20Soldier.%20Note:%20You%20must%20enlist%20in%20the%20United%20States%20Army%20to%20obtain%20this%20position.%20You%20must%20be%20between%20the%20ages%20of%2017-34.%20You%20must%20have%20a%20GED%20or%20High%20School%20Diploma.%20You%20must%20be%20a%20U.S.%20Citizen%20of%20Green%20Card%20holder.%20Signal%20support%20systems%20specialists%20are%20primarily%20responsible%20for%20working%20with%20battlefield%20signal%20support%20systems%20and%20terminal%20devices.%20This%20equipment%20needs%20to%20consistently%20work%20in%20order%20for%20the%20Army%20to%20direct%20the%20movement%20of%20its%20troops.%20Job%20Duties:%20Maintain%20radio%20and%20data%20distribution%20systems%20Perform%20signal%20support%20functions%20and%20technical%20assistance%20for%20computer%20systems%20Provide%20technical%20assistance%20and%20training%20for%20local%20area%20networks%20Maintenance%20for%20equipment,%20terminal%20devices,%20assigned%20vehicles%20and%20power%20generators%20Requirements:%20Those%20who%20want%20to%20serve%20must%20first%20take%20the%20Armed%20Services%20Vocational%20Aptitude%20Battery,%20a%20series%20of%20tests%20that%20helps%20you%20better%20understand%20your%20strengths%20and%20identify%20which%20Army%20jobs%20are%20best%20for%20you.%20Training:%20Job%20training%20for%20a%20signal%20support%20systems%20specialist%20requires%2010%20weeks%20of%20Basic%20Combat%20Training%20and%2016%20weeks%20of%20Advanced%20Individual%20Training%20with%20on-the-job%20instruction.%20Part%20of%20this%20time%20is%20spent%20in%20the%20classroom%20and%20in%20the%20field.%20Some%20of%20the%20skills%20you’ll%20learn%20are:%20Mechanical%20and%20electrical%20principles%20Preventive%20maintenance%20procedures%20Line%20installation%20and%20wiring%20techniques%20Communication%20security%20policies%20and%20procedures%20Helpful%20Skills:%20Interest%20in%20working%20with%20electronic%20equipment%20Good%20at%20solving%20problems%20About%20Army%20Recruiting%20Ohio:%20Army%20Recruiting%20Ohio%20is%20a%20small%20team.%20Our%20job%20is%20to%20search%20for%20potential%20candidates%20all%20over%20Ohio,%20Kentucky,%20and%20parts%20of%20West%20Virginia.%20We%20employ%20for%20the%20greatest%20team%20for%20the%20greatest%20country%20on%20God's%20green%20earth.Follow%20us%20on%20Facebook,%20Instagram%20and%20Twitter%20@%20Army%20Recruiting%20OhioConstruction/facilitiesThe%20Army%20is%20a%20key%20component%20of%20the%20U.S.%20Armed%20Forces,%20providing%20expeditionary%20land%20forces%20wherever%20and%20whenever%20they%20are%20required.%20Workin...' with link or location/anchor > 2079 characters since it exceeds Excel's limit for URLS\n",
      "  warn(\"Ignoring URL '%s' with link or location/anchor > %d \"\n"
     ]
    }
   ],
   "source": [
    "# save current result\n",
    "for id, df_i in  enumerate(np.array_split(save_data.sort_values(by=['title']).reset_index(drop=True), 2)):\n",
    "    df_i.to_excel(f'media/output/review_{id}.xlsx', index=False)"
   ]
  },
  {
   "cell_type": "markdown",
   "id": "57d628c2",
   "metadata": {
    "pycharm": {
     "name": "#%%\n"
    }
   },
   "source": [
    "## Update Title Column Values"
   ]
  },
  {
   "cell_type": "code",
   "execution_count": 50,
   "id": "6e590b00",
   "metadata": {
    "pycharm": {
     "name": "#%%\n"
    }
   },
   "outputs": [],
   "source": [
    "job_titles = pd.read_excel(\"media/job-lists.xlsx\")\n",
    "job_titles['job_title'] = job_titles['job_title'].apply(str.lower)\n",
    "job_titles = job_titles[\"job_title\"].values.tolist()"
   ]
  },
  {
   "cell_type": "code",
   "execution_count": 49,
   "id": "d3172399",
   "metadata": {
    "pycharm": {
     "name": "#%%\n"
    }
   },
   "outputs": [],
   "source": [
    "target_data = pd.read_excel(\"media/output/review_0.xlsx\")\n",
    "target_data = target_data[~target_data[\"title\"].isnull()]\n",
    "target_data[\"title\"] = target_data[\"title\"].apply(str.lower)"
   ]
  },
  {
   "cell_type": "code",
   "execution_count": 51,
   "id": "e9a5c61f",
   "metadata": {
    "pycharm": {
     "name": "#%%\n"
    }
   },
   "outputs": [],
   "source": [
    "target_data_1 = pd.read_excel(\"media/output/review_1.xlsx\")\n",
    "target_data_1 = target_data_1[~target_data_1[\"title\"].isnull()]\n",
    "target_data_1[\"title\"] = target_data_1[\"title\"].apply(str.lower)"
   ]
  },
  {
   "cell_type": "code",
   "execution_count": 52,
   "id": "9acf3825",
   "metadata": {
    "pycharm": {
     "name": "#%%\n"
    }
   },
   "outputs": [],
   "source": [
    "def update_title(_data):\n",
    "    \"\"\"Function for matching title with job-list values\"\"\"\n",
    "    _data[\"found_positions\"] = \"\"\n",
    "    for job_title in job_titles:\n",
    "        indices = _data[_data[\"title\"].str.contains(job_title, case=False, regex=False)].index\n",
    "        if indices.empty:\n",
    "            continue\n",
    "        _data.loc[indices, \"found_positions\"] = _data.loc[indices, \"found_positions\"] + f\",{job_title}\"\n",
    "    return _data"
   ]
  },
  {
   "cell_type": "code",
   "execution_count": 53,
   "id": "4a1c448d",
   "metadata": {
    "pycharm": {
     "name": "#%%\n"
    }
   },
   "outputs": [],
   "source": [
    "def utils_preprocess_text(text, flg_stemm=False, flg_lemm=True):\n",
    "    ## clean (convert to lowercase and remove punctuations and characters and then strip)\n",
    "    text = re.sub(r\"(@\\[A-Za-z0-9]+)|([^0-9A-Za-z \\t])|(\\w+:\\/\\/\\S+)|^rt|http.+?\", \"\", str(text).lower().strip())\n",
    "     \n",
    "    ## Tokenize (convert from string to list)\n",
    "    lst_text = text.split()\n",
    "                \n",
    "    ## Stemming (remove -ing, -ly, ...)\n",
    "    if flg_stemm == True:\n",
    "        ps = nltk.stem.porter.PorterStemmer()\n",
    "        lst_text = [ps.stem(word) for word in lst_text]\n",
    "                \n",
    "    ## Lemmatisation (convert the word into root word)\n",
    "    if flg_lemm == True:\n",
    "        lem = nltk.stem.WordNetLemmatizer()\n",
    "        lst_text = [lem.lemmatize(word) for word in lst_text]\n",
    "            \n",
    "    ## back to string from list\n",
    "    text = \" \".join(lst_text)\n",
    "    return text"
   ]
  },
  {
   "cell_type": "code",
   "execution_count": 55,
   "id": "bb1a5cac",
   "metadata": {
    "pycharm": {
     "name": "#%%\n"
    }
   },
   "outputs": [
    {
     "data": {
      "text/html": [
       "<div>\n",
       "<style scoped>\n",
       "    .dataframe tbody tr th:only-of-type {\n",
       "        vertical-align: middle;\n",
       "    }\n",
       "\n",
       "    .dataframe tbody tr th {\n",
       "        vertical-align: top;\n",
       "    }\n",
       "\n",
       "    .dataframe thead th {\n",
       "        text-align: right;\n",
       "    }\n",
       "</style>\n",
       "<table border=\"1\" class=\"dataframe\">\n",
       "  <thead>\n",
       "    <tr style=\"text-align: right;\">\n",
       "      <th></th>\n",
       "      <th>title</th>\n",
       "      <th>description</th>\n",
       "      <th>position</th>\n",
       "    </tr>\n",
       "  </thead>\n",
       "  <tbody>\n",
       "    <tr>\n",
       "      <th>1338</th>\n",
       "      <td></td>\n",
       "      <td>Think fresh, fast and fun (and delicious)! Thi...</td>\n",
       "      <td>manager</td>\n",
       "    </tr>\n",
       "    <tr>\n",
       "      <th>1339</th>\n",
       "      <td>full time daytim clean janitori</td>\n",
       "      <td>$1000 IN SIGN-ON BONUSES. AUTOMATIC RAISES. PA...</td>\n",
       "      <td>NaN</td>\n",
       "    </tr>\n",
       "    <tr>\n",
       "      <th>1340</th>\n",
       "      <td>immedi interview kroger pharmaci technician 23...</td>\n",
       "      <td>We are looking for a dependable Pharmacy Techn...</td>\n",
       "      <td>NaN</td>\n",
       "    </tr>\n",
       "    <tr>\n",
       "      <th>1341</th>\n",
       "      <td>incent offer of nur</td>\n",
       "      <td>Assisting the Director of Nursing with impleme...</td>\n",
       "      <td>cto</td>\n",
       "    </tr>\n",
       "    <tr>\n",
       "      <th>1342</th>\n",
       "      <td>now hire</td>\n",
       "      <td>Your opportunity to thrive in a workplace envi...</td>\n",
       "      <td>manager</td>\n",
       "    </tr>\n",
       "    <tr>\n",
       "      <th>...</th>\n",
       "      <td>...</td>\n",
       "      <td>...</td>\n",
       "      <td>...</td>\n",
       "    </tr>\n",
       "    <tr>\n",
       "      <th>74636</th>\n",
       "      <td>lea</td>\n",
       "      <td>Leasing Associate for Affordable Housing Apart...</td>\n",
       "      <td>associate</td>\n",
       "    </tr>\n",
       "    <tr>\n",
       "      <th>74637</th>\n",
       "      <td>lea</td>\n",
       "      <td>Position Description This individual shall hav...</td>\n",
       "      <td>associate</td>\n",
       "    </tr>\n",
       "    <tr>\n",
       "      <th>74638</th>\n",
       "      <td>lea</td>\n",
       "      <td>Senior Sales Expert Excellent Pegasus Benefits...</td>\n",
       "      <td>manager</td>\n",
       "    </tr>\n",
       "    <tr>\n",
       "      <th>74639</th>\n",
       "      <td>lea</td>\n",
       "      <td>Who We Are: Peak Property Group specializes in...</td>\n",
       "      <td>associate</td>\n",
       "    </tr>\n",
       "    <tr>\n",
       "      <th>74640</th>\n",
       "      <td>lea</td>\n",
       "      <td>Adara Communities is seeking an experienced Le...</td>\n",
       "      <td>manager</td>\n",
       "    </tr>\n",
       "  </tbody>\n",
       "</table>\n",
       "<p>73303 rows × 3 columns</p>\n",
       "</div>"
      ],
      "text/plain": [
       "                                                   title  \\\n",
       "1338                                                       \n",
       "1339                     full time daytim clean janitori   \n",
       "1340   immedi interview kroger pharmaci technician 23...   \n",
       "1341                                 incent offer of nur   \n",
       "1342                                            now hire   \n",
       "...                                                  ...   \n",
       "74636                                                lea   \n",
       "74637                                                lea   \n",
       "74638                                                lea   \n",
       "74639                                                lea   \n",
       "74640                                                lea   \n",
       "\n",
       "                                             description   position  \n",
       "1338   Think fresh, fast and fun (and delicious)! Thi...    manager  \n",
       "1339   $1000 IN SIGN-ON BONUSES. AUTOMATIC RAISES. PA...        NaN  \n",
       "1340   We are looking for a dependable Pharmacy Techn...        NaN  \n",
       "1341   Assisting the Director of Nursing with impleme...        cto  \n",
       "1342   Your opportunity to thrive in a workplace envi...    manager  \n",
       "...                                                  ...        ...  \n",
       "74636  Leasing Associate for Affordable Housing Apart...  associate  \n",
       "74637  Position Description This individual shall hav...  associate  \n",
       "74638  Senior Sales Expert Excellent Pegasus Benefits...    manager  \n",
       "74639  Who We Are: Peak Property Group specializes in...  associate  \n",
       "74640  Adara Communities is seeking an experienced Le...    manager  \n",
       "\n",
       "[73303 rows x 3 columns]"
      ]
     },
     "execution_count": 55,
     "metadata": {},
     "output_type": "execute_result"
    }
   ],
   "source": [
    "target_data[\"title\"] = target_data[\"title\"].apply(lambda x: utils_preprocess_text(x, flg_stemm=True, flg_lemm=True))\n",
    "target_data"
   ]
  },
  {
   "cell_type": "code",
   "execution_count": 56,
   "id": "c0526922",
   "metadata": {
    "pycharm": {
     "name": "#%%\n"
    }
   },
   "outputs": [
    {
     "data": {
      "text/html": [
       "<div>\n",
       "<style scoped>\n",
       "    .dataframe tbody tr th:only-of-type {\n",
       "        vertical-align: middle;\n",
       "    }\n",
       "\n",
       "    .dataframe tbody tr th {\n",
       "        vertical-align: top;\n",
       "    }\n",
       "\n",
       "    .dataframe thead th {\n",
       "        text-align: right;\n",
       "    }\n",
       "</style>\n",
       "<table border=\"1\" class=\"dataframe\">\n",
       "  <thead>\n",
       "    <tr style=\"text-align: right;\">\n",
       "      <th></th>\n",
       "      <th>title</th>\n",
       "      <th>description</th>\n",
       "      <th>position</th>\n",
       "    </tr>\n",
       "  </thead>\n",
       "  <tbody>\n",
       "    <tr>\n",
       "      <th>0</th>\n",
       "      <td>lea marqui at cinco ranch</td>\n",
       "      <td>Overview: Looking for something different? We ...</td>\n",
       "      <td>associate</td>\n",
       "    </tr>\n",
       "    <tr>\n",
       "      <th>1</th>\n",
       "      <td>lea assembl 118</td>\n",
       "      <td>Join Our Leasing Team! We have an exciting opp...</td>\n",
       "      <td>manager</td>\n",
       "    </tr>\n",
       "    <tr>\n",
       "      <th>2</th>\n",
       "      <td>lea breckinridg squar</td>\n",
       "      <td>PMR Companies, a premier Multi -Family Propert...</td>\n",
       "      <td>associate</td>\n",
       "    </tr>\n",
       "    <tr>\n",
       "      <th>3</th>\n",
       "      <td>lea provid row</td>\n",
       "      <td>Providence Row - Charlotte, NC: POSITION OVERV...</td>\n",
       "      <td>associate</td>\n",
       "    </tr>\n",
       "    <tr>\n",
       "      <th>4</th>\n",
       "      <td>lea axio 8400</td>\n",
       "      <td>Avenue5 is growing, and we are in search of a ...</td>\n",
       "      <td>manager</td>\n",
       "    </tr>\n",
       "    <tr>\n",
       "      <th>...</th>\n",
       "      <td>...</td>\n",
       "      <td>...</td>\n",
       "      <td>...</td>\n",
       "    </tr>\n",
       "    <tr>\n",
       "      <th>74635</th>\n",
       "      <td>me o</td>\n",
       "      <td>デバイス、ドライバに加え、Chrome OS、Android などの Linux ベースシス...</td>\n",
       "      <td>chro</td>\n",
       "    </tr>\n",
       "    <tr>\n",
       "      <th>74636</th>\n",
       "      <td>brand design</td>\n",
       "      <td>we are currently seeking a lead brand designer...</td>\n",
       "      <td>lead</td>\n",
       "    </tr>\n",
       "    <tr>\n",
       "      <th>74637</th>\n",
       "      <td>mechan solidwork design</td>\n",
       "      <td>Johnston Engineering, a growing product develo...</td>\n",
       "      <td>NaN</td>\n",
       "    </tr>\n",
       "    <tr>\n",
       "      <th>74638</th>\n",
       "      <td>fr</td>\n",
       "      <td>ab tasty (www.abtasty.com) is the customer exp...</td>\n",
       "      <td>cco</td>\n",
       "    </tr>\n",
       "    <tr>\n",
       "      <th>74639</th>\n",
       "      <td>frontend develop</td>\n",
       "      <td>front-end developers (technical support engine...</td>\n",
       "      <td>NaN</td>\n",
       "    </tr>\n",
       "  </tbody>\n",
       "</table>\n",
       "<p>74640 rows × 3 columns</p>\n",
       "</div>"
      ],
      "text/plain": [
       "                           title  \\\n",
       "0      lea marqui at cinco ranch   \n",
       "1                lea assembl 118   \n",
       "2          lea breckinridg squar   \n",
       "3                 lea provid row   \n",
       "4                  lea axio 8400   \n",
       "...                          ...   \n",
       "74635                       me o   \n",
       "74636               brand design   \n",
       "74637    mechan solidwork design   \n",
       "74638                         fr   \n",
       "74639           frontend develop   \n",
       "\n",
       "                                             description   position  \n",
       "0      Overview: Looking for something different? We ...  associate  \n",
       "1      Join Our Leasing Team! We have an exciting opp...    manager  \n",
       "2      PMR Companies, a premier Multi -Family Propert...  associate  \n",
       "3      Providence Row - Charlotte, NC: POSITION OVERV...  associate  \n",
       "4      Avenue5 is growing, and we are in search of a ...    manager  \n",
       "...                                                  ...        ...  \n",
       "74635  デバイス、ドライバに加え、Chrome OS、Android などの Linux ベースシス...       chro  \n",
       "74636  we are currently seeking a lead brand designer...       lead  \n",
       "74637  Johnston Engineering, a growing product develo...        NaN  \n",
       "74638  ab tasty (www.abtasty.com) is the customer exp...        cco  \n",
       "74639  front-end developers (technical support engine...        NaN  \n",
       "\n",
       "[74640 rows x 3 columns]"
      ]
     },
     "execution_count": 56,
     "metadata": {},
     "output_type": "execute_result"
    }
   ],
   "source": [
    "target_data_1[\"title\"] = target_data_1[\"title\"].apply(lambda x: utils_preprocess_text(x, flg_stemm=True, flg_lemm=True))\n",
    "target_data_1"
   ]
  },
  {
   "cell_type": "code",
   "execution_count": 58,
   "id": "c7ddd064",
   "metadata": {
    "pycharm": {
     "name": "#%%\n"
    }
   },
   "outputs": [],
   "source": [
    "target_data = update_title(target_data)\n",
    "target_data_1 = update_title(target_data_1)"
   ]
  },
  {
   "cell_type": "code",
   "execution_count": 59,
   "id": "173adeab",
   "metadata": {
    "pycharm": {
     "name": "#%%\n"
    }
   },
   "outputs": [
    {
     "data": {
      "text/plain": [
       "((73303, 4), 72543)"
      ]
     },
     "execution_count": 59,
     "metadata": {},
     "output_type": "execute_result"
    }
   ],
   "source": [
    "target_data.shape, len(target_data.description.unique())"
   ]
  },
  {
   "cell_type": "code",
   "execution_count": 60,
   "id": "9f0eb17c",
   "metadata": {
    "pycharm": {
     "name": "#%%\n"
    }
   },
   "outputs": [],
   "source": [
    "target_df = pd.concat([target_data, target_data_1])"
   ]
  },
  {
   "cell_type": "code",
   "execution_count": 61,
   "id": "4631dbd8",
   "metadata": {
    "pycharm": {
     "name": "#%%\n"
    }
   },
   "outputs": [],
   "source": [
    "target_df[\"found_positions\"] = target_df[\"found_positions\"].apply(lambda x: max(x.split(','), key=len)) # take the longest job titles \n",
    "target_df[\"found_positions\"] = target_df[\"found_positions\"].apply(lambda x: utils_preprocess_text(x, flg_stemm=True, flg_lemm=False))"
   ]
  },
  {
   "cell_type": "code",
   "execution_count": 62,
   "id": "f3f47c2c",
   "metadata": {
    "pycharm": {
     "name": "#%%\n"
    }
   },
   "outputs": [],
   "source": [
    "target_df['found_positions'] = target_df['found_positions'].replace('', np.NaN)\n",
    "target_df[\"title\"] = target_df[\"found_positions\"].fillna(target_df[\"title\"])"
   ]
  },
  {
   "cell_type": "code",
   "execution_count": 63,
   "id": "9411fe4c",
   "metadata": {
    "pycharm": {
     "name": "#%%\n"
    }
   },
   "outputs": [],
   "source": [
    "target_df = target_df.drop_duplicates(subset='description')"
   ]
  },
  {
   "cell_type": "code",
   "execution_count": 64,
   "id": "8b8ded70",
   "metadata": {
    "pycharm": {
     "name": "#%%\n"
    }
   },
   "outputs": [],
   "source": [
    "target_df = target_df.drop(['position', 'found_positions'], axis=1)"
   ]
  },
  {
   "cell_type": "code",
   "execution_count": 65,
   "id": "dbf8d263",
   "metadata": {
    "pycharm": {
     "name": "#%%\n"
    }
   },
   "outputs": [
    {
     "data": {
      "text/plain": [
       "146280"
      ]
     },
     "execution_count": 65,
     "metadata": {},
     "output_type": "execute_result"
    }
   ],
   "source": [
    "len(target_df.description.unique())"
   ]
  },
  {
   "cell_type": "code",
   "execution_count": 66,
   "id": "696535de",
   "metadata": {
    "pycharm": {
     "name": "#%%\n"
    }
   },
   "outputs": [
    {
     "data": {
      "text/html": [
       "<div>\n",
       "<style scoped>\n",
       "    .dataframe tbody tr th:only-of-type {\n",
       "        vertical-align: middle;\n",
       "    }\n",
       "\n",
       "    .dataframe tbody tr th {\n",
       "        vertical-align: top;\n",
       "    }\n",
       "\n",
       "    .dataframe thead th {\n",
       "        text-align: right;\n",
       "    }\n",
       "</style>\n",
       "<table border=\"1\" class=\"dataframe\">\n",
       "  <thead>\n",
       "    <tr style=\"text-align: right;\">\n",
       "      <th></th>\n",
       "      <th>title</th>\n",
       "      <th>description</th>\n",
       "    </tr>\n",
       "  </thead>\n",
       "  <tbody>\n",
       "    <tr>\n",
       "      <th>1338</th>\n",
       "      <td></td>\n",
       "      <td>Think fresh, fast and fun (and delicious)! Thi...</td>\n",
       "    </tr>\n",
       "    <tr>\n",
       "      <th>1339</th>\n",
       "      <td>janitor</td>\n",
       "      <td>$1000 IN SIGN-ON BONUSES. AUTOMATIC RAISES. PA...</td>\n",
       "    </tr>\n",
       "    <tr>\n",
       "      <th>1340</th>\n",
       "      <td>technician</td>\n",
       "      <td>We are looking for a dependable Pharmacy Techn...</td>\n",
       "    </tr>\n",
       "    <tr>\n",
       "      <th>1341</th>\n",
       "      <td>incent offer of nur</td>\n",
       "      <td>Assisting the Director of Nursing with impleme...</td>\n",
       "    </tr>\n",
       "    <tr>\n",
       "      <th>1342</th>\n",
       "      <td>now hire</td>\n",
       "      <td>Your opportunity to thrive in a workplace envi...</td>\n",
       "    </tr>\n",
       "    <tr>\n",
       "      <th>...</th>\n",
       "      <td>...</td>\n",
       "      <td>...</td>\n",
       "    </tr>\n",
       "    <tr>\n",
       "      <th>74635</th>\n",
       "      <td>me o</td>\n",
       "      <td>デバイス、ドライバに加え、Chrome OS、Android などの Linux ベースシス...</td>\n",
       "    </tr>\n",
       "    <tr>\n",
       "      <th>74636</th>\n",
       "      <td>brand design</td>\n",
       "      <td>we are currently seeking a lead brand designer...</td>\n",
       "    </tr>\n",
       "    <tr>\n",
       "      <th>74637</th>\n",
       "      <td>mechan solidwork design</td>\n",
       "      <td>Johnston Engineering, a growing product develo...</td>\n",
       "    </tr>\n",
       "    <tr>\n",
       "      <th>74638</th>\n",
       "      <td>fr</td>\n",
       "      <td>ab tasty (www.abtasty.com) is the customer exp...</td>\n",
       "    </tr>\n",
       "    <tr>\n",
       "      <th>74639</th>\n",
       "      <td>frontend develop</td>\n",
       "      <td>front-end developers (technical support engine...</td>\n",
       "    </tr>\n",
       "  </tbody>\n",
       "</table>\n",
       "<p>146280 rows × 2 columns</p>\n",
       "</div>"
      ],
      "text/plain": [
       "                         title  \\\n",
       "1338                             \n",
       "1339                   janitor   \n",
       "1340                technician   \n",
       "1341       incent offer of nur   \n",
       "1342                  now hire   \n",
       "...                        ...   \n",
       "74635                     me o   \n",
       "74636             brand design   \n",
       "74637  mechan solidwork design   \n",
       "74638                       fr   \n",
       "74639         frontend develop   \n",
       "\n",
       "                                             description  \n",
       "1338   Think fresh, fast and fun (and delicious)! Thi...  \n",
       "1339   $1000 IN SIGN-ON BONUSES. AUTOMATIC RAISES. PA...  \n",
       "1340   We are looking for a dependable Pharmacy Techn...  \n",
       "1341   Assisting the Director of Nursing with impleme...  \n",
       "1342   Your opportunity to thrive in a workplace envi...  \n",
       "...                                                  ...  \n",
       "74635  デバイス、ドライバに加え、Chrome OS、Android などの Linux ベースシス...  \n",
       "74636  we are currently seeking a lead brand designer...  \n",
       "74637  Johnston Engineering, a growing product develo...  \n",
       "74638  ab tasty (www.abtasty.com) is the customer exp...  \n",
       "74639  front-end developers (technical support engine...  \n",
       "\n",
       "[146280 rows x 2 columns]"
      ]
     },
     "execution_count": 66,
     "metadata": {},
     "output_type": "execute_result"
    }
   ],
   "source": [
    "target_df"
   ]
  },
  {
   "cell_type": "code",
   "execution_count": 67,
   "id": "4f4621ef",
   "metadata": {
    "pycharm": {
     "name": "#%%\n"
    }
   },
   "outputs": [],
   "source": [
    "# drop titles with less then 100 descriptions\n",
    "title_counts = target_df.groupby('title').agg(count=(\"title\", 'count')).reset_index().sort_values('count', ascending=False)\n",
    "title_counts = title_counts[title_counts['count'] > 100]\n",
    "target_df = target_df[target_df['title'].isin(title_counts['title'].values)]"
   ]
  },
  {
   "cell_type": "code",
   "execution_count": null,
   "id": "9a07dcbf",
   "metadata": {
    "pycharm": {
     "name": "#%%\n"
    }
   },
   "outputs": [],
   "source": [
    "target_df = target_df.replace(r'\\n|\\t|@',' ', regex=True)\n",
    "target_df = target_df[target_df['title']!='']"
   ]
  },
  {
   "cell_type": "markdown",
   "id": "ef144e97",
   "metadata": {},
   "source": [
    "## language detection"
   ]
  },
  {
   "cell_type": "code",
   "execution_count": null,
   "id": "10a77278",
   "metadata": {},
   "outputs": [],
   "source": [
    "target_df = target_df.reset_index(drop=True)\n",
    "target_df['title'] = target_df[target_df['title'].apply(lambda title: detect(title)=='en')]"
   ]
  },
  {
   "cell_type": "markdown",
   "id": "39ccc221",
   "metadata": {},
   "source": [
    "# Save data"
   ]
  },
  {
   "cell_type": "code",
   "execution_count": null,
   "id": "df7ea81c",
   "metadata": {
    "pycharm": {
     "name": "#%%\n"
    }
   },
   "outputs": [],
   "source": [
    "target_df = target_df.reset_index(drop=True)\n",
    "target_df.to_csv('data/training_all_data.csv',  sep=\"@\", index=False)"
   ]
  },
  {
   "cell_type": "code",
   "execution_count": null,
   "id": "09f782f0",
   "metadata": {
    "pycharm": {
     "name": "#%%\n"
    }
   },
   "outputs": [],
   "source": []
  }
 ],
 "metadata": {
  "kernelspec": {
   "display_name": "Python 3 (ipykernel)",
   "language": "python",
   "name": "python3"
  },
  "language_info": {
   "codemirror_mode": {
    "name": "ipython",
    "version": 3
   },
   "file_extension": ".py",
   "mimetype": "text/x-python",
   "name": "python",
   "nbconvert_exporter": "python",
   "pygments_lexer": "ipython3",
   "version": "3.9.12"
  }
 },
 "nbformat": 4,
 "nbformat_minor": 5
}
