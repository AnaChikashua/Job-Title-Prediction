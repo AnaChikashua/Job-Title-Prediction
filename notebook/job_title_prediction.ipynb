{
 "cells": [
  {
   "cell_type": "code",
   "execution_count": 1,
   "id": "d545125d",
   "metadata": {
    "scrolled": true,
    "pycharm": {
     "name": "#%%\n"
    }
   },
   "outputs": [],
   "source": [
    "## for data\n",
    "import pandas as pd\n",
    "# import collections\n",
    "import json\n",
    "from sklearn.model_selection import train_test_split\n",
    "## for plotting\n",
    "import matplotlib.pyplot as plt\n",
    "import seaborn as sns\n",
    "import wordcloud\n",
    "import scattertext as st\n",
    "## for text processing\n",
    "import re\n",
    "import nltk\n",
    "\n",
    "## რა იცი რაში დაგჭირდეს\n",
    "import numpy as np"
   ]
  },
  {
   "cell_type": "code",
   "execution_count": 3,
   "id": "d9ad35c2",
   "metadata": {
    "pycharm": {
     "name": "#%%\n"
    }
   },
   "outputs": [],
   "source": [
    "import fasttext"
   ]
  },
  {
   "cell_type": "code",
   "execution_count": 4,
   "id": "6fbc97cf",
   "metadata": {
    "pycharm": {
     "name": "#%%\n"
    }
   },
   "outputs": [],
   "source": [
    "data = pd.read_csv(\"jobs_data\\engineering_jobs.csv\")"
   ]
  },
  {
   "cell_type": "code",
   "execution_count": 5,
   "id": "4c7850a2",
   "metadata": {
    "pycharm": {
     "name": "#%%\n"
    }
   },
   "outputs": [],
   "source": [
    "cols = [\"skills\",\"Unnamed: 0\"]\n",
    "data = data.drop(cols, axis=1)"
   ]
  },
  {
   "cell_type": "code",
   "execution_count": 6,
   "id": "d667b861",
   "metadata": {
    "pycharm": {
     "name": "#%%\n"
    }
   },
   "outputs": [],
   "source": [
    "data = data.dropna(thresh=2)"
   ]
  },
  {
   "cell_type": "code",
   "execution_count": 7,
   "id": "f7292fe8",
   "metadata": {
    "pycharm": {
     "name": "#%%\n"
    }
   },
   "outputs": [],
   "source": [
    "'''\n",
    "Preprocess a string.\n",
    ":parameter\n",
    "    :param text: string - name of column containing text\n",
    "    :param lst_stopwords: list - list of stopwords to remove\n",
    "    :param flg_stemm: bool - whether stemming is to be applied\n",
    "    :param flg_lemm: bool - whether lemmitisation is to be applied\n",
    ":return\n",
    "    cleaned text\n",
    "'''\n",
    "def utils_preprocess_text(text, flg_stemm=False, flg_lemm=True, lst_stopwords=None):\n",
    "    ## clean (convert to lowercase and remove punctuations and characters and then strip)\n",
    "    text = re.sub(r\"(@\\[A-Za-z0-9]+)|([^0-9A-Za-z \\t])|(\\w+:\\/\\/\\S+)|^rt|http.+?\", \"\", str(text).lower().strip())\n",
    "    \n",
    "            \n",
    "    ## Tokenize (convert from string to list)\n",
    "    lst_text = text.split()\n",
    "    ## remove Stopwords\n",
    "    if lst_stopwords is not None:\n",
    "        lst_text = [word for word in lst_text if word not in \n",
    "                    lst_stopwords]\n",
    "                \n",
    "    ## Stemming (remove -ing, -ly, ...)\n",
    "    if flg_stemm == True:\n",
    "        ps = nltk.stem.porter.PorterStemmer()\n",
    "        lst_text = [ps.stem(word) for word in lst_text]\n",
    "                \n",
    "    ## Lemmatisation (convert the word into root word)\n",
    "    if flg_lemm == True:\n",
    "        lem = nltk.stem.WordNetLemmatizer()\n",
    "        lst_text = [lem.lemmatize(word) for word in lst_text]\n",
    "            \n",
    "    ## back to string from list\n",
    "    text = \" \".join(lst_text)\n",
    "    return text"
   ]
  },
  {
   "cell_type": "code",
   "execution_count": 8,
   "id": "c5de8a64",
   "metadata": {
    "pycharm": {
     "name": "#%%\n"
    }
   },
   "outputs": [],
   "source": [
    "stop_words = set(nltk.corpus.stopwords.words('english'))"
   ]
  },
  {
   "cell_type": "code",
   "execution_count": 9,
   "id": "3e93207a",
   "metadata": {
    "pycharm": {
     "name": "#%%\n"
    }
   },
   "outputs": [],
   "source": [
    "manual_stop_words = []\n",
    "with open('stop_words_english.txt', 'r', encoding='utf8') as words:\n",
    "      for line in words:\n",
    "            manual_stop_words.append(line.rstrip())"
   ]
  },
  {
   "cell_type": "code",
   "execution_count": 10,
   "id": "5c1a5854",
   "metadata": {
    "pycharm": {
     "name": "#%%\n"
    }
   },
   "outputs": [],
   "source": [
    "data[\"description_clean\"] = data[\"description\"].apply(lambda x: utils_preprocess_text(x, flg_stemm=True, flg_lemm=True, lst_stopwords=manual_stop_words))"
   ]
  },
  {
   "cell_type": "code",
   "execution_count": 11,
   "id": "6f8681b2",
   "metadata": {
    "pycharm": {
     "name": "#%%\n"
    }
   },
   "outputs": [],
   "source": [
    "data[\"title_clean\"] = data[\"title\"].apply(lambda x: utils_preprocess_text(x, flg_stemm=False, flg_lemm=False, lst_stopwords=manual_stop_words))"
   ]
  },
  {
   "cell_type": "code",
   "execution_count": 12,
   "id": "bd372d85",
   "metadata": {
    "pycharm": {
     "name": "#%%\n"
    }
   },
   "outputs": [],
   "source": [
    "unique_categories = data.title_clean.unique()\n",
    "dict_map = dict(zip(unique_categories, range(len(unique_categories))))\n",
    "data[\"title_index\"] = data.title_clean.map(dict_map)"
   ]
  },
  {
   "cell_type": "code",
   "execution_count": 103,
   "id": "8df6420c",
   "metadata": {
    "pycharm": {
     "name": "#%%\n"
    }
   },
   "outputs": [],
   "source": [
    "data = data[data.duplicated(subset=['title_index'], keep=False)]"
   ]
  },
  {
   "cell_type": "code",
   "execution_count": 104,
   "id": "6a4cc98a",
   "metadata": {
    "scrolled": false,
    "pycharm": {
     "name": "#%%\n"
    }
   },
   "outputs": [
    {
     "data": {
      "text/plain": [
       "33       4146\n",
       "49       3844\n",
       "1        1091\n",
       "2108      556\n",
       "230       519\n",
       "         ... \n",
       "7143        2\n",
       "7128        2\n",
       "7107        2\n",
       "7086        2\n",
       "66819       2\n",
       "Name: title_index, Length: 10438, dtype: int64"
      ]
     },
     "execution_count": 104,
     "metadata": {},
     "output_type": "execute_result"
    }
   ],
   "source": [
    "data.title_index.value_counts()"
   ]
  },
  {
   "cell_type": "code",
   "execution_count": 112,
   "id": "c2815b36",
   "metadata": {
    "scrolled": true,
    "pycharm": {
     "name": "#%%\n"
    }
   },
   "outputs": [],
   "source": [
    "X_train,X_test, y_train, y_test = train_test_split(data['description_clean'].values, data['title_index'].values, test_size=0.2, train_size=0.8, random_state=42, stratify=data['title_index'])"
   ]
  },
  {
   "cell_type": "markdown",
   "id": "285999f2",
   "metadata": {
    "pycharm": {
     "name": "#%% md\n"
    }
   },
   "source": [
    "## FASTTEXT -  Create New Column: Give Each Category an Numerical Index"
   ]
  },
  {
   "cell_type": "code",
   "execution_count": 13,
   "id": "f70c2afe",
   "metadata": {
    "pycharm": {
     "name": "#%%\n"
    }
   },
   "outputs": [],
   "source": [
    "#make dictionary of the category mappings\n",
    "dict_map_label = {v:'__label__' + str(k) for k,v in enumerate(unique_categories)}"
   ]
  },
  {
   "cell_type": "code",
   "execution_count": 14,
   "id": "41b7c809",
   "metadata": {
    "pycharm": {
     "name": "#%%\n"
    }
   },
   "outputs": [],
   "source": [
    "data[\"title_index_label\"] = data.title_clean.map(dict_map_label)"
   ]
  },
  {
   "cell_type": "code",
   "execution_count": 15,
   "id": "f186d8f4",
   "metadata": {
    "pycharm": {
     "name": "#%%\n"
    }
   },
   "outputs": [],
   "source": [
    "title_desc = data['title_index_label'] + \" \" + data['description_clean']"
   ]
  },
  {
   "cell_type": "code",
   "execution_count": 16,
   "id": "598d4b52",
   "metadata": {
    "pycharm": {
     "name": "#%%\n"
    }
   },
   "outputs": [
    {
     "data": {
      "text/plain": "{'__label__'}"
     },
     "execution_count": 16,
     "metadata": {},
     "output_type": "execute_result"
    }
   ],
   "source": [
    "## check if description start with __label__\n",
    "res = []\n",
    "for line in title_desc:\n",
    "    res.append(line[:9])\n",
    "set(res)"
   ]
  },
  {
   "cell_type": "code",
   "execution_count": null,
   "id": "d65d7371",
   "metadata": {
    "pycharm": {
     "name": "#%%\n"
    }
   },
   "outputs": [],
   "source": []
  },
  {
   "cell_type": "code",
   "execution_count": 115,
   "id": "30db2f6e",
   "metadata": {
    "pycharm": {
     "name": "#%%\n"
    }
   },
   "outputs": [],
   "source": [
    "train = list(map(lambda x: '__label__' + str(x) + \" \", y_train)) + X_train\n",
    "test =  list(map(lambda x: '__label__' + str(x) + \" \", y_test)) + X_test"
   ]
  },
  {
   "cell_type": "markdown",
   "id": "dcbd5a40",
   "metadata": {
    "pycharm": {
     "name": "#%% md\n"
    }
   },
   "source": [
    "## FASTTEXT - Train/Test "
   ]
  },
  {
   "cell_type": "code",
   "execution_count": 17,
   "id": "f5e581cf",
   "metadata": {
    "scrolled": true,
    "pycharm": {
     "name": "#%%\n"
    }
   },
   "outputs": [],
   "source": [
    "train, test = train_test_split(title_desc, test_size=0.3, train_size=0.7, random_state=42)"
   ]
  },
  {
   "cell_type": "code",
   "execution_count": 18,
   "id": "a7ca1eec",
   "metadata": {
    "pycharm": {
     "name": "#%%\n"
    }
   },
   "outputs": [],
   "source": [
    "#write test and train into files\n",
    "with open(\"train.txt\", \"a\") as file:\n",
    "    for line in np.array(train):\n",
    "        file.write(line + \"\\n\")\n",
    "with open(\"test.txt\", \"a\") as file:\n",
    "    for line in np.array(test):\n",
    "        file.write(line + \"\\n\")"
   ]
  },
  {
   "cell_type": "code",
   "execution_count": null,
   "id": "45e7ae97",
   "metadata": {
    "pycharm": {
     "name": "#%%\n"
    }
   },
   "outputs": [],
   "source": [
    "model = fasttext.train_supervised(input=\"train.txt\", wordNgrams=1)"
   ]
  },
  {
   "cell_type": "code",
   "execution_count": null,
   "id": "3c47f554",
   "metadata": {
    "pycharm": {
     "name": "#%%\n"
    }
   },
   "outputs": [],
   "source": [
    "#test\n",
    "model.test(\"test.txt\") #(n, precision, recall)"
   ]
  },
  {
   "cell_type": "code",
   "execution_count": null,
   "outputs": [],
   "source": [
    "model.predict('Experienced Data Scientist with a demonstrated history of working in the information technology and services industry. Skilled in Python (Programming Language), SQL and Data Science. Strong engineering professional graduated from Tbilisi State University.')"
   ],
   "metadata": {
    "collapsed": false,
    "pycharm": {
     "name": "#%%\n"
    }
   }
  },
  {
   "cell_type": "code",
   "execution_count": null,
   "outputs": [],
   "source": [
    "dict_map"
   ],
   "metadata": {
    "collapsed": false,
    "pycharm": {
     "name": "#%%\n"
    }
   }
  },
  {
   "cell_type": "markdown",
   "id": "58042d97",
   "metadata": {
    "pycharm": {
     "name": "#%% md\n"
    }
   },
   "source": [
    "## DETAILED INFORMATION ABOUT THE DATASET"
   ]
  },
  {
   "cell_type": "code",
   "execution_count": 48,
   "id": "a36ddde0",
   "metadata": {
    "scrolled": true,
    "pycharm": {
     "name": "#%%\n"
    }
   },
   "outputs": [
    {
     "data": {
      "text/html": [
       "<div>\n",
       "<style scoped>\n",
       "    .dataframe tbody tr th:only-of-type {\n",
       "        vertical-align: middle;\n",
       "    }\n",
       "\n",
       "    .dataframe tbody tr th {\n",
       "        vertical-align: top;\n",
       "    }\n",
       "\n",
       "    .dataframe thead th {\n",
       "        text-align: right;\n",
       "    }\n",
       "</style>\n",
       "<table border=\"1\" class=\"dataframe\">\n",
       "  <thead>\n",
       "    <tr style=\"text-align: right;\">\n",
       "      <th></th>\n",
       "      <th>title</th>\n",
       "      <th>description</th>\n",
       "      <th>basic_qualifications</th>\n",
       "      <th>prefered_qualifications</th>\n",
       "      <th>category</th>\n",
       "      <th>text_clean</th>\n",
       "      <th>title_clean</th>\n",
       "    </tr>\n",
       "  </thead>\n",
       "  <tbody>\n",
       "    <tr>\n",
       "      <th>count</th>\n",
       "      <td>49281</td>\n",
       "      <td>49279</td>\n",
       "      <td>3305</td>\n",
       "      <td>3305</td>\n",
       "      <td>43893</td>\n",
       "      <td>49281</td>\n",
       "      <td>49281</td>\n",
       "    </tr>\n",
       "    <tr>\n",
       "      <th>unique</th>\n",
       "      <td>21402</td>\n",
       "      <td>49279</td>\n",
       "      <td>3032</td>\n",
       "      <td>2993</td>\n",
       "      <td>689</td>\n",
       "      <td>49000</td>\n",
       "      <td>20601</td>\n",
       "    </tr>\n",
       "    <tr>\n",
       "      <th>top</th>\n",
       "      <td>data scientist</td>\n",
       "      <td>You are an experienced hands-on manager with a...</td>\n",
       "      <td>Position Requirements:Master's degree or forei...</td>\n",
       "      <td>Applicants must meet all of the above listed r...</td>\n",
       "      <td>Trades &amp; Services</td>\n",
       "      <td>decade proforce helped 15000 graduates step co...</td>\n",
       "      <td>data scientist</td>\n",
       "    </tr>\n",
       "    <tr>\n",
       "      <th>freq</th>\n",
       "      <td>4016</td>\n",
       "      <td>1</td>\n",
       "      <td>5</td>\n",
       "      <td>33</td>\n",
       "      <td>3120</td>\n",
       "      <td>4</td>\n",
       "      <td>4128</td>\n",
       "    </tr>\n",
       "  </tbody>\n",
       "</table>\n",
       "</div>"
      ],
      "text/plain": [
       "                 title                                        description  \\\n",
       "count            49281                                              49279   \n",
       "unique           21402                                              49279   \n",
       "top     data scientist  You are an experienced hands-on manager with a...   \n",
       "freq              4016                                                  1   \n",
       "\n",
       "                                     basic_qualifications  \\\n",
       "count                                                3305   \n",
       "unique                                               3032   \n",
       "top     Position Requirements:Master's degree or forei...   \n",
       "freq                                                    5   \n",
       "\n",
       "                                  prefered_qualifications           category  \\\n",
       "count                                                3305              43893   \n",
       "unique                                               2993                689   \n",
       "top     Applicants must meet all of the above listed r...  Trades & Services   \n",
       "freq                                                   33               3120   \n",
       "\n",
       "                                               text_clean     title_clean  \n",
       "count                                               49281           49281  \n",
       "unique                                              49000           20601  \n",
       "top     decade proforce helped 15000 graduates step co...  data scientist  \n",
       "freq                                                    4            4128  "
      ]
     },
     "execution_count": 48,
     "metadata": {},
     "output_type": "execute_result"
    }
   ],
   "source": [
    "data.describe()"
   ]
  },
  {
   "cell_type": "code",
   "execution_count": 49,
   "id": "6e8a616b",
   "metadata": {
    "scrolled": true,
    "pycharm": {
     "name": "#%%\n"
    }
   },
   "outputs": [
    {
     "data": {
      "text/plain": [
       "(data scientist                                   4016\n",
       " software developer                               3585\n",
       " software development engineer                    1077\n",
       " junior software developer                         335\n",
       " project manager                                   251\n",
       "                                                  ... \n",
       " data scientist : 19-01679                           1\n",
       " insurance claims consultants                        1\n",
       " data scientist, ad platforms                        1\n",
       " head of talent                                      1\n",
       " refrigeration and air-conditioning apprentice       1\n",
       " Name: title, Length: 21402, dtype: int64,\n",
       " data scientist                                   0.081492\n",
       " software developer                               0.072746\n",
       " software development engineer                    0.021854\n",
       " junior software developer                        0.006798\n",
       " project manager                                  0.005093\n",
       "                                                    ...   \n",
       " data scientist : 19-01679                        0.000020\n",
       " insurance claims consultants                     0.000020\n",
       " data scientist, ad platforms                     0.000020\n",
       " head of talent                                   0.000020\n",
       " refrigeration and air-conditioning apprentice    0.000020\n",
       " Name: title, Length: 21402, dtype: float64)"
      ]
     },
     "execution_count": 49,
     "metadata": {},
     "output_type": "execute_result"
    }
   ],
   "source": [
    "data.title.value_counts(), data.title.value_counts(normalize=True)"
   ]
  },
  {
   "cell_type": "code",
   "execution_count": 47,
   "id": "eb6bbdd2",
   "metadata": {
    "pycharm": {
     "name": "#%%\n"
    }
   },
   "outputs": [
    {
     "data": {
      "image/png": "[encoded data removed]",
      "text/plain": [
       "<Figure size 432x288 with 1 Axes>"
      ]
     },
     "metadata": {
      "needs_background": "light"
     },
     "output_type": "display_data"
    }
   ],
   "source": [
    "fig, ax = plt.subplots()\n",
    "fig.suptitle('title_clean', fontsize=12)\n",
    "data['title_clean'].reset_index().groupby('title_clean').count().sort_values(by= \n",
    "       \"index\").tail(10).plot(kind=\"barh\", legend=False, \n",
    "        ax=ax).grid(axis='x')\n",
    "plt.show()"
   ]
  },
  {
   "cell_type": "code",
   "execution_count": null,
   "id": "fb27a6f2",
   "metadata": {
    "pycharm": {
     "name": "#%%\n"
    }
   },
   "outputs": [],
   "source": [
    "fig, ax = plt.subplots(nrows=1, ncols=2)\n",
    "fig.suptitle('Title', fontsize=12)\n",
    "for i in data[y].unique():\n",
    "    sns.distplot(data[data[y]==i][x], hist=True, kde=False, \n",
    "                 bins=10, hist_kws={\"alpha\":0.8}, \n",
    "                 axlabel=\"histogram\", ax=ax[0])\n",
    "    sns.distplot(dtf[dtf[y]==i][x], hist=False, kde=True, \n",
    "                 kde_kws={\"shade\":True}, axlabel=\"density\",   \n",
    "                 ax=ax[1])\n",
    "ax[0].grid(True)\n",
    "ax[0].legend(dtf[y].unique())\n",
    "ax[1].grid(True)\n",
    "plt.show()"
   ]
  },
  {
   "cell_type": "markdown",
   "id": "c02f6b3d",
   "metadata": {
    "pycharm": {
     "name": "#%% md\n"
    }
   },
   "source": [
    "## Indeed files"
   ]
  },
  {
   "cell_type": "code",
   "execution_count": 66,
   "id": "162b7fac",
   "metadata": {
    "pycharm": {
     "name": "#%%\n"
    }
   },
   "outputs": [],
   "source": [
    "path_str = r\"C:\\Users\\annch\\OneDrive\\Desktop\\untitled folder\\indeed_usa-indeed_usa_job_data__20211001_20211231_deduped_n_merged_20220305_004328202689288.ldjson\"\n",
    "path_str1 = r\"C:\\Users\\annch\\OneDrive\\Desktop\\untitled folder\\indeed_usa-indeed_usa_job_data__20211001_20211231_deduped_n_merged_20220305_004258919873466.ldjson\""
   ]
  },
  {
   "cell_type": "code",
   "execution_count": 75,
   "id": "1413b850",
   "metadata": {
    "collapsed": true,
    "pycharm": {
     "name": "#%%\n"
    }
   },
   "outputs": [
    {
     "data": {
      "text/plain": [
       "{'uniq_id': '5e5c32d6ed35211e3f7a5842858fc5e9',\n",
       " 'crawl_timestamp': '2021-12-24 15:12:25 +0000',\n",
       " 'url': 'https://www.indeed.com/viewjob?jk=5b351498df632075',\n",
       " 'job_title': 'Electrical Construction Project Manager',\n",
       " 'category': 'Customer Service',\n",
       " 'company_name': 'Adams Electric Company',\n",
       " 'city': 'Durham',\n",
       " 'state': 'NC',\n",
       " 'country': 'US',\n",
       " 'post_date': '2021-12-24',\n",
       " 'job_description': 'Company Description - Adams Electric is committed to exceeding our clients expectations. We add value to our clients through our passionate team committed to achieving excellence and creating relationships built to last. We know our associates are our best asset. Therefore, we invest in our associates by providing skilled training programs and opportunities for professional growth. By creating a culture based on safety, teamwork and trust; our associates have the confidence, training and knowledge to build a successful and long-lasting career at Adams Electric. General Position Summary Adams Electric Company is seeking a dynamic, experienced and passionate Project Manager. Join our outstanding team of skilled project managers and our operations team to build exciting projects making an imprint on the community for future generations. Accountable for the management of assigned projects including the installation, performance, profitability, and ultimately adding value to multiple projects. Performs all work within an established time frame and ensures that work is done in conformance with quality work standards, projected man-hours, within established Company guidelines and regulatory compliance requirements. Schedules, participates in and/or conducts project meetings. Manage the project, supervisors and workers in accordance with the policies and procedures established by Adams Electric. Collaborate with Human Resources in the recruitment of a qualified and skilled workforce Responsibilities - Pre-Construction Directly responsible for planning/preparing all contract administration, executing and directing project activities, and developing or maintaining client relationships. Responsible for job setup including but not limited to: Creating job cost budget, creating Schedule of Values, re-estimate, review and executing subcontracts, review and executing purchase orders with accurate BOMs, etc. Responsible for pricing and procuring subcontractor packages related to Adams scope of work. PM is responsible for ensuring that subcontractor scopes are consistent with documents (drawings, specs, bid package) and that subcontractor is capable of completing work. Responsible for pricing and procuring major material packages (particularly Switchgear, Lighting and Commodities) related to Adams scope of work. PM is responsible for ensuring that subcontractor scopes are consistent with documents (drawings, specs, bid package) and that subcontractor is capable of completing work. Responsible for procuring, submitting and managing submittal process related to Adams scope of work. VDC/BIM General oversight for VDC/BIM related to specific project. Work with Project Operations Manager and VDC/BIM Manager to create a VDC/BIM plan for the project including, but not limited to, layout lead, schedule for coordination and schedule for drawings. Assist Superintendent with BIM layout efforts for prior to the project. Review drawings regularly with VDC/BIM Manager and Superintendent throughout process to ensure quality control in terms of content and constructability. Pre-Fabrication Work with Superintendent, Construction Resources Director and Project Operations Manager to create and maintain pre-fabrication plan for the project Work with Superintendent on managing delivery of pre-fabrication assemblies and installation schedule Constantly explore opportunities for pre-fabrication in all pieces of work Material Management / Jobsite Logistic Oversight and responsibility for creating and maintaining material management and logistics plan related to current project(s). This includes defining and managing each piece of the process including, but not limited to, determining material needs, ordering material, receiving material and organizing material. Responsible for ensuring a quality control plan to ensure all material meets project specifications. Work with Superintendent, Field Operations Manager and Project Operations Manager to develop materials management and jobsite logistic plan prior to the project starting Work with Superintendent, Field Operations Manager and Project Operations Manager and Vendor Partners to implement plan and adjust plan throughout the course of the job. Responsible for procuring, managing and maintaining equipment on project including, but not limited to, company vehicles, equipment rentals, company tools and leased tools Scheduling Oversight and responsibility for creating and maintaining schedule related to current project(s). This includes organization of current crews and manpower projections throughout the project. Work with Superintendent, Field Operations Manager and Project Operations Manager to develop field organization chart for project Work with Superintendent and Field Operation Manager to update schedule and manpower projection weekly. Subcontractor Management General oversight of all subcontractor s scope of work Responsibility for ensuring all submittal deliverables are completed in a timely manner Responsible for monitoring subcontractor s manpower to meet project schedule Responsible for ensuring all subcontractor work is being executed to meet all project requirements Responsible for managing the billing process for individual subcontractors Safety Work with Superintendent to create and maintain Safety plan related to current project(s). This includes defining and managing each piece of the process including, but not limited to, daily reports, PPE management, accident management, etc. Work with Superintendent Onsite Safety Manager to develop safety plan specific to project Work with Superintendent, Field Operation Manager, Onsite Safety Manager, Foreman\\'s to ensure that project is adhering to both the project-specific safety plan and Adams Electric company standards. Quality Control Work with Project Superintendent to create and maintain QA/QC plan related to current project(s). This includes defining and managing each piece of the process including, but not limited to, specification and code compliance, internal punch list management, general contractor punch list management and owner/design team punch list management Work with Project Superintendent and Onsite QA/QC Manager to develop QA/QC plan for a project Work with Project Superintendent, Field Operation Manager and QA/QC manager to ensure that project is adhering to both project specific QA/QC plan and Adams Electric company standards, testing and documentation Responsible for reviewing and analyzing project documents; plans and specifications; directing construction activities; resolving construction challenges; coordinating field installations and project closings; and developing and maintaining client relationships, all within project cost, time and quality standards. Material and Equipment Tracking Procurement Preparation of RFI (Request For Information) Cost/Change Management Review, price and manage all project scope and coordination changes. Ensure that all pricing is submitted in a manner that meets Adams, GC and owner standards for the project. Track and follow-up on status of open change orders. Prepare and submit WIP review with operations management team monthly progress and cost tracking reports, including \"cost to complete estimates\". These reports should be in the format specified by operations management, must be professional and accurate, and must show good management skills. Project Managers are expected to understand and be able to speak to the following monthly: Job set up – complete and correct. Contract amount and contract billings Approved and pending change orders Costs to date - correct job, correct task code Hours to date / Hours to complete, manpower projections % billed vs. contract; % of hours used vs. estimated hours; % total direct cost to date vs. total estimated cost. Purchase Orders Estimate of project completion date Review any issues with regard to open Accounts Receivable Monthly manpower projections Key schedule milestones (Underground Start, Steel Start, Permanent Power, Conditioned Air). Externally Develop relationships and build the trust of owners, owner representatives, architects, engineers, trade contractors, vendors and others who are associated with project related activities. Serves on various committees and participates in special trade-related activities and events. Qualifications BS/Construction Management or equivalent studies/experience 5-10 years of experience in Project Management with an Electrical Contractor Proven people management, process management, and performance management skills Knowledge of financial software, accounting practices, change order pricing, and billings Strong budget tracking, labor tracking, and scheduling skills Ability to review drawings for change order pricing and material procurement Proficiency in information analyzation and budget setup Strong written, communication and problem-solving skills Ability to multi-task and recollect past projects Spectrum experience a plus Estimation software a plus Experience in the electrical field a plus Leadership skills – ability to motivate other team members Functions effectively as part of a team Self-Motivated by inner goals Ability to maintain discretion and confidentiality at all times Positive can do attitude is a must Work Environment/Job Conditions This job requires frequent sitting, often working on a computer. Due to computer usage, repetitive motions of the hands, fingers and wrists may occur. He/she must be able to navigate a jobsite and is expected to be able to comply with all safety regulations in the office and on the job site. The above statements are intended to describe the general nature and level of work performed by people assigned to this classification. Required Skills – Associate Degree and/or relevant work experience within the Construction Industry may also be considered in lieu of a degree. Proficiency in Excel, Word, PowerPoint; Bluebeam Revu, estimating and scheduling software a plus. Other Duties - Please note this job description is not designed to cover or contain a comprehensive listing of activities, duties or responsibilities that are required of the employee for this job. Duties, responsibilities and activities may change at any time with or without notice.',\n",
       " 'job_type': 'Contract',\n",
       " 'job_board': 'indeed',\n",
       " 'geo': 'usa',\n",
       " 'job_post_lang': 'en',\n",
       " 'inferred_iso2_lang_code': 'en',\n",
       " 'is_remote': 'false',\n",
       " 'test1_cities': ['Durham'],\n",
       " 'test1_states': ['NC'],\n",
       " 'test1_countries': ['US'],\n",
       " 'site_name': 'indeed_usa_com_job_board_common_setup_pc_jobspikr',\n",
       " 'html_job_description': '<!DOCTYPE html PUBLIC \"-//W3C//DTD HTML 4.0 Transitional//EN\" \"http://www.w3.org/TR/REC-html40/loose.dtd\">\\n<html><body>\\n<div id=\"jobDescriptionText\" class=\"jobsearch-jobDescriptionText\">\\n<div>\\n<p><b>Company Description</b> - Adams Electric is committed to exceeding our clients expectations. We add value to our clients through our passionate team committed to achieving excellence and creating relationships built to last. We know our associates are our best asset. Therefore, we invest in our associates by providing skilled training programs and opportunities for professional growth. By creating a culture based on safety, teamwork and trust; our associates have the confidence, training and knowledge to build a successful and long-lasting career at Adams Electric.\\n</p>\\n<p><b>General Position Summary</b>\\n<br/>\\n<br/>\\nAdams Electric Company is seeking a dynamic, experienced and passionate Project Manager. Join our outstanding team of skilled project managers and our operations team to build exciting projects making an imprint on the community for future generations.\\n</p>\\n<ul>\\n<li>Accountable for the management of assigned projects including the installation, performance, profitability, and ultimately adding value to multiple projects.</li>\\n</ul>\\n<ul>\\n<li>Performs all work within an established time frame and ensures that work is done in conformance with quality work standards, projected man-hours, within established Company guidelines and regulatory compliance requirements.</li>\\n<li>Schedules, participates in and/or conducts project meetings.</li>\\n<li>Manage the project, supervisors and workers in accordance with the policies and procedures established by Adams Electric.</li>\\n<li>Collaborate with Human Resources in the recruitment of a qualified and skilled workforce</li>\\n</ul>\\n<p><b>Responsibilities -\\n</b></p>\\n<p><b>Pre-Construction</b></p>\\n<ul>\\n<li>Directly responsible for planning/preparing all contract administration, executing and directing project activities, and developing or maintaining client relationships.</li>\\n<li>Responsible for job setup including but not limited to: Creating job cost budget, creating Schedule of Values, re-estimate, review and executing subcontracts, review and executing purchase orders with accurate BOMs, etc.</li>\\n<li>Responsible for pricing and procuring subcontractor packages related to Adams scope of work. PM is responsible for ensuring that subcontractor scopes are consistent with documents (drawings, specs, bid package) and that subcontractor is capable of completing work.</li>\\n<li>Responsible for pricing and procuring major material packages (particularly Switchgear, Lighting and Commodities) related to Adams scope of work. PM is responsible for ensuring that subcontractor scopes are consistent with documents (drawings, specs, bid package) and that subcontractor is capable of completing work.\\n</li>\\n<li>Responsible for procuring, submitting and managing submittal process related to Adams scope of work.</li>\\n</ul>\\n<p><b>VDC/BIM</b></p>\\n<ul>\\n<li>General oversight for VDC/BIM related to specific project.</li>\\n<li>Work with Project Operations Manager and VDC/BIM Manager to create a VDC/BIM plan for the project including, but not limited to, layout lead, schedule for coordination and schedule for drawings.</li>\\n<li>Assist Superintendent with BIM layout efforts for prior to the project.\\n</li>\\n<li>Review drawings regularly with VDC/BIM Manager and Superintendent throughout process to ensure quality control in terms of content and constructability.\\n</li>\\n</ul>\\n<p><b>Pre-Fabrication\\n</b></p>\\n<ul>\\n<li>Work with Superintendent, Construction Resources Director and Project Operations Manager to create and maintain pre-fabrication plan for the project\\n</li>\\n<li>Work with Superintendent on managing delivery of pre-fabrication assemblies and installation schedule\\n</li>\\n<li>Constantly explore opportunities for pre-fabrication in all pieces of work\\n</li>\\n</ul>\\n<p><b>Material Management / Jobsite Logistic\\n</b></p>\\n<ul>\\n<li>Oversight and responsibility for creating and maintaining material management and logistics plan related to current project(s). This includes defining and managing each piece of the process including, but not limited to, determining material needs, ordering material, receiving material and organizing material.</li>\\n<li>Responsible for ensuring a quality control plan to ensure all material meets project specifications.</li>\\n<li>Work with Superintendent, Field Operations Manager and Project Operations Manager to develop materials management and jobsite logistic plan prior to the project starting</li>\\n<li>Work with Superintendent, Field Operations Manager and Project Operations Manager and Vendor Partners to implement plan and adjust plan throughout the course of the job.</li>\\n<li>Responsible for procuring, managing and maintaining equipment on project including, but not limited to, company vehicles, equipment rentals, company tools and leased tools</li>\\n</ul>\\n<p><b>Scheduling</b></p>\\n<ul>\\n<li>Oversight and responsibility for creating and maintaining schedule related to current project(s). This includes organization of current crews and manpower projections throughout the project.\\n</li>\\n<li>Work with Superintendent, Field Operations Manager and Project Operations Manager to develop field organization chart for project</li>\\n<li>Work with Superintendent and Field Operation Manager to update schedule and manpower projection weekly.\\n</li>\\n</ul>\\n<p><b>Subcontractor Management\\n</b></p>\\n<ul>\\n<li>General oversight of all subcontractor s scope of work</li>\\n<li>Responsibility for ensuring all submittal deliverables are completed in a timely manner</li>\\n<li>Responsible for monitoring subcontractor s manpower to meet project schedule</li>\\n<li>Responsible for ensuring all subcontractor work is being executed to meet all project requirements</li>\\n<li>Responsible for managing the billing process for individual subcontractors</li>\\n</ul>\\n<p><b>Safety</b></p>\\n<ul>\\n<li>Work with Superintendent to create and maintain Safety plan related to current project(s). This includes defining and managing each piece of the process including, but not limited to, daily reports, PPE management, accident management, etc.</li>\\n<li>Work with Superintendent Onsite Safety Manager to develop safety plan specific to project</li>\\n<li>Work with Superintendent, Field Operation Manager, Onsite Safety Manager, Foreman\\'s to ensure that project is adhering to both the project-specific safety plan and Adams Electric company standards.</li>\\n</ul>\\n<p><b>Quality Control</b></p>\\n<ul>\\n<li>Work with Project Superintendent to create and maintain QA/QC plan related to current project(s). This includes defining and managing each piece of the process including, but not limited to, specification and code compliance, internal punch list management, general contractor punch list management and owner/design team punch list management</li>\\n<li>Work with Project Superintendent and Onsite QA/QC Manager to develop QA/QC plan for a project</li>\\n<li>Work with Project Superintendent, Field Operation Manager and QA/QC manager to ensure that project is adhering to both project specific QA/QC plan and Adams Electric company standards, testing and documentation</li>\\n</ul>\\n<ul>\\n<li>Responsible for reviewing and analyzing project documents; plans and specifications; directing construction activities; resolving construction challenges; coordinating field installations and project closings; and developing and maintaining client relationships, all within project cost, time and quality standards.</li>\\n<ul>\\n<li>Material and Equipment Tracking Procurement</li>\\n<li>Preparation of RFI (Request For Information)</li>\\n</ul>\\n</ul>\\n<p><b>Cost/Change Management</b></p>\\n<ul>\\n<li>Review, price and manage all project scope and coordination changes. Ensure that all pricing is submitted in a manner that meets Adams, GC and owner standards for the project.\\n</li>\\n<li>Track and follow-up on status of open change orders.\\n</li>\\n<li>Prepare and submit WIP review with operations management team monthly progress and cost tracking reports, including \"cost to complete estimates\". These reports should be in the format specified by operations management, must be professional and accurate, and must show good management skills.</li>\\n<li>Project Managers are expected to understand and be able to speak to the following monthly:</li>\\n<ul>\\n<li>Job set up – complete and correct.</li>\\n<li>Contract amount and contract billings</li>\\n<li>Approved and pending change orders</li>\\n<li>Costs to date - correct job, correct task code</li>\\n<li>Hours to date / Hours to complete, manpower projections</li>\\n<li>% billed vs. contract; % of hours used vs. estimated hours; % total direct cost to date vs. total estimated cost.\\n</li>\\n<li>Purchase Orders\\n</li>\\n<li>Estimate of project completion date</li>\\n<li>Review any issues with regard to open Accounts Receivable</li>\\n<li>Monthly manpower projections</li>\\n<li>Key schedule milestones (Underground Start, Steel Start, Permanent Power, Conditioned Air).</li>\\n</ul>\\n</ul>\\n<p><b>Externally</b></p>\\n<ul>\\n<li>Develop relationships and build the trust of owners, owner representatives, architects, engineers, trade contractors, vendors and others who are associated with project related activities.</li>\\n<li>Serves on various committees and participates in special trade-related activities and events.</li>\\n</ul>\\n<p><b>Qualifications</b></p>\\n<ul>\\n<li>BS/Construction Management or equivalent studies/experience</li>\\n<li>5-10 years of experience in Project Management with an Electrical Contractor\\n</li>\\n<li>Proven people management, process management, and performance management skills</li>\\n<li>Knowledge of financial software, accounting practices, change order pricing, and billings</li>\\n<li>Strong budget tracking, labor tracking, and scheduling skills</li>\\n<li>Ability to review drawings for change order pricing and material procurement</li>\\n<li>Proficiency in information analyzation and budget setup</li>\\n<li>Strong written, communication and problem-solving skills\\n</li>\\n<li>Ability to multi-task and recollect past projects</li>\\n<li>Spectrum experience a plus</li>\\n<li>Estimation software a plus</li>\\n<li>Experience in the electrical field a plus</li>\\n<li>Leadership skills – ability to motivate other team members\\n<ul>\\n<li>Functions effectively as part of a team\\n</li>\\n<li>Self-Motivated by inner goals</li>\\n<li>Ability to maintain discretion and confidentiality at all times\\n</li>\\n<li>Positive can do attitude is a must<br/>\\n</li>\\n</ul>\\n</li>\\n</ul>\\n<p><br/>\\n<b>Work Environment/Job Conditions</b>\\n<br/>\\n<br/>\\nThis job requires frequent sitting, often working on a computer. Due to computer usage, repetitive motions of the hands, fingers and wrists may occur.\\n<br/>\\n<br/>\\nHe/she must be able to navigate a jobsite and is expected to be able to comply with all safety regulations in the office and on the job site.\\n<br/>\\n<br/>\\nThe above statements are intended to describe the general nature and level of work performed by people assigned to this classification.\\n</p>\\n<p><b>Required Skills –</b> Associate Degree and/or relevant work experience within the Construction Industry may also be considered in lieu of a degree. Proficiency in Excel, Word, PowerPoint; Bluebeam Revu, estimating and scheduling software a plus.</p>\\n<p><b>\\nOther Duties - </b>Please note this job description is not designed to cover or contain a comprehensive listing of activities, duties or responsibilities that are required of the employee for this job. Duties, responsibilities and activities may change at any time with or without notice.</p>\\n</div>\\n<p/>\\n</div></body></html>',\n",
       " 'domain': 'indeed_com',\n",
       " 'postdate_yyyymmdd': '20211224',\n",
       " 'predicted_language': 'en',\n",
       " 'inferred_iso3_lang_code': 'eng',\n",
       " 'test1_inferred_city': ['Durham'],\n",
       " 'test1_inferred_state': ['North carolina'],\n",
       " 'test1_inferred_country': ['United states'],\n",
       " 'inferred_city': 'Durham',\n",
       " 'inferred_state': 'North carolina',\n",
       " 'inferred_country': 'United states',\n",
       " 'has_expired': 'false',\n",
       " 'last_expiry_check_date': '2021.12.24',\n",
       " 'latest_expiry_check_date': '2021-12-24',\n",
       " 'dataset': ['job_board'],\n",
       " 'postdate_in_indexname_format': '2021.12.22',\n",
       " 'segment_name': 'indeed_usa_com_job_board_common_setup_pc_jobspikr-20211224_150456223250078__20211222190134',\n",
       " 'duplicate_status': 'NA',\n",
       " 'job_desc_char_count': 10284,\n",
       " 'ijp_reprocessed_flag_1': '2021-12-24',\n",
       " 'ijp_reprocessed_flag_2': '2021-12-24',\n",
       " 'ijp_reprocessed_flag_3': '2021-12-24',\n",
       " 'fitness_score': 10}"
      ]
     },
     "execution_count": 75,
     "metadata": {},
     "output_type": "execute_result"
    }
   ],
   "source": [
    "lst_dics = []\n",
    "with open(path_str1, mode='r', errors='ignore', encoding=\"utf8\") as json_file:\n",
    "    for dic in json_file:\n",
    "        lst_dics.append( json.loads(dic) )\n",
    "## print the first one      \n",
    "lst_dics[0]"
   ]
  },
  {
   "cell_type": "code",
   "execution_count": 76,
   "id": "05bd1e49",
   "metadata": {
    "pycharm": {
     "name": "#%%\n"
    }
   },
   "outputs": [],
   "source": [
    "dtf1 = pd.DataFrame(lst_dics)"
   ]
  },
  {
   "cell_type": "code",
   "execution_count": 68,
   "id": "58fa5c20",
   "metadata": {
    "pycharm": {
     "name": "#%%\n"
    }
   },
   "outputs": [],
   "source": [
    "dtf = pd.DataFrame(lst_dics)"
   ]
  },
  {
   "cell_type": "code",
   "execution_count": 90,
   "id": "075d718e",
   "metadata": {
    "pycharm": {
     "name": "#%%\n"
    }
   },
   "outputs": [],
   "source": [
    "both_dtf = pd.concat([dtf1[['job_title', 'job_description']],dtf[['job_title', 'job_description']]]).rename(columns = {'job_title':'title','job_description':'description'})"
   ]
  },
  {
   "cell_type": "code",
   "execution_count": 91,
   "id": "7b709547",
   "metadata": {
    "pycharm": {
     "name": "#%%\n"
    }
   },
   "outputs": [
    {
     "data": {
      "text/html": [
       "<div>\n",
       "<style scoped>\n",
       "    .dataframe tbody tr th:only-of-type {\n",
       "        vertical-align: middle;\n",
       "    }\n",
       "\n",
       "    .dataframe tbody tr th {\n",
       "        vertical-align: top;\n",
       "    }\n",
       "\n",
       "    .dataframe thead th {\n",
       "        text-align: right;\n",
       "    }\n",
       "</style>\n",
       "<table border=\"1\" class=\"dataframe\">\n",
       "  <thead>\n",
       "    <tr style=\"text-align: right;\">\n",
       "      <th></th>\n",
       "      <th>title</th>\n",
       "      <th>description</th>\n",
       "    </tr>\n",
       "  </thead>\n",
       "  <tbody>\n",
       "    <tr>\n",
       "      <th>0</th>\n",
       "      <td>Electrical Construction Project Manager</td>\n",
       "      <td>Company Description - Adams Electric is commit...</td>\n",
       "    </tr>\n",
       "    <tr>\n",
       "      <th>1</th>\n",
       "      <td>Laundry Attendant</td>\n",
       "      <td>Job Summary: Información disponible en español...</td>\n",
       "    </tr>\n",
       "    <tr>\n",
       "      <th>2</th>\n",
       "      <td>Professional Organizer</td>\n",
       "      <td>Our team is seeking an expert in the field of ...</td>\n",
       "    </tr>\n",
       "    <tr>\n",
       "      <th>3</th>\n",
       "      <td>Construction Estimator</td>\n",
       "      <td>CDI Contractors, LLC is a progressive construc...</td>\n",
       "    </tr>\n",
       "    <tr>\n",
       "      <th>4</th>\n",
       "      <td>Dishwasher</td>\n",
       "      <td>Are you looking for an opportunity and growth ...</td>\n",
       "    </tr>\n",
       "    <tr>\n",
       "      <th>...</th>\n",
       "      <td>...</td>\n",
       "      <td>...</td>\n",
       "    </tr>\n",
       "    <tr>\n",
       "      <th>49995</th>\n",
       "      <td>Biomedical Technician 1 Chicago IL</td>\n",
       "      <td>Job Description Summary As the Biomed Technici...</td>\n",
       "    </tr>\n",
       "    <tr>\n",
       "      <th>49996</th>\n",
       "      <td>Marketing Assistant</td>\n",
       "      <td>Sports Facilities Management, LLC- Cornerstone...</td>\n",
       "    </tr>\n",
       "    <tr>\n",
       "      <th>49997</th>\n",
       "      <td>Core Supervisor</td>\n",
       "      <td>We are looking for a Core Supervisor 40 hours ...</td>\n",
       "    </tr>\n",
       "    <tr>\n",
       "      <th>49998</th>\n",
       "      <td>Stores Supervisor</td>\n",
       "      <td>We are LAUSD. We are at the forefront of innov...</td>\n",
       "    </tr>\n",
       "    <tr>\n",
       "      <th>49999</th>\n",
       "      <td>Electrician</td>\n",
       "      <td>Facilities Maintenance – Virginia Beach, VA Th...</td>\n",
       "    </tr>\n",
       "  </tbody>\n",
       "</table>\n",
       "<p>100000 rows × 2 columns</p>\n",
       "</div>"
      ],
      "text/plain": [
       "                                         title  \\\n",
       "0      Electrical Construction Project Manager   \n",
       "1                            Laundry Attendant   \n",
       "2                       Professional Organizer   \n",
       "3                       Construction Estimator   \n",
       "4                                   Dishwasher   \n",
       "...                                        ...   \n",
       "49995       Biomedical Technician 1 Chicago IL   \n",
       "49996                      Marketing Assistant   \n",
       "49997                          Core Supervisor   \n",
       "49998                        Stores Supervisor   \n",
       "49999                              Electrician   \n",
       "\n",
       "                                             description  \n",
       "0      Company Description - Adams Electric is commit...  \n",
       "1      Job Summary: Información disponible en español...  \n",
       "2      Our team is seeking an expert in the field of ...  \n",
       "3      CDI Contractors, LLC is a progressive construc...  \n",
       "4      Are you looking for an opportunity and growth ...  \n",
       "...                                                  ...  \n",
       "49995  Job Description Summary As the Biomed Technici...  \n",
       "49996  Sports Facilities Management, LLC- Cornerstone...  \n",
       "49997  We are looking for a Core Supervisor 40 hours ...  \n",
       "49998  We are LAUSD. We are at the forefront of innov...  \n",
       "49999  Facilities Maintenance – Virginia Beach, VA Th...  \n",
       "\n",
       "[100000 rows x 2 columns]"
      ]
     },
     "execution_count": 91,
     "metadata": {},
     "output_type": "execute_result"
    }
   ],
   "source": [
    "both_dtf"
   ]
  },
  {
   "cell_type": "code",
   "execution_count": 97,
   "id": "d17a1a2b",
   "metadata": {
    "pycharm": {
     "name": "#%%\n"
    }
   },
   "outputs": [],
   "source": [
    "data = pd.concat([data[['title', 'description']],both_dtf])"
   ]
  },
  {
   "cell_type": "code",
   "execution_count": 99,
   "id": "62c089c2",
   "metadata": {
    "pycharm": {
     "name": "#%%\n"
    }
   },
   "outputs": [
    {
     "data": {
      "text/html": [
       "<div>\n",
       "<style scoped>\n",
       "    .dataframe tbody tr th:only-of-type {\n",
       "        vertical-align: middle;\n",
       "    }\n",
       "\n",
       "    .dataframe tbody tr th {\n",
       "        vertical-align: top;\n",
       "    }\n",
       "\n",
       "    .dataframe thead th {\n",
       "        text-align: right;\n",
       "    }\n",
       "</style>\n",
       "<table border=\"1\" class=\"dataframe\">\n",
       "  <thead>\n",
       "    <tr style=\"text-align: right;\">\n",
       "      <th></th>\n",
       "      <th>title</th>\n",
       "      <th>description</th>\n",
       "    </tr>\n",
       "  </thead>\n",
       "  <tbody>\n",
       "    <tr>\n",
       "      <th>0</th>\n",
       "      <td>software development manager</td>\n",
       "      <td>You are an experienced hands-on manager with a...</td>\n",
       "    </tr>\n",
       "    <tr>\n",
       "      <th>1</th>\n",
       "      <td>software development engineer</td>\n",
       "      <td>Amazon is driven by being “the world’s most cu...</td>\n",
       "    </tr>\n",
       "    <tr>\n",
       "      <th>2</th>\n",
       "      <td>software development engineer</td>\n",
       "      <td>Have you ever wondered what it takes to build ...</td>\n",
       "    </tr>\n",
       "    <tr>\n",
       "      <th>3</th>\n",
       "      <td>quality assurance engineer</td>\n",
       "      <td>Fire TV client software and service technologi...</td>\n",
       "    </tr>\n",
       "    <tr>\n",
       "      <th>4</th>\n",
       "      <td>software development engineer</td>\n",
       "      <td>The Amazon Devices team designs and engineers ...</td>\n",
       "    </tr>\n",
       "    <tr>\n",
       "      <th>...</th>\n",
       "      <td>...</td>\n",
       "      <td>...</td>\n",
       "    </tr>\n",
       "    <tr>\n",
       "      <th>49995</th>\n",
       "      <td>Biomedical Technician 1 Chicago IL</td>\n",
       "      <td>Job Description Summary As the Biomed Technici...</td>\n",
       "    </tr>\n",
       "    <tr>\n",
       "      <th>49996</th>\n",
       "      <td>Marketing Assistant</td>\n",
       "      <td>Sports Facilities Management, LLC- Cornerstone...</td>\n",
       "    </tr>\n",
       "    <tr>\n",
       "      <th>49997</th>\n",
       "      <td>Core Supervisor</td>\n",
       "      <td>We are looking for a Core Supervisor 40 hours ...</td>\n",
       "    </tr>\n",
       "    <tr>\n",
       "      <th>49998</th>\n",
       "      <td>Stores Supervisor</td>\n",
       "      <td>We are LAUSD. We are at the forefront of innov...</td>\n",
       "    </tr>\n",
       "    <tr>\n",
       "      <th>49999</th>\n",
       "      <td>Electrician</td>\n",
       "      <td>Facilities Maintenance – Virginia Beach, VA Th...</td>\n",
       "    </tr>\n",
       "  </tbody>\n",
       "</table>\n",
       "<p>132871 rows × 2 columns</p>\n",
       "</div>"
      ],
      "text/plain": [
       "                                    title  \\\n",
       "0            software development manager   \n",
       "1           software development engineer   \n",
       "2           software development engineer   \n",
       "3              quality assurance engineer   \n",
       "4           software development engineer   \n",
       "...                                   ...   \n",
       "49995  Biomedical Technician 1 Chicago IL   \n",
       "49996                 Marketing Assistant   \n",
       "49997                     Core Supervisor   \n",
       "49998                   Stores Supervisor   \n",
       "49999                         Electrician   \n",
       "\n",
       "                                             description  \n",
       "0      You are an experienced hands-on manager with a...  \n",
       "1      Amazon is driven by being “the world’s most cu...  \n",
       "2      Have you ever wondered what it takes to build ...  \n",
       "3      Fire TV client software and service technologi...  \n",
       "4      The Amazon Devices team designs and engineers ...  \n",
       "...                                                  ...  \n",
       "49995  Job Description Summary As the Biomed Technici...  \n",
       "49996  Sports Facilities Management, LLC- Cornerstone...  \n",
       "49997  We are looking for a Core Supervisor 40 hours ...  \n",
       "49998  We are LAUSD. We are at the forefront of innov...  \n",
       "49999  Facilities Maintenance – Virginia Beach, VA Th...  \n",
       "\n",
       "[132871 rows x 2 columns]"
      ]
     },
     "execution_count": 99,
     "metadata": {},
     "output_type": "execute_result"
    }
   ],
   "source": [
    "data"
   ]
  },
  {
   "cell_type": "code",
   "execution_count": null,
   "id": "181bdfa4",
   "metadata": {
    "pycharm": {
     "name": "#%%\n"
    }
   },
   "outputs": [],
   "source": []
  },
  {
   "cell_type": "code",
   "execution_count": null,
   "id": "276df2de",
   "metadata": {
    "pycharm": {
     "name": "#%%\n"
    }
   },
   "outputs": [],
   "source": []
  },
  {
   "cell_type": "markdown",
   "id": "d3e64832",
   "metadata": {
    "pycharm": {
     "name": "#%% md\n"
    }
   },
   "source": [
    " - Prepare Dataset\n",
    " - Split Dataset into 3 (train/test/dev)\n",
    " - Create a Corpus & Label Dictionary + Embeding\n",
    " - Build ML & Train & Save as pt\n",
    " - Load ML & Predict"
   ]
  },
  {
   "cell_type": "code",
   "execution_count": 135,
   "id": "a8d75773",
   "metadata": {
    "pycharm": {
     "name": "#%%\n"
    }
   },
   "outputs": [],
   "source": [
    "import flair"
   ]
  },
  {
   "cell_type": "code",
   "execution_count": 179,
   "id": "0b438477",
   "metadata": {
    "pycharm": {
     "name": "#%%\n"
    }
   },
   "outputs": [
    {
     "data": {
      "text/plain": [
       "'0.11.3'"
      ]
     },
     "execution_count": 179,
     "metadata": {},
     "output_type": "execute_result"
    }
   ],
   "source": [
    "flair.__version__"
   ]
  },
  {
   "cell_type": "markdown",
   "id": "51078840",
   "metadata": {
    "pycharm": {
     "name": "#%% md\n"
    }
   },
   "source": [
    "### Prepare Dataset"
   ]
  },
  {
   "cell_type": "code",
   "execution_count": 149,
   "id": "1328a254",
   "metadata": {
    "pycharm": {
     "name": "#%%\n"
    }
   },
   "outputs": [],
   "source": [
    "flair_data = pd.read_csv(r'C:\\Users\\annch\\PycharmProjects\\jobTitlePrediction\\media\\output\\result.csv', index_col=[0])"
   ]
  },
  {
   "cell_type": "code",
   "execution_count": 150,
   "id": "e8aa9e78",
   "metadata": {
    "pycharm": {
     "name": "#%%\n"
    }
   },
   "outputs": [],
   "source": [
    "unique_categories = flair_data.title_clean.unique()\n",
    "dict_map = dict(zip(unique_categories, range(len(unique_categories))))\n",
    "flair_data[\"title_index\"] = flair_data.title_clean.map(dict_map)"
   ]
  },
  {
   "cell_type": "code",
   "execution_count": 155,
   "id": "c826f4e5",
   "metadata": {
    "pycharm": {
     "name": "#%%\n"
    }
   },
   "outputs": [],
   "source": [
    "# flair_data = flair_data[flair_data.duplicated(subset=['title_index'], keep=False)]"
   ]
  },
  {
   "cell_type": "code",
   "execution_count": 158,
   "id": "65405e30",
   "metadata": {
    "pycharm": {
     "name": "#%%\n"
    }
   },
   "outputs": [],
   "source": [
    "flair_data['title_clean'] = '__label__'+flair_data['title_clean']"
   ]
  },
  {
   "cell_type": "code",
   "execution_count": 160,
   "id": "9d1030b9",
   "metadata": {
    "pycharm": {
     "name": "#%%\n"
    }
   },
   "outputs": [],
   "source": [
    "flair_data = flair_data[['description_clean','title_clean']]"
   ]
  },
  {
   "cell_type": "markdown",
   "id": "5efeba27",
   "metadata": {
    "pycharm": {
     "name": "#%% md\n"
    }
   },
   "source": [
    "### Split Dataset into 3 (train/test/dev) and save"
   ]
  },
  {
   "cell_type": "code",
   "execution_count": 162,
   "id": "e9f404bc",
   "metadata": {
    "pycharm": {
     "name": "#%%\n"
    }
   },
   "outputs": [],
   "source": [
    "train_fst, test_fst, dev_fst = np.split(flair_data, [int(.6*len(flair_data)), int(.8*len(flair_data))])"
   ]
  },
  {
   "cell_type": "code",
   "execution_count": 164,
   "id": "885c0795",
   "metadata": {
    "pycharm": {
     "name": "#%%\n"
    }
   },
   "outputs": [],
   "source": [
    "train_fst.to_csv('data_fst/train.csv', sep='\\t', index=False, header=False)\n",
    "test_fst.to_csv('data_fst/test.csv', sep='\\t', index=False, header=False)\n",
    "dev_fst.to_csv('data_fst/dev.csv', sep='\\t', index=False, header=False)"
   ]
  },
  {
   "cell_type": "code",
   "execution_count": 169,
   "id": "1d111f80",
   "metadata": {
    "pycharm": {
     "name": "#%%\n"
    }
   },
   "outputs": [
    {
     "name": "stdout",
     "output_type": "stream",
     "text": [
      " Volume in drive C has no label.\n",
      " Volume Serial Number is 60AB-5A5B\n",
      "\n",
      " Directory of C:\\Users\\annch\\data_fst\n",
      "\n",
      "08/07/2022  02:23 AM    <DIR>          .\n",
      "08/07/2022  02:23 AM    <DIR>          ..\n",
      "08/07/2022  02:23 AM        79,721,130 dev.csv\n",
      "08/07/2022  02:23 AM        78,177,515 test.csv\n",
      "08/07/2022  02:23 AM       203,845,796 train.csv\n",
      "               3 File(s)    361,744,441 bytes\n",
      "               2 Dir(s)  129,908,961,280 bytes free\n"
     ]
    }
   ],
   "source": [
    "!dir data_fst"
   ]
  },
  {
   "cell_type": "markdown",
   "id": "18414f1e",
   "metadata": {
    "pycharm": {
     "name": "#%% md\n"
    }
   },
   "source": [
    "### Create a Corpus & Label Dictionary + Embeding\n",
    "Building our Corpus<br>\n",
    "CSVClassificationCorpus<br>\n",
    "ClassificationCorpus<br>"
   ]
  },
  {
   "cell_type": "code",
   "execution_count": 172,
   "id": "5fe81809",
   "metadata": {
    "pycharm": {
     "name": "#%%\n"
    }
   },
   "outputs": [
    {
     "data": {
      "text/html": [
       "<div>\n",
       "<style scoped>\n",
       "    .dataframe tbody tr th:only-of-type {\n",
       "        vertical-align: middle;\n",
       "    }\n",
       "\n",
       "    .dataframe tbody tr th {\n",
       "        vertical-align: top;\n",
       "    }\n",
       "\n",
       "    .dataframe thead th {\n",
       "        text-align: right;\n",
       "    }\n",
       "</style>\n",
       "<table border=\"1\" class=\"dataframe\">\n",
       "  <thead>\n",
       "    <tr style=\"text-align: right;\">\n",
       "      <th></th>\n",
       "      <th>description_clean</th>\n",
       "      <th>title_clean</th>\n",
       "    </tr>\n",
       "  </thead>\n",
       "  <tbody>\n",
       "    <tr>\n",
       "      <th>0</th>\n",
       "      <td>experienced handson manager background develop...</td>\n",
       "      <td>__label__software development manager</td>\n",
       "    </tr>\n",
       "    <tr>\n",
       "      <th>1</th>\n",
       "      <td>amazon driven worlds customer centric company ...</td>\n",
       "      <td>__label__software development engineer</td>\n",
       "    </tr>\n",
       "    <tr>\n",
       "      <th>2</th>\n",
       "      <td>wondered takes build intelligence enterprise s...</td>\n",
       "      <td>__label__software development engineer</td>\n",
       "    </tr>\n",
       "    <tr>\n",
       "      <th>3</th>\n",
       "      <td>tv client software service technologies enjoye...</td>\n",
       "      <td>__label__quality assurance engineer</td>\n",
       "    </tr>\n",
       "    <tr>\n",
       "      <th>4</th>\n",
       "      <td>amazon devices team designs engineers highprof...</td>\n",
       "      <td>__label__software development engineer</td>\n",
       "    </tr>\n",
       "    <tr>\n",
       "      <th>...</th>\n",
       "      <td>...</td>\n",
       "      <td>...</td>\n",
       "    </tr>\n",
       "    <tr>\n",
       "      <th>49995</th>\n",
       "      <td>job description summary biomed technician resp...</td>\n",
       "      <td>__label__biomedical technician 1 chicago il</td>\n",
       "    </tr>\n",
       "    <tr>\n",
       "      <th>49996</th>\n",
       "      <td>sports facilities management llc cornerstone p...</td>\n",
       "      <td>__label__marketing assistant</td>\n",
       "    </tr>\n",
       "    <tr>\n",
       "      <th>49997</th>\n",
       "      <td>core supervisor 40 hours week peoria il locati...</td>\n",
       "      <td>__label__core supervisor</td>\n",
       "    </tr>\n",
       "    <tr>\n",
       "      <th>49998</th>\n",
       "      <td>lausd forefront innovation public schools work...</td>\n",
       "      <td>__label__stores supervisor</td>\n",
       "    </tr>\n",
       "    <tr>\n",
       "      <th>49999</th>\n",
       "      <td>facilities maintenance virginia beach va chris...</td>\n",
       "      <td>__label__electrician</td>\n",
       "    </tr>\n",
       "  </tbody>\n",
       "</table>\n",
       "<p>149279 rows × 2 columns</p>\n",
       "</div>"
      ],
      "text/plain": [
       "                                       description_clean  \\\n",
       "0      experienced handson manager background develop...   \n",
       "1      amazon driven worlds customer centric company ...   \n",
       "2      wondered takes build intelligence enterprise s...   \n",
       "3      tv client software service technologies enjoye...   \n",
       "4      amazon devices team designs engineers highprof...   \n",
       "...                                                  ...   \n",
       "49995  job description summary biomed technician resp...   \n",
       "49996  sports facilities management llc cornerstone p...   \n",
       "49997  core supervisor 40 hours week peoria il locati...   \n",
       "49998  lausd forefront innovation public schools work...   \n",
       "49999  facilities maintenance virginia beach va chris...   \n",
       "\n",
       "                                       title_clean  \n",
       "0            __label__software development manager  \n",
       "1           __label__software development engineer  \n",
       "2           __label__software development engineer  \n",
       "3              __label__quality assurance engineer  \n",
       "4           __label__software development engineer  \n",
       "...                                            ...  \n",
       "49995  __label__biomedical technician 1 chicago il  \n",
       "49996                 __label__marketing assistant  \n",
       "49997                     __label__core supervisor  \n",
       "49998                   __label__stores supervisor  \n",
       "49999                         __label__electrician  \n",
       "\n",
       "[149279 rows x 2 columns]"
      ]
     },
     "execution_count": 172,
     "metadata": {},
     "output_type": "execute_result"
    }
   ],
   "source": [
    "flair_data"
   ]
  },
  {
   "cell_type": "code",
   "execution_count": 171,
   "id": "8c2ba5f6",
   "metadata": {
    "pycharm": {
     "name": "#%%\n"
    }
   },
   "outputs": [],
   "source": [
    "from flair.datasets import ClassificationCorpus, CSVClassificationCorpus\n",
    "from flair.data import Corpus"
   ]
  },
  {
   "cell_type": "code",
   "execution_count": 173,
   "id": "3a5b7fef",
   "metadata": {
    "pycharm": {
     "name": "#%%\n"
    }
   },
   "outputs": [],
   "source": [
    "column_name_map = {2:'title_clean', 1: \"description_clean\"}"
   ]
  },
  {
   "cell_type": "code",
   "execution_count": 178,
   "id": "c91960c4",
   "metadata": {
    "pycharm": {
     "name": "#%%\n"
    }
   },
   "outputs": [
    {
     "name": "stdout",
     "output_type": "stream",
     "text": [
      "2022-08-07 02:34:59,301 Reading data from data_fst\n",
      "2022-08-07 02:34:59,309 Train: data_fst\\train.csv\n",
      "2022-08-07 02:34:59,309 Dev: data_fst\\dev.csv\n",
      "2022-08-07 02:34:59,309 Test: data_fst\\test.csv\n"
     ]
    },
    {
     "ename": "RuntimeError",
     "evalue": "No data provided when initializing corpus object.",
     "output_type": "error",
     "traceback": [
      "\u001B[1;31m---------------------------------------------------------------------------\u001B[0m",
      "\u001B[1;31mRuntimeError\u001B[0m                              Traceback (most recent call last)",
      "Input \u001B[1;32mIn [178]\u001B[0m, in \u001B[0;36m<cell line: 3>\u001B[1;34m()\u001B[0m\n\u001B[0;32m      1\u001B[0m \u001B[38;5;66;03m# Create Corpus for CSV\u001B[39;00m\n\u001B[0;32m      2\u001B[0m data_folder \u001B[38;5;241m=\u001B[39m \u001B[38;5;124m'\u001B[39m\u001B[38;5;124mdata_fst/\u001B[39m\u001B[38;5;124m'\u001B[39m\n\u001B[1;32m----> 3\u001B[0m corpus_csv: Corpus \u001B[38;5;241m=\u001B[39m \u001B[43mCSVClassificationCorpus\u001B[49m\u001B[43m(\u001B[49m\u001B[43mdata_folder\u001B[49m\u001B[38;5;241;43m=\u001B[39;49m\u001B[43mdata_folder\u001B[49m\u001B[43m,\u001B[49m\u001B[43m \u001B[49m\u001B[43mlabel_type\u001B[49m\u001B[38;5;241;43m=\u001B[39;49m\u001B[38;5;124;43m'\u001B[39;49m\u001B[38;5;124;43mtitle_clean\u001B[39;49m\u001B[38;5;124;43m'\u001B[39;49m\u001B[43m,\u001B[49m\u001B[43m \u001B[49m\u001B[43mcolumn_name_map\u001B[49m\u001B[38;5;241;43m=\u001B[39;49m\u001B[43mcolumn_name_map\u001B[49m\u001B[43m,\u001B[49m\u001B[43m \u001B[49m\u001B[43mskip_header\u001B[49m\u001B[38;5;241;43m=\u001B[39;49m\u001B[38;5;28;43;01mTrue\u001B[39;49;00m\u001B[43m,\u001B[49m\u001B[43m \u001B[49m\u001B[43mdelimiter\u001B[49m\u001B[38;5;241;43m=\u001B[39;49m\u001B[38;5;124;43m'\u001B[39;49m\u001B[38;5;124;43m,\u001B[39;49m\u001B[38;5;124;43m'\u001B[39;49m\u001B[43m)\u001B[49m\n",
      "File \u001B[1;32m~\\anaconda3\\lib\\site-packages\\flair\\datasets\\document_classification.py:412\u001B[0m, in \u001B[0;36mCSVClassificationCorpus.__init__\u001B[1;34m(self, data_folder, column_name_map, label_type, train_file, test_file, dev_file, max_tokens_per_doc, max_chars_per_doc, tokenizer, in_memory, skip_header, encoding, no_class_label, **fmtparams)\u001B[0m\n\u001B[0;32m    376\u001B[0m test \u001B[38;5;241m=\u001B[39m (\n\u001B[0;32m    377\u001B[0m     CSVClassificationDataset(\n\u001B[0;32m    378\u001B[0m         test_file,\n\u001B[1;32m   (...)\u001B[0m\n\u001B[0;32m    391\u001B[0m     \u001B[38;5;28;01melse\u001B[39;00m \u001B[38;5;28;01mNone\u001B[39;00m\n\u001B[0;32m    392\u001B[0m )\n\u001B[0;32m    394\u001B[0m dev \u001B[38;5;241m=\u001B[39m (\n\u001B[0;32m    395\u001B[0m     CSVClassificationDataset(\n\u001B[0;32m    396\u001B[0m         dev_file,\n\u001B[1;32m   (...)\u001B[0m\n\u001B[0;32m    409\u001B[0m     \u001B[38;5;28;01melse\u001B[39;00m \u001B[38;5;28;01mNone\u001B[39;00m\n\u001B[0;32m    410\u001B[0m )\n\u001B[1;32m--> 412\u001B[0m \u001B[38;5;28;43msuper\u001B[39;49m\u001B[43m(\u001B[49m\u001B[43mCSVClassificationCorpus\u001B[49m\u001B[43m,\u001B[49m\u001B[43m \u001B[49m\u001B[38;5;28;43mself\u001B[39;49m\u001B[43m)\u001B[49m\u001B[38;5;241;43m.\u001B[39;49m\u001B[38;5;21;43m__init__\u001B[39;49m\u001B[43m(\u001B[49m\u001B[43mtrain\u001B[49m\u001B[43m,\u001B[49m\u001B[43m \u001B[49m\u001B[43mdev\u001B[49m\u001B[43m,\u001B[49m\u001B[43m \u001B[49m\u001B[43mtest\u001B[49m\u001B[43m,\u001B[49m\u001B[43m \u001B[49m\u001B[43mname\u001B[49m\u001B[38;5;241;43m=\u001B[39;49m\u001B[38;5;28;43mstr\u001B[39;49m\u001B[43m(\u001B[49m\u001B[43mdata_folder\u001B[49m\u001B[43m)\u001B[49m\u001B[43m)\u001B[49m\n",
      "File \u001B[1;32m~\\anaconda3\\lib\\site-packages\\flair\\data.py:1209\u001B[0m, in \u001B[0;36mCorpus.__init__\u001B[1;34m(self, train, dev, test, name, sample_missing_splits)\u001B[0m\n\u001B[0;32m   1207\u001B[0m \u001B[38;5;66;03m# abort if no data is provided\u001B[39;00m\n\u001B[0;32m   1208\u001B[0m \u001B[38;5;28;01mif\u001B[39;00m \u001B[38;5;129;01mnot\u001B[39;00m train \u001B[38;5;129;01mand\u001B[39;00m \u001B[38;5;129;01mnot\u001B[39;00m dev \u001B[38;5;129;01mand\u001B[39;00m \u001B[38;5;129;01mnot\u001B[39;00m test:\n\u001B[1;32m-> 1209\u001B[0m     \u001B[38;5;28;01mraise\u001B[39;00m \u001B[38;5;167;01mRuntimeError\u001B[39;00m(\u001B[38;5;124m\"\u001B[39m\u001B[38;5;124mNo data provided when initializing corpus object.\u001B[39m\u001B[38;5;124m\"\u001B[39m)\n\u001B[0;32m   1211\u001B[0m \u001B[38;5;66;03m# sample test data from train if none is provided\u001B[39;00m\n\u001B[0;32m   1212\u001B[0m \u001B[38;5;28;01mif\u001B[39;00m test \u001B[38;5;129;01mis\u001B[39;00m \u001B[38;5;28;01mNone\u001B[39;00m \u001B[38;5;129;01mand\u001B[39;00m sample_missing_splits \u001B[38;5;129;01mand\u001B[39;00m train \u001B[38;5;129;01mand\u001B[39;00m \u001B[38;5;129;01mnot\u001B[39;00m sample_missing_splits \u001B[38;5;241m==\u001B[39m \u001B[38;5;124m\"\u001B[39m\u001B[38;5;124monly_dev\u001B[39m\u001B[38;5;124m\"\u001B[39m:\n",
      "\u001B[1;31mRuntimeError\u001B[0m: No data provided when initializing corpus object."
     ]
    }
   ],
   "source": [
    "# Create Corpus for CSV\n",
    "data_folder = 'data_fst/'\n",
    "corpus_csv: Corpus = CSVClassificationCorpus(data_folder=data_folder, label_type='title_clean', column_name_map=column_name_map, skip_header=True, delimiter=',')\n",
    "    "
   ]
  },
  {
   "cell_type": "code",
   "execution_count": 177,
   "id": "dc3c5c61",
   "metadata": {
    "pycharm": {
     "name": "#%%\n"
    }
   },
   "outputs": [
    {
     "ename": "NameError",
     "evalue": "name 'corpus_csv' is not defined",
     "output_type": "error",
     "traceback": [
      "\u001B[1;31m---------------------------------------------------------------------------\u001B[0m",
      "\u001B[1;31mNameError\u001B[0m                                 Traceback (most recent call last)",
      "Input \u001B[1;32mIn [177]\u001B[0m, in \u001B[0;36m<cell line: 1>\u001B[1;34m()\u001B[0m\n\u001B[1;32m----> 1\u001B[0m \u001B[43mcorpus_csv\u001B[49m\n",
      "\u001B[1;31mNameError\u001B[0m: name 'corpus_csv' is not defined"
     ]
    }
   ],
   "source": [
    "corpus_csv"
   ]
  },
  {
   "cell_type": "code",
   "execution_count": null,
   "id": "e21de597",
   "metadata": {
    "pycharm": {
     "name": "#%%\n"
    }
   },
   "outputs": [],
   "source": []
  }
 ],
 "metadata": {
  "kernelspec": {
   "display_name": "Python 3 (ipykernel)",
   "language": "python",
   "name": "python3"
  },
  "language_info": {
   "codemirror_mode": {
    "name": "ipython",
    "version": 3
   },
   "file_extension": ".py",
   "mimetype": "text/x-python",
   "name": "python",
   "nbconvert_exporter": "python",
   "pygments_lexer": "ipython3",
   "version": "3.9.12"
  }
 },
 "nbformat": 4,
 "nbformat_minor": 5
}