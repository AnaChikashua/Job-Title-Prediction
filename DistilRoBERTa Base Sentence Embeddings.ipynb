{
 "cells": [
  {
   "cell_type": "code",
   "execution_count": 1,
   "metadata": {
    "scrolled": true
   },
   "outputs": [
    {
     "name": "stdout",
     "output_type": "stream",
     "text": [
      "Spark NLP version:  4.0.1\n",
      "Apache Spark version:  3.0.3\n"
     ]
    },
    {
     "data": {
      "text/html": [
       "\n",
       "            <div>\n",
       "                <p><b>SparkSession - in-memory</b></p>\n",
       "                \n",
       "        <div>\n",
       "            <p><b>SparkContext</b></p>\n",
       "\n",
       "            <p><a href=\"http://192.168.100.7:4041\">Spark UI</a></p>\n",
       "\n",
       "            <dl>\n",
       "              <dt>Version</dt>\n",
       "                <dd><code>v3.0.3</code></dd>\n",
       "              <dt>Master</dt>\n",
       "                <dd><code>local[*]</code></dd>\n",
       "              <dt>AppName</dt>\n",
       "                <dd><code>Spark NLP</code></dd>\n",
       "            </dl>\n",
       "        </div>\n",
       "        \n",
       "            </div>\n",
       "        "
      ],
      "text/plain": [
       "<pyspark.sql.session.SparkSession at 0x7f86943fe160>"
      ]
     },
     "execution_count": 1,
     "metadata": {},
     "output_type": "execute_result"
    }
   ],
   "source": [
    "import os\n",
    "import sys\n",
    "\n",
    "import sparknlp\n",
    "\n",
    "from sparknlp.base import *\n",
    "from sparknlp.common import *\n",
    "from sparknlp.annotator import *\n",
    "\n",
    "from pyspark.ml import Pipeline\n",
    "from pyspark.sql import SparkSession, Row\n",
    "\n",
    "import pandas as pd\n",
    "import numpy as np\n",
    "import seaborn as sns\n",
    "\n",
    "spark = sparknlp.start()\n",
    "\n",
    "print(\"Spark NLP version: \", sparknlp.version())\n",
    "print(\"Apache Spark version: \", spark.version)\n",
    "\n",
    "spark"
   ]
  },
  {
   "cell_type": "code",
   "execution_count": 98,
   "metadata": {},
   "outputs": [],
   "source": [
    "from scipy import spatial"
   ]
  },
  {
   "cell_type": "code",
   "execution_count": 5,
   "metadata": {},
   "outputs": [],
   "source": [
    "titleDF = spark.read \\\n",
    "      .option(\"header\", True) \\\n",
    "      .csv(\"data/training_all_data.csv\", sep=r'@')"
   ]
  },
  {
   "cell_type": "code",
   "execution_count": 93,
   "metadata": {},
   "outputs": [],
   "source": [
    "def get_model(data=None):\n",
    "    \n",
    "    document_assembler = DocumentAssembler()\n",
    "    document_assembler.setInputCol('sentence')\n",
    "    document_assembler.setOutputCol('sentence')\n",
    "    \n",
    "    embeddings = RoBertaSentenceEmbeddings.pretrained(\"sent_distilroberta_base\", \"en\") \\\n",
    "      .setInputCols(\"sentence\") \\\n",
    "      .setOutputCol(\"embeddings\")\n",
    "\n",
    "    pipeline = Pipeline(stages=[document_assembler, embeddings])\n",
    "    \n",
    "    if data is None:\n",
    "        data = spark.createDataFrame([[\"\"]]).toDF(\"sentence\")\n",
    "\n",
    "    pipeline = pipeline.fit(data)\n",
    "    return pipeline"
   ]
  },
  {
   "cell_type": "code",
   "execution_count": 103,
   "metadata": {},
   "outputs": [],
   "source": [
    "def get_similarity(input_list, pipeline):\n",
    "    df = spark.createDataFrame(pd.DataFrame({'sentence': input_list}))\n",
    "    result = pipeline.transform(df)\n",
    "    embeddings = []\n",
    "    for r in result.collect():\n",
    "        embeddings.append(r.embeddings[0].embeddings)\n",
    "    embeddings_matrix = np.array(embeddings)\n",
    "    cos_similarity = []\n",
    "    for embedding in embeddings_matrix:\n",
    "        temp_lst = []\n",
    "        for other_embedding in embeddings_matrix:\n",
    "            temp_lst.append(1 - spatial.distance.cosine(embedding, other_embedding))\n",
    "        cos_similarity.append(temp_lst)\n",
    "\n",
    "    return cos_similarity"
   ]
  },
  {
   "cell_type": "code",
   "execution_count": 102,
   "metadata": {},
   "outputs": [],
   "source": [
    "def plot_similarity(input_list, pipeline):\n",
    "    g = sns.heatmap(\n",
    "        get_similarity(input_list, pipeline),\n",
    "        xticklabels=input_list,\n",
    "        yticklabels=input_list,\n",
    "        vmin=0,\n",
    "        vmax=1,\n",
    "        cmap=\"YlOrRd\")\n",
    "    g.set_xticklabels(input_list, rotation=90)\n",
    "    g.set_title(\"Semantic Textual Similarity\")"
   ]
  },
  {
   "cell_type": "code",
   "execution_count": 100,
   "metadata": {},
   "outputs": [],
   "source": [
    "titles_str = ['data scientist','full stack developer', 'machine learning engineer','coach',\"ml engineer\",\"cleaner\",\"writer\",\"architector\"]\n"
   ]
  },
  {
   "cell_type": "code",
   "execution_count": 96,
   "metadata": {},
   "outputs": [
    {
     "name": "stdout",
     "output_type": "stream",
     "text": [
      "sent_distilroberta_base download started this may take some time.\n",
      "Approximate size to download 294.5 MB\n",
      "[OK!]\n"
     ]
    }
   ],
   "source": [
    "pipeline = get_model()"
   ]
  },
  {
   "cell_type": "code",
   "execution_count": 106,
   "metadata": {
    "scrolled": true
   },
   "outputs": [
    {
     "data": {
      "text/plain": [
       "[[1.0,\n",
       "  0.9735149003910449,\n",
       "  0.9771281120903189,\n",
       "  0.9692317877836188,\n",
       "  0.972986864746274,\n",
       "  0.9739099346482138,\n",
       "  0.9545214578013763,\n",
       "  0.9734894153570972],\n",
       " [0.9735149003910449,\n",
       "  1.0,\n",
       "  0.9841360124189009,\n",
       "  0.9783395802578673,\n",
       "  0.9877073744502342,\n",
       "  0.9803011233470791,\n",
       "  0.9551384121154634,\n",
       "  0.9828522413624884],\n",
       " [0.9771281120903189,\n",
       "  0.9841360124189009,\n",
       "  1.0,\n",
       "  0.9883560608006032,\n",
       "  0.9907269531742529,\n",
       "  0.9920654474234819,\n",
       "  0.9670465438237467,\n",
       "  0.9923192512849509],\n",
       " [0.9692317877836188,\n",
       "  0.9783395802578673,\n",
       "  0.9883560608006032,\n",
       "  1.0,\n",
       "  0.9888769633081811,\n",
       "  0.9906104186698705,\n",
       "  0.9632490649682217,\n",
       "  0.9923368260644007],\n",
       " [0.972986864746274,\n",
       "  0.9877073744502342,\n",
       "  0.9907269531742529,\n",
       "  0.9888769633081811,\n",
       "  1.0,\n",
       "  0.9907040801707819,\n",
       "  0.9639847554842566,\n",
       "  0.9911892554077876],\n",
       " [0.9739099346482138,\n",
       "  0.9803011233470791,\n",
       "  0.9920654474234819,\n",
       "  0.9906104186698705,\n",
       "  0.9907040801707819,\n",
       "  1.0,\n",
       "  0.9697098644456922,\n",
       "  0.9946766974438934],\n",
       " [0.9545214578013763,\n",
       "  0.9551384121154634,\n",
       "  0.9670465438237467,\n",
       "  0.9632490649682217,\n",
       "  0.9639847554842566,\n",
       "  0.9697098644456922,\n",
       "  1.0,\n",
       "  0.9642910666299488],\n",
       " [0.9734894153570972,\n",
       "  0.9828522413624884,\n",
       "  0.9923192512849509,\n",
       "  0.9923368260644007,\n",
       "  0.9911892554077876,\n",
       "  0.9946766974438934,\n",
       "  0.9642910666299488,\n",
       "  1.0]]"
      ]
     },
     "execution_count": 106,
     "metadata": {},
     "output_type": "execute_result"
    }
   ],
   "source": [
    "get_similarity(titles_str, pipeline)"
   ]
  },
  {
   "cell_type": "code",
   "execution_count": 104,
   "metadata": {
    "collapsed": true
   },
   "outputs": [
    {
     "data": {
      "image/png": "[encoded data removed]",
      "text/plain": [
       "<Figure size 432x288 with 2 Axes>"
      ]
     },
     "metadata": {
      "needs_background": "light"
     },
     "output_type": "display_data"
    }
   ],
   "source": [
    "plot_similarity(titles_str, pipeline)"
   ]
  },
  {
   "cell_type": "markdown",
   "metadata": {},
   "source": [
    "## Titles"
   ]
  },
  {
   "cell_type": "code",
   "execution_count": 105,
   "metadata": {},
   "outputs": [],
   "source": [
    "titles = titleDF.drop('description')"
   ]
  },
  {
   "cell_type": "code",
   "execution_count": 107,
   "metadata": {},
   "outputs": [
    {
     "name": "stdout",
     "output_type": "stream",
     "text": [
      "sent_distilroberta_base download started this may take some time.\n",
      "Approximate size to download 294.5 MB\n",
      "[OK!]\n"
     ]
    }
   ],
   "source": [
    "titles_pipeline = get_model(titles.toDF('sentence'))"
   ]
  },
  {
   "cell_type": "code",
   "execution_count": 108,
   "metadata": {},
   "outputs": [
    {
     "data": {
      "image/png": "[encoded data removed]",
      "text/plain": [
       "<Figure size 432x288 with 2 Axes>"
      ]
     },
     "metadata": {
      "needs_background": "light"
     },
     "output_type": "display_data"
    }
   ],
   "source": [
    "plot_similarity(titles_str, titles_pipeline)"
   ]
  },
  {
   "cell_type": "markdown",
   "metadata": {},
   "source": [
    "## Description"
   ]
  },
  {
   "cell_type": "code",
   "execution_count": 109,
   "metadata": {},
   "outputs": [],
   "source": [
    "description = titleDF.drop('title')"
   ]
  },
  {
   "cell_type": "code",
   "execution_count": 110,
   "metadata": {},
   "outputs": [
    {
     "name": "stdout",
     "output_type": "stream",
     "text": [
      "sent_distilroberta_base download started this may take some time.\n",
      "Approximate size to download 294.5 MB\n",
      "[OK!]\n"
     ]
    }
   ],
   "source": [
    "description_pipeline = get_model(titles.toDF('sentence'))"
   ]
  },
  {
   "cell_type": "code",
   "execution_count": 111,
   "metadata": {},
   "outputs": [
    {
     "data": {
      "image/png": "[encoded data removed]",
      "text/plain": [
       "<Figure size 432x288 with 2 Axes>"
      ]
     },
     "metadata": {
      "needs_background": "light"
     },
     "output_type": "display_data"
    }
   ],
   "source": [
    "plot_similarity(titles_str, description_pipeline)"
   ]
  }
 ],
 "metadata": {
  "kernelspec": {
   "display_name": "Python 3",
   "language": "python",
   "name": "python3"
  },
  "language_info": {
   "codemirror_mode": {
    "name": "ipython",
    "version": 3
   },
   "file_extension": ".py",
   "mimetype": "text/x-python",
   "name": "python",
   "nbconvert_exporter": "python",
   "pygments_lexer": "ipython3",
   "version": "3.8.5"
  }
 },
 "nbformat": 4,
 "nbformat_minor": 4
}
