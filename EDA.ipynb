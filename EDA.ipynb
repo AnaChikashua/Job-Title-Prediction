{
 "cells": [
  {
   "cell_type": "code",
   "execution_count": null,
   "metadata": {
    "collapsed": true,
    "pycharm": {
     "name": "#%%\n"
    }
   },
   "outputs": [],
   "source": []
  },
  {
   "cell_type": "code",
   "execution_count": null,
   "outputs": [],
   "source": [
    " fig, ax = plt.subplots()\n",
    "    fig.suptitle('title_clean', fontsize=12)\n",
    "    data['title_clean'].reset_index().groupby('title_clean').count().sort_values(by=\"index\").tail(10).plot(kind=\"barh\",\n",
    "                                                                                                           legend=False,\n",
    "                                                                                                           ax=ax).grid(\n",
    "        axis='x')\n",
    "    plt.show()"
   ],
   "metadata": {
    "collapsed": false,
    "pycharm": {
     "name": "#%%\n"
    }
   }
  }
 ],
 "metadata": {
  "kernelspec": {
   "display_name": "Python 3",
   "language": "python",
   "name": "python3"
  },
  "language_info": {
   "codemirror_mode": {
    "name": "ipython",
    "version": 2
   },
   "file_extension": ".py",
   "mimetype": "text/x-python",
   "name": "python",
   "nbconvert_exporter": "python",
   "pygments_lexer": "ipython2",
   "version": "2.7.6"
  }
 },
 "nbformat": 4,
 "nbformat_minor": 0
}