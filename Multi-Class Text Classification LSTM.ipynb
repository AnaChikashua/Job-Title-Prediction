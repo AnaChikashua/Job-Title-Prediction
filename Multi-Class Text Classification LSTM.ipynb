{
 "cells": [
  {
   "cell_type": "code",
   "execution_count": 1,
   "id": "97739372",
   "metadata": {
    "pycharm": {
     "name": "#%%\n"
    }
   },
   "outputs": [],
   "source": [
    "import numpy as np \n",
    "import pandas as pd\n",
    "import json\n",
    "import matplotlib.pyplot as plt\n",
    "import seaborn as sns\n",
    "from keras.preprocessing.text import Tokenizer\n",
    "from keras_preprocessing.sequence import pad_sequences\n",
    "from keras.models import Sequential\n",
    "from keras.layers import Dense, Embedding, LSTM, SpatialDropout1D\n",
    "from sklearn.model_selection import train_test_split\n",
    "from keras.utils.np_utils import to_categorical\n",
    "from keras.callbacks import EarlyStopping\n",
    "from keras.layers import Dropout\n",
    "import re\n",
    "from nltk.corpus import stopwords\n",
    "from nltk import word_tokenize\n",
    "STOPWORDS = set(stopwords.words('english'))\n",
    "import plotly.graph_objs as go\n",
    "from IPython.core.interactiveshell import InteractiveShell\n",
    "import plotly.figure_factory as ff\n",
    "InteractiveShell.ast_node_interactivity = 'all'\n",
    "from plotly.offline import iplot\n",
    "\n",
    "import nltk"
   ]
  },
  {
   "cell_type": "code",
   "execution_count": 2,
   "id": "7d29bcf2",
   "metadata": {
    "pycharm": {
     "name": "#%%\n"
    }
   },
   "outputs": [],
   "source": [
    "data = pd.read_csv(\"media/engineering_jobs.csv\")"
   ]
  },
  {
   "cell_type": "code",
   "execution_count": 3,
   "id": "2904452d",
   "metadata": {
    "pycharm": {
     "name": "#%%\n"
    }
   },
   "outputs": [],
   "source": [
    "json_data_path_66 = 'media/indeed_usa-indeed_usa_job_data__20211001_20211231_deduped_n_merged_20220305_004258919873466.ldjson'\n",
    "json_data_path_88 = 'media/indeed_usa-indeed_usa_job_data__20211001_20211231_deduped_n_merged_20220305_004328202689288.ldjson'"
   ]
  },
  {
   "cell_type": "code",
   "execution_count": 4,
   "id": "476d62be",
   "metadata": {
    "pycharm": {
     "name": "#%%\n"
    }
   },
   "outputs": [],
   "source": [
    "def read_json_data(file_path: str) -> pd.DataFrame:\n",
    "    list_data = []\n",
    "    with open(file_path, mode='r', errors='ignore', encoding=\"utf8\") as json_file:\n",
    "        for ob in json_file:\n",
    "            list_data.append(json.loads(ob))\n",
    "    return pd.DataFrame(list_data)"
   ]
  },
  {
   "cell_type": "code",
   "execution_count": 5,
   "id": "186be906",
   "metadata": {
    "pycharm": {
     "name": "#%%\n"
    }
   },
   "outputs": [],
   "source": [
    "indeed_66 = read_json_data(json_data_path_66)\n",
    "indeed_88 = read_json_data(json_data_path_88)"
   ]
  },
  {
   "cell_type": "code",
   "execution_count": 6,
   "id": "66e04bd1",
   "metadata": {
    "pycharm": {
     "name": "#%%\n"
    }
   },
   "outputs": [],
   "source": [
    "data = data.replace(np.nan,'')\n",
    "indeed_66 = indeed_66.replace(np.nan, '')\n",
    "indeed_88 = indeed_88.replace(np.nan, '')"
   ]
  },
  {
   "cell_type": "code",
   "execution_count": 7,
   "id": "21041c2f",
   "metadata": {
    "pycharm": {
     "name": "#%%\n"
    }
   },
   "outputs": [],
   "source": [
    "# data['description'] = data['description']+data['basic_qualifications']+data['prefered_qualifications']+data['category']+data['skills']\n",
    "indeed_66['job_description'] = indeed_66['job_description'] + indeed_66['category'] + indeed_66['company_description']\n",
    "indeed_88['job_description'] = indeed_88['job_description'] + indeed_88['category'] + indeed_88['company_description']"
   ]
  },
  {
   "cell_type": "code",
   "execution_count": 8,
   "id": "2649b1b1",
   "metadata": {
    "pycharm": {
     "name": "#%%\n"
    }
   },
   "outputs": [],
   "source": [
    "data = data[['title', 'description']]"
   ]
  },
  {
   "cell_type": "code",
   "execution_count": 9,
   "id": "67ff851c",
   "metadata": {
    "pycharm": {
     "name": "#%%\n"
    }
   },
   "outputs": [],
   "source": [
    "indeed = pd.concat([indeed_66[['job_title', 'job_description']], indeed_88[['job_title', 'job_description']]])\n",
    "\n",
    "indeed = indeed.rename(columns={'job_title': 'title', 'job_description': 'description'})"
   ]
  },
  {
   "cell_type": "code",
   "execution_count": 10,
   "id": "cdbda135",
   "metadata": {
    "pycharm": {
     "name": "#%%\n"
    }
   },
   "outputs": [],
   "source": [
    "data = pd.concat([data[['title', 'description']], indeed])"
   ]
  },
  {
   "cell_type": "code",
   "execution_count": 11,
   "id": "7865b7a0",
   "metadata": {
    "pycharm": {
     "name": "#%%\n"
    }
   },
   "outputs": [
    {
     "data": {
      "text/html": [
       "<div>\n",
       "<style scoped>\n",
       "    .dataframe tbody tr th:only-of-type {\n",
       "        vertical-align: middle;\n",
       "    }\n",
       "\n",
       "    .dataframe tbody tr th {\n",
       "        vertical-align: top;\n",
       "    }\n",
       "\n",
       "    .dataframe thead th {\n",
       "        text-align: right;\n",
       "    }\n",
       "</style>\n",
       "<table border=\"1\" class=\"dataframe\">\n",
       "  <thead>\n",
       "    <tr style=\"text-align: right;\">\n",
       "      <th></th>\n",
       "      <th>title</th>\n",
       "      <th>description</th>\n",
       "    </tr>\n",
       "  </thead>\n",
       "  <tbody>\n",
       "    <tr>\n",
       "      <th>0</th>\n",
       "      <td>software development manager</td>\n",
       "      <td>You are an experienced hands-on manager with a...</td>\n",
       "    </tr>\n",
       "    <tr>\n",
       "      <th>1</th>\n",
       "      <td>software development engineer</td>\n",
       "      <td>Amazon is driven by being “the world’s most cu...</td>\n",
       "    </tr>\n",
       "    <tr>\n",
       "      <th>2</th>\n",
       "      <td>software development engineer</td>\n",
       "      <td>Have you ever wondered what it takes to build ...</td>\n",
       "    </tr>\n",
       "    <tr>\n",
       "      <th>3</th>\n",
       "      <td>quality assurance engineer</td>\n",
       "      <td>Fire TV client software and service technologi...</td>\n",
       "    </tr>\n",
       "    <tr>\n",
       "      <th>4</th>\n",
       "      <td>software development engineer</td>\n",
       "      <td>The Amazon Devices team designs and engineers ...</td>\n",
       "    </tr>\n",
       "    <tr>\n",
       "      <th>...</th>\n",
       "      <td>...</td>\n",
       "      <td>...</td>\n",
       "    </tr>\n",
       "    <tr>\n",
       "      <th>49995</th>\n",
       "      <td>Biomedical Technician 1 Chicago IL</td>\n",
       "      <td>Job Description Summary As the Biomed Technici...</td>\n",
       "    </tr>\n",
       "    <tr>\n",
       "      <th>49996</th>\n",
       "      <td>Marketing Assistant</td>\n",
       "      <td>Sports Facilities Management, LLC- Cornerstone...</td>\n",
       "    </tr>\n",
       "    <tr>\n",
       "      <th>49997</th>\n",
       "      <td>Core Supervisor</td>\n",
       "      <td>We are looking for a Core Supervisor 40 hours ...</td>\n",
       "    </tr>\n",
       "    <tr>\n",
       "      <th>49998</th>\n",
       "      <td>Stores Supervisor</td>\n",
       "      <td>We are LAUSD. We are at the forefront of innov...</td>\n",
       "    </tr>\n",
       "    <tr>\n",
       "      <th>49999</th>\n",
       "      <td>Electrician</td>\n",
       "      <td>Facilities Maintenance – Virginia Beach, VA Th...</td>\n",
       "    </tr>\n",
       "  </tbody>\n",
       "</table>\n",
       "<p>149281 rows × 2 columns</p>\n",
       "</div>"
      ],
      "text/plain": [
       "                                    title  \\\n",
       "0            software development manager   \n",
       "1           software development engineer   \n",
       "2           software development engineer   \n",
       "3              quality assurance engineer   \n",
       "4           software development engineer   \n",
       "...                                   ...   \n",
       "49995  Biomedical Technician 1 Chicago IL   \n",
       "49996                 Marketing Assistant   \n",
       "49997                     Core Supervisor   \n",
       "49998                   Stores Supervisor   \n",
       "49999                         Electrician   \n",
       "\n",
       "                                             description  \n",
       "0      You are an experienced hands-on manager with a...  \n",
       "1      Amazon is driven by being “the world’s most cu...  \n",
       "2      Have you ever wondered what it takes to build ...  \n",
       "3      Fire TV client software and service technologi...  \n",
       "4      The Amazon Devices team designs and engineers ...  \n",
       "...                                                  ...  \n",
       "49995  Job Description Summary As the Biomed Technici...  \n",
       "49996  Sports Facilities Management, LLC- Cornerstone...  \n",
       "49997  We are looking for a Core Supervisor 40 hours ...  \n",
       "49998  We are LAUSD. We are at the forefront of innov...  \n",
       "49999  Facilities Maintenance – Virginia Beach, VA Th...  \n",
       "\n",
       "[149281 rows x 2 columns]"
      ]
     },
     "execution_count": 11,
     "metadata": {},
     "output_type": "execute_result"
    }
   ],
   "source": [
    "data"
   ]
  },
  {
   "cell_type": "code",
   "execution_count": 12,
   "id": "3c9750fb",
   "metadata": {
    "pycharm": {
     "name": "#%%\n"
    }
   },
   "outputs": [],
   "source": [
    "data = data[data['description']!='']"
   ]
  },
  {
   "cell_type": "code",
   "execution_count": 13,
   "id": "4165191b",
   "metadata": {
    "pycharm": {
     "name": "#%%\n"
    }
   },
   "outputs": [
    {
     "data": {
      "text/plain": [
       "data scientist                                       4016\n",
       "software developer                                   3585\n",
       "software development engineer                        1076\n",
       "Administrative Assistant                              380\n",
       "junior software developer                             335\n",
       "                                                     ... \n",
       "ICTS Supply Chain Risk Management Consultant            1\n",
       "Solution Architect - Early Science                      1\n",
       "Machine Operator - 3rd Shift - Hickman, KY              1\n",
       "Director of Nursing - DON - Registered Nurse - RN       1\n",
       "Stores Supervisor                                       1\n",
       "Name: title, Length: 88689, dtype: int64"
      ]
     },
     "execution_count": 13,
     "metadata": {},
     "output_type": "execute_result"
    }
   ],
   "source": [
    "data.title.value_counts()"
   ]
  },
  {
   "cell_type": "code",
   "execution_count": 14,
   "id": "310eec4f",
   "metadata": {
    "pycharm": {
     "name": "#%%\n"
    }
   },
   "outputs": [],
   "source": [
    "data = data[data.duplicated(subset=['title'], keep=False)]"
   ]
  },
  {
   "cell_type": "code",
   "execution_count": 16,
   "id": "4fa16764",
   "metadata": {
    "pycharm": {
     "name": "#%%\n"
    }
   },
   "outputs": [],
   "source": [
    "def print_plot(index):\n",
    "    example = data[data.index == index][['description', 'title']].values[0]\n",
    "    if len(example) > 0:\n",
    "        print(example[0])\n",
    "        print('title:', example[1])"
   ]
  },
  {
   "cell_type": "code",
   "execution_count": 17,
   "id": "64f92abf",
   "metadata": {
    "pycharm": {
     "name": "#%%\n"
    },
    "scrolled": true
   },
   "outputs": [
    {
     "name": "stdout",
     "output_type": "stream",
     "text": [
      "Amazon Lab126 is an inventive research and development company that designs and engineers high-profile consumer electronics. Lab126 began in 2004 as a subsidiary of Amazon.com, Inc., originally creating the best-selling Kindle family of products. Since then, we have produced groundbreaking devices like Fire tablets, Fire TV, and Amazon Echo. What will you help us create?The Role:We are a smart team of doers that work passionately to apply cutting-edge advances in robotics and software to solve real-world challenges that will transform our customers’ experiences in ways we can’t even imagine yet. Key responsibilities will be to conduct research and development in computer vision and related disciplines, and to collaborate with cross-functional engineering teams, including Amazon Robotics, to put the concepts you develop into production. You will determine where commercially available solution and academic research can be applied to solve Amazon business problems, as well as identify opportunities for innovation. You will use a large amount of data to train and test algorithms to bring them up to production level qualityIf this describes you, come join our team at Lab126 in the heart of Silicon Valley. The team is using computer vision, image recognition, machine learning, real-time and distributed systems to convert requirements into concrete deliverables. A Researcher on this team will translate business and functional requirements into working code. Comfort with a high degree of ambiguity and ability to solve problems that haven’t been solved to scale before are essential.Key responsibilities will be to conduct research and development in computer vision and related disciplines, and to collaborate with cross-functional engineering teams to put the concepts you develop into production. You will determine where commercially available solution and academic research can be applied to solve Amazon business problems, as well as identify opportunities for innovation. You will use a large amount of data to train and test algorithms to bring them up to production level quality. In this role, you will:· Research, design, implement and evaluate novel computer vision algorithms· Work on large-scale datasets, focusing on creating scalable and accurate computer vision systems in versatile application fields· Collaborate closely with team members on developing systems from prototyping to production level· Collaborate with teams spread all over the world· Work closely with software engineering teams to drive scalable, real-time implementations· Track general business activity and provide clear, compelling management reports on a regular basis\n",
      "title: applied robotics scientist\n"
     ]
    }
   ],
   "source": [
    "print_plot(10)"
   ]
  },
  {
   "cell_type": "code",
   "execution_count": 18,
   "id": "a5ebdf6b",
   "metadata": {
    "pycharm": {
     "name": "#%%\n"
    },
    "scrolled": false
   },
   "outputs": [
    {
     "name": "stdout",
     "output_type": "stream",
     "text": [
      "Amazon Lab126 is an inventive research and development company that designs and engineers high-profile consumer electronics. Lab126 began in 2004 as a subsidiary of Amazon.com, Inc., originally creating the best-selling Kindle family of products. Since then, we have produced groundbreaking devices like Fire tablets, Fire TV, and Amazon Echo. What will you help us create?The Role:We are a smart team of doers that work passionately to apply cutting-edge advances in robotics and software to solve real-world challenges that will transform our customers’ experiences in ways we can’t even imagine yet. Key responsibilities will be to conduct research and development in computer vision and related disciplines, and to collaborate with cross-functional engineering teams, including Amazon Robotics, to put the concepts you develop into production. You will determine where commercially available solution and academic research can be applied to solve Amazon business problems, as well as identify opportunities for innovation. You will use a large amount of data to train and test algorithms to bring them up to production level qualityIf this describes you, come join our team at Lab126 in the heart of Silicon Valley. The team is using computer vision, image recognition, machine learning, real-time and distributed systems to convert requirements into concrete deliverables. A Researcher on this team will translate business and functional requirements into working code. Comfort with a high degree of ambiguity and ability to solve problems that haven’t been solved to scale before are essential.Key responsibilities will be to conduct research and development in computer vision and related disciplines, and to collaborate with cross-functional engineering teams to put the concepts you develop into production. You will determine where commercially available solution and academic research can be applied to solve Amazon business problems, as well as identify opportunities for innovation. You will use a large amount of data to train and test algorithms to bring them up to production level quality. In this role, you will:· Research, design, implement and evaluate novel computer vision algorithms· Work on large-scale datasets, focusing on creating scalable and accurate computer vision systems in versatile application fields· Collaborate closely with team members on developing systems from prototyping to production level· Collaborate with teams spread all over the world· Work closely with software engineering teams to drive scalable, real-time implementations· Track general business activity and provide clear, compelling management reports on a regular basis\n",
      "title: applied robotics scientist\n"
     ]
    }
   ],
   "source": [
    "print_plot(10)"
   ]
  },
  {
   "cell_type": "code",
   "execution_count": 20,
   "id": "3b74171c",
   "metadata": {
    "pycharm": {
     "name": "#%%\n"
    }
   },
   "outputs": [],
   "source": [
    "def utils_preprocess_text(text, flg_stemm=False, flg_lemm=True):\n",
    "    ## clean (convert to lowercase and remove punctuations and characters and then strip)\n",
    "    text = re.sub(r\"(@\\[A-Za-z0-9]+)|([^0-9A-Za-z \\t])|(\\w+:\\/\\/\\S+)|^rt|http.+?\", \"\", str(text).lower().strip())\n",
    "     \n",
    "    ## Tokenize (convert from string to list)\n",
    "    lst_text = text.split()\n",
    "                \n",
    "    ## Stemming (remove -ing, -ly, ...)\n",
    "    if flg_stemm == True:\n",
    "        ps = nltk.stem.porter.PorterStemmer()\n",
    "        lst_text = [ps.stem(word) for word in lst_text]\n",
    "                \n",
    "    ## Lemmatisation (convert the word into root word)\n",
    "    if flg_lemm == True:\n",
    "        lem = nltk.stem.WordNetLemmatizer()\n",
    "        lst_text = [lem.lemmatize(word) for word in lst_text]\n",
    "            \n",
    "    ## back to string from list\n",
    "    text = \" \".join(lst_text)\n",
    "    return text\n",
    "data['description'] = data['description'].apply(lambda x: utils_preprocess_text(x))\n",
    "data['description'] = data['description'].apply(lambda x: x.lower())"
   ]
  },
  {
   "cell_type": "code",
   "execution_count": 21,
   "id": "1d379395",
   "metadata": {
    "pycharm": {
     "name": "#%%\n"
    }
   },
   "outputs": [
    {
     "name": "stderr",
     "output_type": "stream",
     "text": [
      "C:\\Users\\annch\\AppData\\Local\\Temp\\ipykernel_7536\\815708826.py:1: FutureWarning:\n",
      "\n",
      "The default value of regex will change from True to False in a future version.\n",
      "\n"
     ]
    }
   ],
   "source": [
    "data['description'] = data['description'].str.replace('\\d+', '')"
   ]
  },
  {
   "cell_type": "code",
   "execution_count": 22,
   "id": "bf7d0fad",
   "metadata": {
    "pycharm": {
     "name": "#%%\n"
    }
   },
   "outputs": [
    {
     "name": "stdout",
     "output_type": "stream",
     "text": [
      "Found 277829 unique tokens.\n"
     ]
    }
   ],
   "source": [
    "# The maximum number of words to be used. (most frequent)\n",
    "MAX_NB_WORDS = 50000\n",
    "# Max number of words in each complaint.\n",
    "MAX_SEQUENCE_LENGTH = 250\n",
    "# This is fixed.\n",
    "EMBEDDING_DIM = 100\n",
    "\n",
    "tokenizer = Tokenizer(num_words=MAX_NB_WORDS, filters='!\"#$%&()*+,-./:;<=>?@[\\]^_`{|}~', lower=True)\n",
    "tokenizer.fit_on_texts(data['description'].values)\n",
    "word_index = tokenizer.word_index\n",
    "print('Found %s unique tokens.' % len(word_index))"
   ]
  },
  {
   "cell_type": "code",
   "execution_count": 23,
   "id": "85c92c78",
   "metadata": {
    "pycharm": {
     "name": "#%%\n"
    }
   },
   "outputs": [
    {
     "name": "stdout",
     "output_type": "stream",
     "text": [
      "Shape of data tensor: (71434, 250)\n"
     ]
    }
   ],
   "source": [
    "X = tokenizer.texts_to_sequences(data['description'].values)\n",
    "X = pad_sequences(X, maxlen=MAX_SEQUENCE_LENGTH)\n",
    "print('Shape of data tensor:', X.shape)"
   ]
  },
  {
   "cell_type": "code",
   "execution_count": 24,
   "id": "f2c4c39b",
   "metadata": {
    "pycharm": {
     "name": "#%%\n"
    },
    "scrolled": false
   },
   "outputs": [
    {
     "data": {
      "text/html": [
       "<div>\n",
       "<style scoped>\n",
       "    .dataframe tbody tr th:only-of-type {\n",
       "        vertical-align: middle;\n",
       "    }\n",
       "\n",
       "    .dataframe tbody tr th {\n",
       "        vertical-align: top;\n",
       "    }\n",
       "\n",
       "    .dataframe thead th {\n",
       "        text-align: right;\n",
       "    }\n",
       "</style>\n",
       "<table border=\"1\" class=\"dataframe\">\n",
       "  <thead>\n",
       "    <tr style=\"text-align: right;\">\n",
       "      <th></th>\n",
       "      <th>title</th>\n",
       "      <th>description</th>\n",
       "    </tr>\n",
       "  </thead>\n",
       "  <tbody>\n",
       "    <tr>\n",
       "      <th>0</th>\n",
       "      <td>software development manager</td>\n",
       "      <td>you are an experienced handson manager with a ...</td>\n",
       "    </tr>\n",
       "    <tr>\n",
       "      <th>1</th>\n",
       "      <td>software development engineer</td>\n",
       "      <td>amazon is driven by being the world most custo...</td>\n",
       "    </tr>\n",
       "    <tr>\n",
       "      <th>2</th>\n",
       "      <td>software development engineer</td>\n",
       "      <td>have you ever wondered what it take to build i...</td>\n",
       "    </tr>\n",
       "    <tr>\n",
       "      <th>3</th>\n",
       "      <td>quality assurance engineer</td>\n",
       "      <td>fire tv client software and service technology...</td>\n",
       "    </tr>\n",
       "    <tr>\n",
       "      <th>4</th>\n",
       "      <td>software development engineer</td>\n",
       "      <td>the amazon device team design and engineer hig...</td>\n",
       "    </tr>\n",
       "    <tr>\n",
       "      <th>...</th>\n",
       "      <td>...</td>\n",
       "      <td>...</td>\n",
       "    </tr>\n",
       "    <tr>\n",
       "      <th>49991</th>\n",
       "      <td>Executive Assistant</td>\n",
       "      <td>empower healthcare solution is now hiring an e...</td>\n",
       "    </tr>\n",
       "    <tr>\n",
       "      <th>49992</th>\n",
       "      <td>Administrative Assistant</td>\n",
       "      <td>the qualified applicant will be responsible fo...</td>\n",
       "    </tr>\n",
       "    <tr>\n",
       "      <th>49996</th>\n",
       "      <td>Marketing Assistant</td>\n",
       "      <td>sport facility management llc cornerstone park...</td>\n",
       "    </tr>\n",
       "    <tr>\n",
       "      <th>49997</th>\n",
       "      <td>Core Supervisor</td>\n",
       "      <td>we are looking for a core supervisor  hour per...</td>\n",
       "    </tr>\n",
       "    <tr>\n",
       "      <th>49999</th>\n",
       "      <td>Electrician</td>\n",
       "      <td>facility maintenance virginia beach va the chr...</td>\n",
       "    </tr>\n",
       "  </tbody>\n",
       "</table>\n",
       "<p>71434 rows × 2 columns</p>\n",
       "</div>"
      ],
      "text/plain": [
       "                               title  \\\n",
       "0       software development manager   \n",
       "1      software development engineer   \n",
       "2      software development engineer   \n",
       "3         quality assurance engineer   \n",
       "4      software development engineer   \n",
       "...                              ...   \n",
       "49991            Executive Assistant   \n",
       "49992       Administrative Assistant   \n",
       "49996            Marketing Assistant   \n",
       "49997                Core Supervisor   \n",
       "49999                    Electrician   \n",
       "\n",
       "                                             description  \n",
       "0      you are an experienced handson manager with a ...  \n",
       "1      amazon is driven by being the world most custo...  \n",
       "2      have you ever wondered what it take to build i...  \n",
       "3      fire tv client software and service technology...  \n",
       "4      the amazon device team design and engineer hig...  \n",
       "...                                                  ...  \n",
       "49991  empower healthcare solution is now hiring an e...  \n",
       "49992  the qualified applicant will be responsible fo...  \n",
       "49996  sport facility management llc cornerstone park...  \n",
       "49997  we are looking for a core supervisor  hour per...  \n",
       "49999  facility maintenance virginia beach va the chr...  \n",
       "\n",
       "[71434 rows x 2 columns]"
      ]
     },
     "execution_count": 24,
     "metadata": {},
     "output_type": "execute_result"
    }
   ],
   "source": [
    "data"
   ]
  },
  {
   "cell_type": "code",
   "execution_count": 25,
   "id": "32577900",
   "metadata": {
    "pycharm": {
     "name": "#%%\n"
    }
   },
   "outputs": [
    {
     "name": "stdout",
     "output_type": "stream",
     "text": [
      "Shape of label tensor: (71434, 10844)\n"
     ]
    }
   ],
   "source": [
    "Y = pd.get_dummies(data['title']).values\n",
    "print('Shape of label tensor:', Y.shape)"
   ]
  },
  {
   "cell_type": "code",
   "execution_count": 26,
   "id": "4fafeb86",
   "metadata": {
    "pycharm": {
     "name": "#%%\n"
    }
   },
   "outputs": [
    {
     "name": "stdout",
     "output_type": "stream",
     "text": [
      "(64290, 250) (64290, 10844)\n",
      "(7144, 250) (7144, 10844)\n"
     ]
    }
   ],
   "source": [
    "X_train, X_test, Y_train, Y_test = train_test_split(X,Y, test_size = 0.10, random_state = 42)\n",
    "print(X_train.shape,Y_train.shape)\n",
    "print(X_test.shape,Y_test.shape)"
   ]
  },
  {
   "cell_type": "code",
   "execution_count": 27,
   "id": "4b6d1e75",
   "metadata": {
    "pycharm": {
     "name": "#%%\n"
    }
   },
   "outputs": [
    {
     "name": "stdout",
     "output_type": "stream",
     "text": [
      "Model: \"sequential\"\n",
      "_________________________________________________________________\n",
      " Layer (type)                Output Shape              Param #   \n",
      "=================================================================\n",
      " embedding (Embedding)       (None, 250, 100)          5000000   \n",
      "                                                                 \n",
      " spatial_dropout1d (SpatialD  (None, 250, 100)         0         \n",
      " ropout1D)                                                       \n",
      "                                                                 \n",
      " lstm (LSTM)                 (None, 100)               80400     \n",
      "                                                                 \n",
      " dense (Dense)               (None, 10844)             1095244   \n",
      "                                                                 \n",
      "=================================================================\n",
      "Total params: 6,175,644\n",
      "Trainable params: 6,175,644\n",
      "Non-trainable params: 0\n",
      "_________________________________________________________________\n",
      "None\n"
     ]
    }
   ],
   "source": [
    "model = Sequential()\n",
    "model.add(Embedding(MAX_NB_WORDS, EMBEDDING_DIM, input_length=X.shape[1]))\n",
    "model.add(SpatialDropout1D(0.2))\n",
    "model.add(LSTM(100, dropout=0.2, recurrent_dropout=0.2))\n",
    "model.add(Dense(10844, activation='softmax'))\n",
    "model.compile(loss='categorical_crossentropy', optimizer='adam', metrics=['accuracy'])\n",
    "print(model.summary())"
   ]
  },
  {
   "cell_type": "code",
   "execution_count": null,
   "id": "73db6c31",
   "metadata": {
    "pycharm": {
     "name": "#%%\n"
    }
   },
   "outputs": [
    {
     "name": "stdout",
     "output_type": "stream",
     "text": [
      "Epoch 1/10\n",
      " 59/905 [>.............................] - ETA: 3:36:45 - loss: 8.8458 - accuracy: 0.0479"
     ]
    }
   ],
   "source": [
    "epochs = 10\n",
    "batch_size = 64\n",
    "\n",
    "history = model.fit(X_train, Y_train, epochs=epochs, batch_size=batch_size,validation_split=0.1,callbacks=[EarlyStopping(monitor='val_loss', patience=3, min_delta=0.0001)])\n"
   ]
  },
  {
   "cell_type": "code",
   "execution_count": null,
   "id": "77637418",
   "metadata": {
    "pycharm": {
     "name": "#%%\n"
    }
   },
   "outputs": [],
   "source": [
    "accr = model.evaluate(X_test,Y_test)\n",
    "print('Test set\\n  Loss: {:0.3f}\\n  Accuracy: {:0.3f}'.format(accr[0],accr[1]))"
   ]
  },
  {
   "cell_type": "code",
   "execution_count": null,
   "id": "e9c5fe3e",
   "metadata": {
    "pycharm": {
     "name": "#%%\n"
    },
    "scrolled": true
   },
   "outputs": [],
   "source": [
    "plt.title('Loss')\n",
    "plt.plot(history.history['loss'], label='train')\n",
    "plt.plot(history.history['val_loss'], label='test')\n",
    "plt.legend()\n",
    "plt.show();"
   ]
  },
  {
   "cell_type": "code",
   "execution_count": null,
   "id": "b3a3a466",
   "metadata": {
    "pycharm": {
     "name": "#%%\n"
    }
   },
   "outputs": [],
   "source": [
    "plt.title('Accuracy')\n",
    "plt.plot(history.history['accuracy'], label='train')\n",
    "plt.plot(history.history['val_accuracy'], label='test')\n",
    "plt.legend()\n",
    "plt.show();"
   ]
  },
  {
   "cell_type": "code",
   "execution_count": null,
   "id": "a1968a28",
   "metadata": {
    "pycharm": {
     "name": "#%%\n"
    }
   },
   "outputs": [],
   "source": [
    "new_description = ['Experienced Data Scientist with a demonstrated history of working in the information technology and services industry. Skilled in Python (Programming Language), SQL and Data Science. Strong engineering professional graduated from Tbilisi State University.']\n",
    "seq = tokenizer.texts_to_sequences(new_description)\n",
    "padded = pad_sequences(seq, maxlen=MAX_SEQUENCE_LENGTH)\n",
    "pred = model.predict(padded)\n",
    "print(pred, np.argmax(pred))"
   ]
  },
  {
   "cell_type": "code",
   "execution_count": null,
   "id": "4e2ee9c2",
   "metadata": {
    "pycharm": {
     "name": "#%%\n"
    }
   },
   "outputs": [],
   "source": [
    "len(pred[0])"
   ]
  },
  {
   "cell_type": "code",
   "execution_count": null,
   "id": "4867de54",
   "metadata": {
    "pycharm": {
     "name": "#%%\n"
    }
   },
   "outputs": [],
   "source": [
    "pd.get_dummies(data['title']).columns[7608]"
   ]
  }
 ],
 "metadata": {
  "kernelspec": {
   "display_name": "Python 3 (ipykernel)",
   "language": "python",
   "name": "python3"
  },
  "language_info": {
   "codemirror_mode": {
    "name": "ipython",
    "version": 3
   },
   "file_extension": ".py",
   "mimetype": "text/x-python",
   "name": "python",
   "nbconvert_exporter": "python",
   "pygments_lexer": "ipython3",
   "version": "3.9.12"
  }
 },
 "nbformat": 4,
 "nbformat_minor": 5
}
