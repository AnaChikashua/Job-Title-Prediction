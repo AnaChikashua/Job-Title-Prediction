{
 "cells": [
  {
   "cell_type": "code",
   "execution_count": 2,
   "metadata": {
    "scrolled": false
   },
   "outputs": [
    {
     "name": "stdout",
     "output_type": "stream",
     "text": [
      "Spark NLP version:  4.0.1\n",
      "Apache Spark version:  3.0.3\n"
     ]
    },
    {
     "data": {
      "text/html": [
       "\n",
       "            <div>\n",
       "                <p><b>SparkSession - in-memory</b></p>\n",
       "                \n",
       "        <div>\n",
       "            <p><b>SparkContext</b></p>\n",
       "\n",
       "            <p><a href=\"http://192.168.100.7:4040\">Spark UI</a></p>\n",
       "\n",
       "            <dl>\n",
       "              <dt>Version</dt>\n",
       "                <dd><code>v3.0.3</code></dd>\n",
       "              <dt>Master</dt>\n",
       "                <dd><code>local[*]</code></dd>\n",
       "              <dt>AppName</dt>\n",
       "                <dd><code>Spark NLP</code></dd>\n",
       "            </dl>\n",
       "        </div>\n",
       "        \n",
       "            </div>\n",
       "        "
      ],
      "text/plain": [
       "<pyspark.sql.session.SparkSession at 0x7f861f00b070>"
      ]
     },
     "execution_count": 2,
     "metadata": {},
     "output_type": "execute_result"
    }
   ],
   "source": [
    "import os\n",
    "import sys\n",
    "\n",
    "import sparknlp\n",
    "\n",
    "from sparknlp.base import *\n",
    "from sparknlp.common import *\n",
    "from sparknlp.annotator import *\n",
    "\n",
    "from pyspark.ml import Pipeline\n",
    "from pyspark.sql import SparkSession, Row\n",
    "\n",
    "import pandas as pd\n",
    "import numpy as np\n",
    "import seaborn as sns\n",
    "\n",
    "spark = sparknlp.start()\n",
    "\n",
    "print(\"Spark NLP version: \", sparknlp.version())\n",
    "print(\"Apache Spark version: \", spark.version)\n",
    "\n",
    "spark"
   ]
  },
  {
   "cell_type": "code",
   "execution_count": 54,
   "metadata": {},
   "outputs": [],
   "source": [
    "import warnings\n",
    "warnings.filterwarnings('ignore')"
   ]
  },
  {
   "cell_type": "code",
   "execution_count": 67,
   "metadata": {},
   "outputs": [],
   "source": [
    "titleDF = spark.read \\\n",
    "      .option(\"header\", True) \\\n",
    "      .csv(\"data/training_all_data.csv\", sep=r'@')"
   ]
  },
  {
   "cell_type": "markdown",
   "metadata": {},
   "source": [
    "## Universal Sentence Encoder"
   ]
  },
  {
   "cell_type": "code",
   "execution_count": 26,
   "metadata": {},
   "outputs": [],
   "source": [
    "MODEL_NAME = \"tfhub_use\""
   ]
  },
  {
   "cell_type": "code",
   "execution_count": 97,
   "metadata": {},
   "outputs": [],
   "source": [
    "def train_model(data=None):\n",
    "    # Transforms the input text into a document usable by the SparkNLP pipeline.\n",
    "    document_assembler = DocumentAssembler()\n",
    "    document_assembler.setInputCol('text')\n",
    "    document_assembler.setOutputCol('document')\n",
    "\n",
    "    # Separates the text into individual tokens (words and punctuation).\n",
    "    tokenizer = Tokenizer()\n",
    "    tokenizer.setInputCols(['document'])\n",
    "    tokenizer.setOutputCol('token')\n",
    "\n",
    "    # Encodes the text as a single vector representing semantic features.\n",
    "    sentence_encoder = UniversalSentenceEncoder.pretrained(name=MODEL_NAME)\n",
    "    sentence_encoder.setInputCols(['document', 'token'])\n",
    "    sentence_encoder.setOutputCol('sentence_embeddings')\n",
    "\n",
    "    \n",
    "    nlp_pipeline = Pipeline(stages=[\n",
    "        document_assembler, \n",
    "        tokenizer,\n",
    "        sentence_encoder,\n",
    "    ])\n",
    "\n",
    "    if data is None:\n",
    "        data = spark.createDataFrame([['']]).toDF('text')\n",
    "    # Fit the model to an empty data frame so it can be used on inputs.\n",
    "    pipeline_model = nlp_pipeline.fit(data)\n",
    "    light_pipeline = LightPipeline(pipeline_model)\n",
    "    return light_pipeline"
   ]
  },
  {
   "cell_type": "code",
   "execution_count": 94,
   "metadata": {},
   "outputs": [],
   "source": [
    "def get_similarity(input_list, pipeline):\n",
    "    df = spark.createDataFrame(pd.DataFrame({'text': input_list}))\n",
    "    result = pipeline.transform(df)\n",
    "    embeddings = []\n",
    "    for r in result.collect():\n",
    "        embeddings.append(r.sentence_embeddings[0].embeddings)\n",
    "    embeddings_matrix = np.array(embeddings)\n",
    "    return np.matmul(embeddings_matrix, embeddings_matrix.transpose())"
   ]
  },
  {
   "cell_type": "code",
   "execution_count": 103,
   "metadata": {},
   "outputs": [],
   "source": [
    "def plot_similarity(input_list, pipeline):\n",
    "    g = sns.heatmap(\n",
    "        get_similarity(input_list, pipeline),\n",
    "        xticklabels=input_list,\n",
    "        yticklabels=input_list,\n",
    "        vmin=0,\n",
    "        vmax=1,\n",
    "        cmap=\"YlOrRd\")\n",
    "    g.set_xticklabels(input_list, rotation=90)\n",
    "    g.set_title(\"Semantic Textual Similarity\")"
   ]
  },
  {
   "cell_type": "markdown",
   "metadata": {},
   "source": [
    "## Empty data"
   ]
  },
  {
   "cell_type": "code",
   "execution_count": 98,
   "metadata": {
    "scrolled": true
   },
   "outputs": [
    {
     "name": "stdout",
     "output_type": "stream",
     "text": [
      "tfhub_use download started this may take some time.\n",
      "Approximate size to download 923.7 MB\n",
      "[OK!]\n"
     ]
    }
   ],
   "source": [
    "light_pipeline = train_model()"
   ]
  },
  {
   "cell_type": "code",
   "execution_count": 124,
   "metadata": {
    "scrolled": true
   },
   "outputs": [
    {
     "data": {
      "text/plain": [
       "array([[0.99999988, 0.46438187, 0.77487062, 0.01608185, 0.18539278,\n",
       "        0.09243643, 0.17981574, 0.09592149],\n",
       "       [0.46438187, 1.00000002, 0.61928707, 0.12485139, 0.15735073,\n",
       "        0.05021063, 0.17005501, 0.13668118],\n",
       "       [0.77487062, 0.61928707, 1.00000001, 0.01734407, 0.15231483,\n",
       "        0.0398553 , 0.14544656, 0.09201845],\n",
       "       [0.01608185, 0.12485139, 0.01734407, 1.00000008, 0.6378097 ,\n",
       "        0.70760421, 0.49218496, 0.40935979],\n",
       "       [0.18539278, 0.15735073, 0.15231483, 0.6378097 , 1.00000012,\n",
       "        0.53251252, 0.70747722, 0.41311258],\n",
       "       [0.09243643, 0.05021063, 0.0398553 , 0.70760421, 0.53251252,\n",
       "        0.99999991, 0.5210336 , 0.32769958],\n",
       "       [0.17981574, 0.17005501, 0.14544656, 0.49218496, 0.70747722,\n",
       "        0.5210336 , 0.99999996, 0.35955586],\n",
       "       [0.09592149, 0.13668118, 0.09201845, 0.40935979, 0.41311258,\n",
       "        0.32769958, 0.35955586, 1.00000009]])"
      ]
     },
     "execution_count": 124,
     "metadata": {},
     "output_type": "execute_result"
    }
   ],
   "source": [
    "titles_str = ['data scientist','full stack developer', 'machine learning engineer','coach',\"ml engineer\",\"cleaner\",\"writer\",\"architector\"]\n",
    "get_similarity(titles_str, light_pipeline)"
   ]
  },
  {
   "cell_type": "code",
   "execution_count": 125,
   "metadata": {},
   "outputs": [
    {
     "data": {
      "image/png": "[encoded data removed]",
      "text/plain": [
       "<Figure size 432x288 with 2 Axes>"
      ]
     },
     "metadata": {
      "needs_background": "light"
     },
     "output_type": "display_data"
    }
   ],
   "source": [
    "plot_similarity(titles_str, light_pipeline)"
   ]
  },
  {
   "cell_type": "markdown",
   "metadata": {},
   "source": [
    "# Title"
   ]
  },
  {
   "cell_type": "code",
   "execution_count": 75,
   "metadata": {},
   "outputs": [],
   "source": [
    "titles = titleDF.drop('description')"
   ]
  },
  {
   "cell_type": "code",
   "execution_count": 79,
   "metadata": {},
   "outputs": [
    {
     "data": {
      "text/plain": [
       "DataFrame[title: string]"
      ]
     },
     "execution_count": 79,
     "metadata": {},
     "output_type": "execute_result"
    }
   ],
   "source": [
    "titles"
   ]
  },
  {
   "cell_type": "code",
   "execution_count": 84,
   "metadata": {},
   "outputs": [
    {
     "name": "stdout",
     "output_type": "stream",
     "text": [
      "tfhub_use download started this may take some time.\n",
      "Approximate size to download 923.7 MB\n",
      "[OK!]\n"
     ]
    }
   ],
   "source": [
    "light_pipeline = train_model(titles.toDF('text'))"
   ]
  },
  {
   "cell_type": "code",
   "execution_count": 88,
   "metadata": {},
   "outputs": [
    {
     "data": {
      "text/plain": [
       "array([[0.99999988, 0.46438187, 0.77487063, 0.23825582],\n",
       "       [0.46438187, 1.00000002, 0.61928708, 0.19789837],\n",
       "       [0.77487063, 0.61928708, 1.0000001 , 0.18020624],\n",
       "       [0.23825582, 0.19789837, 0.18020624, 1.00000002]])"
      ]
     },
     "execution_count": 88,
     "metadata": {},
     "output_type": "execute_result"
    }
   ],
   "source": [
    "get_similarity(['data scientist','full stack developer', 'machine learning engineer','coach'], light_pipeline)"
   ]
  },
  {
   "cell_type": "code",
   "execution_count": 53,
   "metadata": {
    "scrolled": true
   },
   "outputs": [
    {
     "data": {
      "image/png": "[encoded data removed]",
      "text/plain": [
       "<Figure size 432x288 with 2 Axes>"
      ]
     },
     "metadata": {
      "needs_background": "light"
     },
     "output_type": "display_data"
    }
   ],
   "source": [
    "plot_similarity(['data scientist','full stack developer', 'machine learning engineer','coach'])"
   ]
  },
  {
   "cell_type": "markdown",
   "metadata": {},
   "source": [
    "# Description"
   ]
  },
  {
   "cell_type": "code",
   "execution_count": 89,
   "metadata": {},
   "outputs": [],
   "source": [
    "description = titleDF.drop('title')"
   ]
  },
  {
   "cell_type": "code",
   "execution_count": 90,
   "metadata": {},
   "outputs": [
    {
     "name": "stdout",
     "output_type": "stream",
     "text": [
      "tfhub_use download started this may take some time.\n",
      "Approximate size to download 923.7 MB\n",
      "[OK!]\n"
     ]
    }
   ],
   "source": [
    "light_pipeline = train_model(description.toDF('text'))"
   ]
  },
  {
   "cell_type": "code",
   "execution_count": 91,
   "metadata": {},
   "outputs": [
    {
     "data": {
      "text/plain": [
       "array([[0.99999988, 0.46438187, 0.77487063, 0.23825582],\n",
       "       [0.46438187, 1.00000002, 0.61928708, 0.19789837],\n",
       "       [0.77487063, 0.61928708, 1.0000001 , 0.18020624],\n",
       "       [0.23825582, 0.19789837, 0.18020624, 1.00000002]])"
      ]
     },
     "execution_count": 91,
     "metadata": {},
     "output_type": "execute_result"
    }
   ],
   "source": [
    "get_similarity(['data scientist','full stack developer', 'machine learning engineer','coach'], light_pipeline)"
   ]
  }
 ],
 "metadata": {
  "kernelspec": {
   "display_name": "Python 3",
   "language": "python",
   "name": "python3"
  },
  "language_info": {
   "codemirror_mode": {
    "name": "ipython",
    "version": 3
   },
   "file_extension": ".py",
   "mimetype": "text/x-python",
   "name": "python",
   "nbconvert_exporter": "python",
   "pygments_lexer": "ipython3",
   "version": "3.8.5"
  }
 },
 "nbformat": 4,
 "nbformat_minor": 4
}
